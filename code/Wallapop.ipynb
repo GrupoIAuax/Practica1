{
 "cells": [
  {
   "cell_type": "code",
   "execution_count": 5,
   "metadata": {},
   "outputs": [
    {
     "name": "stdout",
     "output_type": "stream",
     "text": [
      "Recibidos  1118  objetos.\n"
     ]
    }
   ],
   "source": [
    "import requests\n",
    "\n",
    "# Se define un diccionario con los headers que se enviarán en las peticiones\n",
    "headers = {\n",
    "    'Accept': '*/*',\n",
    "    'Accept-Language': 'es-ES,es;q=0.9,en;q=0.8',\n",
    "    'Access-Control-Request-Headers': 'deviceos,mpid,x-appversion,x-deviceid,x-deviceos',\n",
    "    'Access-Control-Request-Method': 'GET',\n",
    "    'Connection': 'keep-alive',\n",
    "    'Origin': 'https://es.wallapop.com',\n",
    "    'Referer': 'https://es.wallapop.com/',\n",
    "    'Sec-Fetch-Dest': 'empty',\n",
    "    'Sec-Fetch-Mode': 'cors',\n",
    "    'Sec-Fetch-Site': 'same-site',\n",
    "    'User-Agent': 'Mozilla/5.0 (Windows NT 10.0; Win64; x64) AppleWebKit/537.36 (KHTML, like Gecko) Chrome/110.0.0.0 Safari/537.36',\n",
    "}\n",
    "\n",
    "# Se define un diccionario con los parámetros que se enviarán en las peticiones\n",
    "params = {\n",
    "    'user_province': 'Madrid',\n",
    "    'keywords': '',  # Se llenará con cada búsqueda\n",
    "    'latitude': '40.41956',\n",
    "    'start': 0,  # Se actualizará en cada iteración del bucle\n",
    "    'user_region': 'Comunidad de Madrid',\n",
    "    'user_city': 'Madrid',\n",
    "    'search_id': '9f6a32b8-5541-487b-955a-45cfc138f6cb',\n",
    "    'country_code': 'ES',\n",
    "    'user_postal_code': '28014',\n",
    "    'items_count': '40',\n",
    "    'filters_source': 'search_box',\n",
    "    'order_by': 'most_relevance',\n",
    "    'step': '0',\n",
    "    'longitude': '-3.69196',\n",
    "}\n",
    "\n",
    "# Se define una lista vacía donde se almacenarán los resultados de la búsqueda\n",
    "listaDefinitiva = []\n",
    "\n",
    "# Se definen las búsquedas que se harán en la API\n",
    "busquedas = ['skate', 'Mancuernas', 'Piano','Raton']\n",
    "\n",
    "# Se hace una iteración por cada búsqueda\n",
    "for busqueda in busquedas:\n",
    "    # Se actualiza el valor del parámetro 'keywords'\n",
    "    params['keywords'] = busqueda\n",
    "    \n",
    "    # Se hace una iteración de 7 veces para hacer 7 peticiones a la API\n",
    "    for i in range(7):\n",
    "        # Se actualiza el valor del parámetro 'start' en cada iteración del bucle\n",
    "        params['start'] = i * 40\n",
    "        \n",
    "        # Se hace la petición a la API y se agrega el resultado a la lista\n",
    "        response = requests.get('https://api.wallapop.com/api/v3/general/search', params=params, headers=headers)\n",
    "        listaDefinitiva += response.json()['search_objects']\n",
    "\n",
    "# Se imprime la longitud de la lista con los resultados\n",
    "print(\"Recibidos \",len(listaDefinitiva),\" objetos.\")\n"
   ]
  },
  {
   "cell_type": "code",
   "execution_count": 6,
   "metadata": {},
   "outputs": [],
   "source": [
    "import json\n",
    "\n",
    "# Filtrar la lista y guardar los datos en un archivo JSON\n",
    "filtered_list = []\n",
    "for item in listaDefinitiva:\n",
    "    filtered_list.append({\n",
    "        'title': item['title'],\n",
    "        'price': item['price'],\n",
    "        'description': item['description'],\n",
    "        'images': item['images']\n",
    "    })\n",
    "with open('Wallapop.json', 'w') as f:\n",
    "    json.dump(filtered_list, f)"
   ]
  },
  {
   "cell_type": "code",
   "execution_count": 8,
   "metadata": {},
   "outputs": [
    {
     "data": {
      "text/html": [
       "<h2>Skate</h2>"
      ],
      "text/plain": [
       "<IPython.core.display.HTML object>"
      ]
     },
     "metadata": {},
     "output_type": "display_data"
    },
    {
     "data": {
      "text/html": [
       "<p>Precio: 100.0</p>"
      ],
      "text/plain": [
       "<IPython.core.display.HTML object>"
      ]
     },
     "metadata": {},
     "output_type": "display_data"
    },
    {
     "data": {
      "text/html": [
       "<p>Descripción: Skate montado por piezas:\n",
       "- Tabla SK8MAFIA x DCShoeCOUSA 8.5\"\n",
       "- Ejes IRON MFG TRUCKS HIGH BLACK 6\" (NUEVOS)\n",
       "- Ruedas SPITFIRE FORMULA FOUR CONICAL FULL 53MM 99A \n",
       "- Rodamientos SPITFIRE CHEAPSHOTS\n",
       "</p>"
      ],
      "text/plain": [
       "<IPython.core.display.HTML object>"
      ]
     },
     "metadata": {},
     "output_type": "display_data"
    },
    {
     "data": {
      "text/html": [
       "<img src=\"http://cdn.wallapop.com/images/10420/el/ta/__/c10420p883164957/i3189716685.jpg?pictureSize=W800\" width=\"400\"/>"
      ],
      "text/plain": [
       "<IPython.core.display.Image object>"
      ]
     },
     "metadata": {},
     "output_type": "display_data"
    },
    {
     "data": {
      "text/html": [
       "<img src=\"http://cdn.wallapop.com/images/10420/el/ta/__/c10420p883164957/i3189716693.jpg?pictureSize=W800\" width=\"400\"/>"
      ],
      "text/plain": [
       "<IPython.core.display.Image object>"
      ]
     },
     "metadata": {},
     "output_type": "display_data"
    },
    {
     "data": {
      "text/html": [
       "<h2>monopatin</h2>"
      ],
      "text/plain": [
       "<IPython.core.display.HTML object>"
      ]
     },
     "metadata": {},
     "output_type": "display_data"
    },
    {
     "data": {
      "text/html": [
       "<p>Precio: 10.0</p>"
      ],
      "text/plain": [
       "<IPython.core.display.HTML object>"
      ]
     },
     "metadata": {},
     "output_type": "display_data"
    },
    {
     "data": {
      "text/html": [
       "<p>Descripción: monopatin con una sola tarde de uso ,con ruedas nuevas y dibujo en la parte baja</p>"
      ],
      "text/plain": [
       "<IPython.core.display.HTML object>"
      ]
     },
     "metadata": {},
     "output_type": "display_data"
    },
    {
     "data": {
      "text/html": [
       "<img src=\"http://cdn.wallapop.com/images/10420/ek/k7/__/c10420p881061169/i3178005793.jpg?pictureSize=W800\" width=\"400\"/>"
      ],
      "text/plain": [
       "<IPython.core.display.Image object>"
      ]
     },
     "metadata": {},
     "output_type": "display_data"
    },
    {
     "data": {
      "text/html": [
       "<img src=\"http://cdn.wallapop.com/images/10420/ek/k7/__/c10420p881061169/i3178005820.jpg?pictureSize=W800\" width=\"400\"/>"
      ],
      "text/plain": [
       "<IPython.core.display.Image object>"
      ]
     },
     "metadata": {},
     "output_type": "display_data"
    },
    {
     "data": {
      "text/html": [
       "<h2>skate completo PlanB. Danny Way </h2>"
      ],
      "text/plain": [
       "<IPython.core.display.HTML object>"
      ]
     },
     "metadata": {},
     "output_type": "display_data"
    },
    {
     "data": {
      "text/html": [
       "<p>Precio: 89.9</p>"
      ],
      "text/plain": [
       "<IPython.core.display.HTML object>"
      ]
     },
     "metadata": {},
     "output_type": "display_data"
    },
    {
     "data": {
      "text/html": [
       "<p>Descripción: patín completo marca plan B. pro model Danny Way  es un skate de gama media alta . marca americana super reconocida \n",
       "medidas tabla 8,12 . ruedas 52mm rodamientos Abec 7. \n",
       "no se rebaja más !!!!!! </p>"
      ],
      "text/plain": [
       "<IPython.core.display.HTML object>"
      ]
     },
     "metadata": {},
     "output_type": "display_data"
    },
    {
     "data": {
      "text/html": [
       "<img src=\"http://cdn.wallapop.com/images/10420/ek/yd/__/c10420p881722275/i3181648508.jpg?pictureSize=W800\" width=\"400\"/>"
      ],
      "text/plain": [
       "<IPython.core.display.Image object>"
      ]
     },
     "metadata": {},
     "output_type": "display_data"
    },
    {
     "data": {
      "text/html": [
       "<img src=\"http://cdn.wallapop.com/images/10420/ek/yd/__/c10420p881722275/i3181648513.jpg?pictureSize=W800\" width=\"400\"/>"
      ],
      "text/plain": [
       "<IPython.core.display.Image object>"
      ]
     },
     "metadata": {},
     "output_type": "display_data"
    },
    {
     "data": {
      "text/html": [
       "<h2>Discos y barra mancuerna.Fitness</h2>"
      ],
      "text/plain": [
       "<IPython.core.display.HTML object>"
      ]
     },
     "metadata": {},
     "output_type": "display_data"
    },
    {
     "data": {
      "text/html": [
       "<p>Precio: 1.0</p>"
      ],
      "text/plain": [
       "<IPython.core.display.HTML object>"
      ]
     },
     "metadata": {},
     "output_type": "display_data"
    },
    {
     "data": {
      "text/html": [
       "<p>Descripción: Se venden varios discos de musculacion  de diferentes pesos de hierro y de caucho con goma para los impactos y golpes, mas 1 barra de mancuerna y varios cierres de barra.10kg.Musculacion .Culturismo.Gym gimnasio fitness.</p>"
      ],
      "text/plain": [
       "<IPython.core.display.HTML object>"
      ]
     },
     "metadata": {},
     "output_type": "display_data"
    },
    {
     "data": {
      "text/html": [
       "<img src=\"http://cdn.wallapop.com/images/10420/el/o0/__/c10420p882918795/i3187507014.jpg?pictureSize=W800\" width=\"400\"/>"
      ],
      "text/plain": [
       "<IPython.core.display.Image object>"
      ]
     },
     "metadata": {},
     "output_type": "display_data"
    },
    {
     "data": {
      "text/html": [
       "<img src=\"http://cdn.wallapop.com/images/10420/el/o0/__/c10420p882918795/i3187507029.jpg?pictureSize=W800\" width=\"400\"/>"
      ],
      "text/plain": [
       "<IPython.core.display.Image object>"
      ]
     },
     "metadata": {},
     "output_type": "display_data"
    },
    {
     "data": {
      "text/html": [
       "<h2>2 mancuernas Reebok</h2>"
      ],
      "text/plain": [
       "<IPython.core.display.HTML object>"
      ]
     },
     "metadata": {},
     "output_type": "display_data"
    },
    {
     "data": {
      "text/html": [
       "<p>Precio: 15.0</p>"
      ],
      "text/plain": [
       "<IPython.core.display.HTML object>"
      ]
     },
     "metadata": {},
     "output_type": "display_data"
    },
    {
     "data": {
      "text/html": [
       "<p>Descripción: 2 mancuernas Reebok de 1 kg\n",
       "Nuevas a estrenar</p>"
      ],
      "text/plain": [
       "<IPython.core.display.HTML object>"
      ]
     },
     "metadata": {},
     "output_type": "display_data"
    },
    {
     "data": {
      "text/html": [
       "<img src=\"http://cdn.wallapop.com/images/10420/ek/4x/__/c10420p880348423/i3172461320.jpg?pictureSize=W800\" width=\"400\"/>"
      ],
      "text/plain": [
       "<IPython.core.display.Image object>"
      ]
     },
     "metadata": {},
     "output_type": "display_data"
    },
    {
     "data": {
      "text/html": [
       "<img src=\"http://cdn.wallapop.com/images/10420/ek/4x/__/c10420p880348423/i3172461509.jpg?pictureSize=W800\" width=\"400\"/>"
      ],
      "text/plain": [
       "<IPython.core.display.Image object>"
      ]
     },
     "metadata": {},
     "output_type": "display_data"
    },
    {
     "data": {
      "text/html": [
       "<h2>Kit de mancuerna </h2>"
      ],
      "text/plain": [
       "<IPython.core.display.HTML object>"
      ]
     },
     "metadata": {},
     "output_type": "display_data"
    },
    {
     "data": {
      "text/html": [
       "<p>Precio: 60.0</p>"
      ],
      "text/plain": [
       "<IPython.core.display.HTML object>"
      ]
     },
     "metadata": {},
     "output_type": "display_data"
    },
    {
     "data": {
      "text/html": [
       "<p>Descripción: Mancuernas prácticamente nuevas ajustables de hierro fundido.\n",
       "Con barra de conexión para:\n",
       "Halterofilia\n",
       "Culturismo \n",
       "Aptitud\n",
       "Ejercicio en casa</p>"
      ],
      "text/plain": [
       "<IPython.core.display.HTML object>"
      ]
     },
     "metadata": {},
     "output_type": "display_data"
    },
    {
     "data": {
      "text/html": [
       "<img src=\"http://cdn.wallapop.com/images/10420/ej/ya/__/c10420p880039380/i3170853495.jpg?pictureSize=W800\" width=\"400\"/>"
      ],
      "text/plain": [
       "<IPython.core.display.Image object>"
      ]
     },
     "metadata": {},
     "output_type": "display_data"
    },
    {
     "data": {
      "text/html": [
       "<img src=\"http://cdn.wallapop.com/images/10420/ej/ya/__/c10420p880039380/i3170853523.jpg?pictureSize=W800\" width=\"400\"/>"
      ],
      "text/plain": [
       "<IPython.core.display.Image object>"
      ]
     },
     "metadata": {},
     "output_type": "display_data"
    },
    {
     "data": {
      "text/html": [
       "<h2>Piano electrónico Casio Celviano AP 260</h2>"
      ],
      "text/plain": [
       "<IPython.core.display.HTML object>"
      ]
     },
     "metadata": {},
     "output_type": "display_data"
    },
    {
     "data": {
      "text/html": [
       "<p>Precio: 590.0</p>"
      ],
      "text/plain": [
       "<IPython.core.display.HTML object>"
      ]
     },
     "metadata": {},
     "output_type": "display_data"
    },
    {
     "data": {
      "text/html": [
       "<p>Descripción: En muy buen estado, se ha usado muy poco.\n",
       "Incluye banqueta regulable y atril para partituras.\n",
       "\n",
       "«Teclado como el de un piano acústico»\n",
       "«El Casio AP 260 impresiona con un diseño de muy alta calidad, que uno no esperaría en este rango de precios.  El acabado en ébano y marfil de las superficies superiores de las teclas proporciona una sensación al tocar casi indistinguible del teclado de un piano real.»</p>"
      ],
      "text/plain": [
       "<IPython.core.display.HTML object>"
      ]
     },
     "metadata": {},
     "output_type": "display_data"
    },
    {
     "data": {
      "text/html": [
       "<img src=\"http://cdn.wallapop.com/images/10420/el/e9/__/c10420p882464173/i3185506329.jpg?pictureSize=W800\" width=\"400\"/>"
      ],
      "text/plain": [
       "<IPython.core.display.Image object>"
      ]
     },
     "metadata": {},
     "output_type": "display_data"
    },
    {
     "data": {
      "text/html": [
       "<img src=\"http://cdn.wallapop.com/images/10420/el/e9/__/c10420p882464173/i3185506353.jpg?pictureSize=W800\" width=\"400\"/>"
      ],
      "text/plain": [
       "<IPython.core.display.Image object>"
      ]
     },
     "metadata": {},
     "output_type": "display_data"
    },
    {
     "data": {
      "text/html": [
       "<h2>Temario Oposiciones Piano</h2>"
      ],
      "text/plain": [
       "<IPython.core.display.HTML object>"
      ]
     },
     "metadata": {},
     "output_type": "display_data"
    },
    {
     "data": {
      "text/html": [
       "<p>Precio: 80.0</p>"
      ],
      "text/plain": [
       "<IPython.core.display.HTML object>"
      ]
     },
     "metadata": {},
     "output_type": "display_data"
    },
    {
     "data": {
      "text/html": [
       "<p>Descripción: Se vende temario oposiciones de piano dos acordes</p>"
      ],
      "text/plain": [
       "<IPython.core.display.HTML object>"
      ]
     },
     "metadata": {},
     "output_type": "display_data"
    },
    {
     "data": {
      "text/html": [
       "<img src=\"http://cdn.wallapop.com/images/10420/ek/zf/__/c10420p881772151/i3181877576.jpg?pictureSize=W800\" width=\"400\"/>"
      ],
      "text/plain": [
       "<IPython.core.display.Image object>"
      ]
     },
     "metadata": {},
     "output_type": "display_data"
    },
    {
     "data": {
      "text/html": [
       "<h2>Piano </h2>"
      ],
      "text/plain": [
       "<IPython.core.display.HTML object>"
      ]
     },
     "metadata": {},
     "output_type": "display_data"
    },
    {
     "data": {
      "text/html": [
       "<p>Precio: 150.0</p>"
      ],
      "text/plain": [
       "<IPython.core.display.HTML object>"
      ]
     },
     "metadata": {},
     "output_type": "display_data"
    },
    {
     "data": {
      "text/html": [
       "<p>Descripción: Piano Yamaha</p>"
      ],
      "text/plain": [
       "<IPython.core.display.HTML object>"
      ]
     },
     "metadata": {},
     "output_type": "display_data"
    },
    {
     "data": {
      "text/html": [
       "<img src=\"http://cdn.wallapop.com/images/10420/eh/19/__/c10420p875139140/i3139988045.jpg?pictureSize=W800\" width=\"400\"/>"
      ],
      "text/plain": [
       "<IPython.core.display.Image object>"
      ]
     },
     "metadata": {},
     "output_type": "display_data"
    },
    {
     "data": {
      "text/html": [
       "<img src=\"http://cdn.wallapop.com/images/10420/eh/19/__/c10420p875139140/i3139988212.jpg?pictureSize=W800\" width=\"400\"/>"
      ],
      "text/plain": [
       "<IPython.core.display.Image object>"
      ]
     },
     "metadata": {},
     "output_type": "display_data"
    },
    {
     "data": {
      "text/html": [
       "<h2>Pack Lenovo poco usado Teclado y Raton inalambrico</h2>"
      ],
      "text/plain": [
       "<IPython.core.display.HTML object>"
      ]
     },
     "metadata": {},
     "output_type": "display_data"
    },
    {
     "data": {
      "text/html": [
       "<p>Precio: 35.0</p>"
      ],
      "text/plain": [
       "<IPython.core.display.HTML object>"
      ]
     },
     "metadata": {},
     "output_type": "display_data"
    },
    {
     "data": {
      "text/html": [
       "<p>Descripción: pack de teclado y raton usado pocos meses. Nuevo en Amazon cuesta 63 euros.\n",
       "\n",
       "Funciona perfectamente, lo vendo porque ya no lo necesito</p>"
      ],
      "text/plain": [
       "<IPython.core.display.HTML object>"
      ]
     },
     "metadata": {},
     "output_type": "display_data"
    },
    {
     "data": {
      "text/html": [
       "<img src=\"http://cdn.wallapop.com/images/10420/el/rt/__/c10420p883095944/i3189415071.jpg?pictureSize=W800\" width=\"400\"/>"
      ],
      "text/plain": [
       "<IPython.core.display.Image object>"
      ]
     },
     "metadata": {},
     "output_type": "display_data"
    },
    {
     "data": {
      "text/html": [
       "<img src=\"http://cdn.wallapop.com/images/10420/el/rt/__/c10420p883095944/i3189415076.jpg?pictureSize=W800\" width=\"400\"/>"
      ],
      "text/plain": [
       "<IPython.core.display.Image object>"
      ]
     },
     "metadata": {},
     "output_type": "display_data"
    },
    {
     "data": {
      "text/html": [
       "<h2>Ratón Ordenador</h2>"
      ],
      "text/plain": [
       "<IPython.core.display.HTML object>"
      ]
     },
     "metadata": {},
     "output_type": "display_data"
    },
    {
     "data": {
      "text/html": [
       "<p>Precio: 8.0</p>"
      ],
      "text/plain": [
       "<IPython.core.display.HTML object>"
      ]
     },
     "metadata": {},
     "output_type": "display_data"
    },
    {
     "data": {
      "text/html": [
       "<p>Descripción: Ratón Ordenador Inalámbrico sin cable </p>"
      ],
      "text/plain": [
       "<IPython.core.display.HTML object>"
      ]
     },
     "metadata": {},
     "output_type": "display_data"
    },
    {
     "data": {
      "text/html": [
       "<img src=\"http://cdn.wallapop.com/images/10420/ek/w4/__/c10420p881617455/i3181042815.jpg?pictureSize=W800\" width=\"400\"/>"
      ],
      "text/plain": [
       "<IPython.core.display.Image object>"
      ]
     },
     "metadata": {},
     "output_type": "display_data"
    },
    {
     "data": {
      "text/html": [
       "<h2>Raton Logitech G305</h2>"
      ],
      "text/plain": [
       "<IPython.core.display.HTML object>"
      ]
     },
     "metadata": {},
     "output_type": "display_data"
    },
    {
     "data": {
      "text/html": [
       "<p>Precio: 25.0</p>"
      ],
      "text/plain": [
       "<IPython.core.display.HTML object>"
      ]
     },
     "metadata": {},
     "output_type": "display_data"
    },
    {
     "data": {
      "text/html": [
       "<p>Descripción: Ratón Logitech G305 inalámbrico en buen estado.</p>"
      ],
      "text/plain": [
       "<IPython.core.display.HTML object>"
      ]
     },
     "metadata": {},
     "output_type": "display_data"
    },
    {
     "data": {
      "text/html": [
       "<img src=\"http://cdn.wallapop.com/images/10420/ek/n5/__/c10420p881198854/i3178646740.jpg?pictureSize=W800\" width=\"400\"/>"
      ],
      "text/plain": [
       "<IPython.core.display.Image object>"
      ]
     },
     "metadata": {},
     "output_type": "display_data"
    }
   ],
   "source": [
    "from IPython.display import display, HTML, Image\n",
    "\n",
    "for i, item in enumerate(listaDefinitiva):\n",
    "    if i % 100 == 0:  # muestra solo una muestra cada 100 items\n",
    "        display(HTML(f\"<h2>{item['title']}</h2>\"))\n",
    "        display(HTML(f\"<p>Precio: {item['price']}</p>\"))\n",
    "        display(HTML(f\"<p>Descripción: {item['description']}</p>\"))\n",
    "\n",
    "        count = 0\n",
    "        for image in item['images']:\n",
    "            if count < 2:  # muestra solo dos imagenes por item\n",
    "                display(Image(url=image['original'], width=400))\n",
    "                count += 1\n",
    "            else:\n",
    "                break\n"
   ]
  }
 ],
 "metadata": {
  "kernelspec": {
   "display_name": "notebook-clase",
   "language": "python",
   "name": "python3"
  },
  "language_info": {
   "codemirror_mode": {
    "name": "ipython",
    "version": 3
   },
   "file_extension": ".py",
   "mimetype": "text/x-python",
   "name": "python",
   "nbconvert_exporter": "python",
   "pygments_lexer": "ipython3",
   "version": "3.8.16"
  },
  "orig_nbformat": 4,
  "vscode": {
   "interpreter": {
    "hash": "9924992715d8bd8e59bdaf3f544ecff5807071578fbd7457774ffc10cb484eeb"
   }
  }
 },
 "nbformat": 4,
 "nbformat_minor": 2
}
