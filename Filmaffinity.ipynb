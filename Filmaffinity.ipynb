{
 "cells": [
  {
   "cell_type": "code",
   "execution_count": 1,
   "metadata": {},
   "outputs": [
    {
     "name": "stdout",
     "output_type": "stream",
     "text": [
      "['https://www.filmaffinity.com/es/film711648.html', 'https://www.filmaffinity.com/es/film363992.html', 'https://www.filmaffinity.com/es/film800295.html', 'https://www.filmaffinity.com/es/film970488.html', 'https://www.filmaffinity.com/es/film598422.html', 'https://www.filmaffinity.com/es/film835043.html', 'https://www.filmaffinity.com/es/film446167.html', 'https://www.filmaffinity.com/es/film486931.html', 'https://www.filmaffinity.com/es/film571895.html', 'https://www.filmaffinity.com/es/film708792.html', 'https://www.filmaffinity.com/es/film333734.html', 'https://www.filmaffinity.com/es/film159554.html', 'https://www.filmaffinity.com/es/film238028.html', 'https://www.filmaffinity.com/es/film366187.html', 'https://www.filmaffinity.com/es/film883704.html', 'https://www.filmaffinity.com/es/film205905.html', 'https://www.filmaffinity.com/es/film745751.html', 'https://www.filmaffinity.com/es/film787404.html', 'https://www.filmaffinity.com/es/film710593.html', 'https://www.filmaffinity.com/es/film347306.html', 'https://www.filmaffinity.com/es/film603597.html', 'https://www.filmaffinity.com/es/film375113.html', 'https://www.filmaffinity.com/es/film385125.html', 'https://www.filmaffinity.com/es/film721028.html', 'https://www.filmaffinity.com/es/film181556.html', 'https://www.filmaffinity.com/es/film522114.html', 'https://www.filmaffinity.com/es/film701670.html', 'https://www.filmaffinity.com/es/film730704.html', 'https://www.filmaffinity.com/es/film366417.html', 'https://www.filmaffinity.com/es/film762673.html', 'https://www.filmaffinity.com/es/film519065.html', 'https://www.filmaffinity.com/es/film715784.html', 'https://www.filmaffinity.com/es/film607127.html', 'https://www.filmaffinity.com/es/film826070.html', 'https://www.filmaffinity.com/es/film763705.html', 'https://www.filmaffinity.com/es/film668719.html', 'https://www.filmaffinity.com/es/film367692.html', 'https://www.filmaffinity.com/es/film196789.html', 'https://www.filmaffinity.com/es/film419483.html', 'https://www.filmaffinity.com/es/film654107.html', 'https://www.filmaffinity.com/es/film443503.html', 'https://www.filmaffinity.com/es/film163205.html', 'https://www.filmaffinity.com/es/film370368.html', 'https://www.filmaffinity.com/es/film413657.html', 'https://www.filmaffinity.com/es/film596730.html', 'https://www.filmaffinity.com/es/film968575.html', 'https://www.filmaffinity.com/es/film354914.html', 'https://www.filmaffinity.com/es/film388608.html', 'https://www.filmaffinity.com/es/film392480.html', 'https://www.filmaffinity.com/es/film626037.html', 'https://www.filmaffinity.com/es/film750301.html', 'https://www.filmaffinity.com/es/film372160.html', 'https://www.filmaffinity.com/es/film155010.html', 'https://www.filmaffinity.com/es/film726746.html', 'https://www.filmaffinity.com/es/film385464.html', 'https://www.filmaffinity.com/es/film402150.html', 'https://www.filmaffinity.com/es/film684718.html', 'https://www.filmaffinity.com/es/film594480.html', 'https://www.filmaffinity.com/es/film795770.html', 'https://www.filmaffinity.com/es/film344683.html', 'https://www.filmaffinity.com/es/film426314.html', 'https://www.filmaffinity.com/es/film811454.html', 'https://www.filmaffinity.com/es/film551351.html', 'https://www.filmaffinity.com/es/film420972.html', 'https://www.filmaffinity.com/es/film811998.html', 'https://www.filmaffinity.com/es/film353180.html', 'https://www.filmaffinity.com/es/film514584.html', 'https://www.filmaffinity.com/es/film228751.html', 'https://www.filmaffinity.com/es/film411856.html', 'https://www.filmaffinity.com/es/film871427.html', 'https://www.filmaffinity.com/es/film514619.html', 'https://www.filmaffinity.com/es/film781297.html', 'https://www.filmaffinity.com/es/film444796.html', 'https://www.filmaffinity.com/es/film459265.html', 'https://www.filmaffinity.com/es/film745443.html', 'https://www.filmaffinity.com/es/film476383.html', 'https://www.filmaffinity.com/es/film643373.html', 'https://www.filmaffinity.com/es/film728685.html', 'https://www.filmaffinity.com/es/film159596.html', 'https://www.filmaffinity.com/es/film279411.html', 'https://www.filmaffinity.com/es/film579952.html', 'https://www.filmaffinity.com/es/film895672.html', 'https://www.filmaffinity.com/es/film192119.html', 'https://www.filmaffinity.com/es/film432676.html', 'https://www.filmaffinity.com/es/film516497.html', 'https://www.filmaffinity.com/es/film448855.html', 'https://www.filmaffinity.com/es/film898553.html', 'https://www.filmaffinity.com/es/film483290.html', 'https://www.filmaffinity.com/es/film563877.html', 'https://www.filmaffinity.com/es/film896033.html', 'https://www.filmaffinity.com/es/film946589.html', 'https://www.filmaffinity.com/es/film171533.html', 'https://www.filmaffinity.com/es/film304093.html', 'https://www.filmaffinity.com/es/film435869.html', 'https://www.filmaffinity.com/es/film217719.html', 'https://www.filmaffinity.com/es/film487991.html', 'https://www.filmaffinity.com/es/film567410.html', 'https://www.filmaffinity.com/es/film778099.html', 'https://www.filmaffinity.com/es/film656790.html', 'https://www.filmaffinity.com/es/film226024.html']\n"
     ]
    }
   ],
   "source": [
    "import requests\n",
    "from bs4 import BeautifulSoup\n",
    "\n",
    "# Lista de URLs\n",
    "urls = ['https://www.filmaffinity.com/es/moviegenre.php?genre=TE&attr=rat_count&nodoc', 'https://www.filmaffinity.com/es/moviegenre.php?genre=CO&attr=rat_count&nodoc']\n",
    "\n",
    "movie_links = []\n",
    "\n",
    "for url in urls:\n",
    "    response = requests.get(url)\n",
    "    soup = BeautifulSoup(response.content, \"html.parser\")\n",
    "\n",
    "    for movie in soup.find_all(\"div\", class_=\"mc-title\"):\n",
    "        link = movie.find(\"a\")[\"href\"]\n",
    "        movie_links.append(link)\n",
    "\n",
    "print(movie_links)\n",
    "\n",
    "with open(\"urls.txt\", \"w\") as f:\n",
    "    for link in movie_links:\n",
    "        f.write(link + \"\\n\")\n"
   ]
  },
  {
   "cell_type": "code",
   "execution_count": 2,
   "metadata": {},
   "outputs": [
    {
     "name": "stdout",
     "output_type": "stream",
     "text": [
      "Título original: Twin Peaks The Return: Gotta Light?\n",
      "Género: Intriga.                 Terror |                 Surrealismo.                 Episodio de TV\n",
      "Sinopsis: Dirigido por Lynch y escrito por él y Mark Frost, \"Part 8\" (Gotta Light?) es el episodio más aclamado y aplaudido de \"Twin Peaks: The Return\", que presenta en blanco y negro, sin apenas diálogos (el guión consta de 15 páginas) y de forma muy surrealista la historia de origen del mal que azotó a ese pequeño pueblo mucho antes de los acontecimientos sucedidos con Laura Palmer. Fue nominado a múltiples Emmy y los Art Directors Guild en el año de su estreno.\n",
      "---------------------------------------------\n",
      "Título original: Psycho\n",
      "Género: Terror.                 Intriga.                 Thriller |                 Asesinos en serie.                 Slasher.                 Thriller psicológico.                 Película de culto\n",
      "Sinopsis: Marion Crane, una joven secretaria, tras cometer el robo de un dinero en su empresa, huye de la ciudad y, después de conducir durante horas, decide descansar en un pequeño y apartado motel de carretera regentado por un tímido joven, Norman Bates, que vive en la casa de al lado con su madre. (FILMAFFINITY)\n",
      "---------------------------------------------\n",
      "Título original: Black Mirror\n",
      "Género: Serie de TV.                 Ciencia ficción.                 Thriller.                 Terror.                 Drama |                 Internet / Informática.                 Comedia negra.                 Sátira.                 Serie de antología\n",
      "Sinopsis: Serie de TV (2011-2019). 5 temporadas. 22 episodios. Serie antológica creada por Charlie Brooker (\"Dead Set\") que muestra el lado oscuro de la tecnología y cómo esta afecta y puede alterar nuestra vida, a veces con consecuencias tan impredecibles como aterradoras. \"Black Mirror\" comenzó su emisión en 2011 en el canal británico Channel 4, con dos temporadas de tres episodios cada una, y tras producirse un especial de Navidad la serie fue comprada y renovada por Netflix, que ya ha producido tres temporadas más. (FILMAFFINITY)\n",
      "---------------------------------------------\n",
      "Título original: Freaks\n",
      "Género: Drama.                 Terror |                 Discapacidad.                 Circo.                 Película de culto\n",
      "Sinopsis: En un circo lleno de seres deformes, tullidos y personas con diversas amputaciones, Hans, uno de los enanos, hereda una fortuna. A partir de ese momento, Cleopatra, una bella trapecista, intentará seducirlo para hacerse con su dinero. Para lograr su objetivo, traza un plan contando con la complicidad de Hércules, el forzudo del circo. (FILMAFFINITY)\n",
      "---------------------------------------------\n",
      "Título original: The Shining\n",
      "Género: Terror |                 Sobrenatural.                 Casas encantadas.                 Fantasmas.                 Drama psicológico.                 Película de culto\n",
      "Sinopsis: Jack Torrance se traslada con su mujer y su hijo de siete años al impresionante hotel Overlook, en Colorado, para encargarse del mantenimiento de las instalaciones durante la temporada invernal, época en la que permanece cerrado y aislado por la nieve. Su objetivo es encontrar paz y sosiego para escribir una novela. Sin embargo, poco después de su llegada al hotel, al mismo tiempo que Jack empieza a padecer inquietantes trastornos de personalidad, se suceden extraños y espeluznantes fenómenos paranormales. (FILMAFFINITY)\n",
      "---------------------------------------------\n",
      "Título original: Doctor Who: Blink\n",
      "Género: Terror.                 Thriller.                 Ciencia ficción |                 Doctor Who.                 Sobrenatural.                 Monstruos.                 Mediometraje.                 Episodio de TV\n",
      "Sinopsis: En una vieja casa abandonada, Sally Sparrow encuentra un mensaje fechado en 1969 y dirigido a ella. Mientras sus amigos empiezan a desaparecer en extrañas circunstancias, alguien de otra época intenta ponerse en contacto con ella para avisarle de que corre un grave peligro. Episodio de la tercera temporada del Doctor Who, ganador de numerosos premios y considerado por crítica y público como uno de los mejores de la historia de la serie. (FILMAFFINITY)\n",
      "---------------------------------------------\n",
      "Título original: Das Cabinet des Dr. Caligariaka\n",
      "Género: Terror |                 Expresionismo alemán.                 Circo.                 Asesinos en serie.                 Cine mudo.                 Película de culto\n",
      "Sinopsis: Sentado en un banco de un parque, Francis anima a su compañero Alan para que vayan a Holstenwall, una ciudad del norte de Alemania, a ver el espectáculo ambulante del doctor Caligari. Un empleado municipal que le niega al doctor el permiso para actuar, aparece asesinado al día siguiente. Francis y Alan acuden a ver al doctor Caligari y a Cesare, su ayudante sonámbulo, que le anuncia a Alan su porvenir: vivirá hasta el amanecer. (FILMAFFINITY)\n",
      "---------------------------------------------\n",
      "Título original: Faust – Eine deutsche Volkssage\n",
      "Género: Fantástico.                 Terror.                 Drama |                 Cine mudo.                 Expresionismo alemán\n",
      "Sinopsis: Relata la historia de un célebre pensador que después de buscar sin descanso la esencia del conocimiento y la verdad oculta de las cosas, es tentado por el diablo y vende su alma. (FILMAFFINITY)\n",
      "---------------------------------------------\n",
      "Título original: Michael Jackson's Thrilleraka\n",
      "Género: Musical.                 Terror |                 Zombis.                 Hombres lobo.                 Videoclip.                 Cortometraje\n",
      "Sinopsis: Tras asistir a la proyección de una película, una pareja es atacada por una horda de zombies hambrientos de sangre. Legendario videoclip musical, uno de los más influyentes jamás realizados, que contó con una versión corta y otra larga, de 13 min, y que cuenta con una historia narrativa además del número musical de Jackson. En 2009 fue seleccionado por la Biblioteca del Congreso de los Estados Unidos como una de las obras cinematográficas más relevantes de la historia, y en 2017 fue restaurado en 3D y proyectado en el Festival de Cine de Venecia, en una versión supervisada por el propio John Landis. (FILMAFFINITY)\n",
      "---------------------------------------------\n",
      "Título original: Alien\n",
      "Género: Ciencia ficción.                 Terror |                 Extraterrestres.                 Aventura espacial.                 Película de culto\n",
      "Sinopsis: De regreso a la Tierra, la nave de carga Nostromo interrumpe su viaje y despierta a sus siete tripulantes. El ordenador central, MADRE, ha detectado la misteriosa transmisión de una forma de vida desconocida, procedente de un planeta cercano aparentemente deshabitado. La nave se dirige entonces al extraño planeta para investigar el origen de la comunicación. (FILMAFFINITY)\n",
      "---------------------------------------------\n",
      "Título original: The Twilight Zoneaka\n",
      "Género: Serie de TV.                 Fantástico.                 Terror.                 Ciencia ficción.                 Intriga.                 Thriller |                 Serie de antología\n",
      "Sinopsis: Serie de TV (1959-1964). 5 temporadas. 156 episodios. \"The Twilight Zone\", conocida en España como \"La Dimensión desconocida\" o \"En los límites de la realidad\", fue una serie mayúscula de la televisión estadounidense que marcó el porvenir de la ciencia ficción tanto en la pequeña como en la gran pantalla. Creada, escrita y narrada por Rod Serling, en cada episodio encontramos temas cotidianos, del día a día, apoyados en géneros como la ciencia ficción, la fantasía, el terror o la intriga. Todos ellos con un enorme trasfondo crítico social a la vez que metafórico. (FILMAFFINITY)\n",
      "---------------------------------------------\n",
      "Título original: Les Diaboliques\n",
      "Género: Intriga.                 Thriller.                 Terror |                 Crimen.                 Thriller psicológico.                 Película de culto\n",
      "Sinopsis: El director de un colegio, el señor Delasalle, convive con su esposa y su amante, la profesora Horner. Pero las dos mujeres, cansadas de sufrir la constante tiranía y malos tratos del hombre que comparten, deciden que esa situación no puede continuar... (FILMAFFINITY)\n",
      "---------------------------------------------\n",
      "Título original: Nosferatu – Eine Symphonie des Grauens\n",
      "Género: Terror |                 Expresionismo alemán.                 Cine mudo.                 Película de culto.                 Vampiros.                 Siglo XIX\n",
      "Sinopsis: Año 1838. En la ciudad de Wisborg viven felices el joven Hutter y su mujer Ellen, hasta que el oscuro agente inmobiliario Knock decide enviar a Hutter a Transilvania para cerrar un negocio con el conde Orlok. Se trata de la venta de una finca de Wisborg, que linda con la casa de Hutter. Durante el largo viaje, Hutter pernocta en una posada, donde ojea un viejo tratado sobre vampiros que encuentra en su habitación. Una vez en el castillo, es recibido por el siniestro conde. Al día siguiente, Hutter amanece con dos pequeñas marcas en el cuello, que interpreta como picaduras de mosquito. Una vez firmado el contrato, descubre que el conde es, en realidad, un vampiro. Al verle partir hacia su nuevo hogar, Hutter teme por Ellen. (FILMAFFINITY)\n",
      "---------------------------------------------\n",
      "Título original: Monsutâ (Monster)\n",
      "Género: Serie de TV.                 Animación.                 Intriga.                 Thriller.                 Terror |                 Manga.                 Asesinos en serie.                 Crimen.                 Animación para adultos.                 Policíaco.                 Road Movie.                 Años 80.                 Años 90.                 Medicina\n",
      "Sinopsis: Serie de TV (2004-2005). 74 episodios. El doctor Kenzo Tenma es un prometedor neurocirujano japonés que ejerce en el Eisler Memorial Hospital de Dusseldorf. Lo tiene todo en la vida; un trabajo que le apasiona y en el que demuestra una habilidad increíble, y una novia rica y guapa. Sin embargo, un día decide ignorar una orden de su superior y salva a un niño desconocido en lugar de la vida del alcalde de la ciudad. Como consecuencia de esto pierde su privilegiado trabajo y a su novia. Poco después, los médicos que lo destituyeron aparecen muertos y él se convierte en principal sospechoso. Tenma está dispuesto a llegar hasta el fondo de éstas y otras muertes e investigar la verdad sobre el monstruo que hay detrás de todo el asunto.\n",
      "---------------------------------------------\n",
      "Título original: Cuentos de terror\n",
      "Género: Serie de TV.                 Terror\n",
      "Sinopsis: Microprograma en el que Laiseca introducía al público en el mundo de lo sobrenatural, relatando las más inquietantes historias de terror. Tales relatos no se debían solamente a las mejores figuras del género dentro de la literatura (Poe, Lovecraft, Horacio Quiroga, Lafcadio Hearn, King, John Collier, Giovanni Verga, Mujica Láinez), sino que, gracias al afán compilador de Laiseca, provenían también de creadores ligados al cine y la televisión, como Akira Kurosawa y Rod Serling (alma mater de La dimensión desconocida).\n",
      "---------------------------------------------\n",
      "Título original: The Last of Us\n",
      "Género: Serie de TV.                 Terror.                 Drama.                 Ciencia ficción.                 Thriller.                 Acción |                 Futuro postapocalíptico.                 Pandemias.                 Videojuego\n",
      "Sinopsis: Serie de TV (2023-). 1 temporada. 9 episodios. Veinte años después de la destrucción de la civilización moderna a causa de un hongo -el cordyceps- que se adueña del cuerpo de los humanos, uno de los supervivientes, Joel, recibe el encargo de sacar a la joven Ellie de una opresiva zona de cuarentena. Juntos cruzan Estados Unidos ayudándose mutuamente para intentar sobrevivir... Adaptación del aclamado videojuego homónimo de Naughty Dog. \n",
      "\n",
      "Renovada por una segunda temporada.\n",
      "---------------------------------------------\n",
      "Título original: Stranger Things\n",
      "Género: Serie de TV.                 Thriller.                 Terror.                 Fantástico.                 Drama |                 Sobrenatural.                 Secuestros / Desapariciones.                 Años 80.                 Monstruos\n",
      "Sinopsis: Serie de TV (2016). 8 episodios. Homenaje a los clásicos misterios sobrenaturales de los años 80, \"Stranger Things\" es la historia de un niño que desaparece en el pequeño pueblo de Hawkins, Indiana, sin dejar rastro en 1983. En su búsqueda desesperada, tanto sus amigos y familiares como el sheriff local se ven envueltos en un enigma extraordinario: experimentos ultrasecretos, fuerzas paranormales terroríficas y una niña muy, muy rara... (FILMAFFINITY)\n",
      "---------------------------------------------\n",
      "Título original: Chainsaw Man\n",
      "Género: Serie de TV.                 Animación.                 Terror.                 Fantástico.                 Acción.                 Comedia |                 Gore.                 Animación para adultos.                 Manga\n",
      "Sinopsis: Denji es un joven pobre que haría cualquier cosa por dinero, incluso perseguir demonios con su perro diabólico Pochita. Es una persona simple, con sueños simples, que se está ahogando en una montaña de deudas. Pero su triste vida da un vuelco cuando le traiciona alguien en quien confía. Ahora, con el poder del demonio dentro, Denji da la bienvenida a un hombre nuevo —¡'Chainsaw Man'!.\n",
      "---------------------------------------------\n",
      "Título original: Kill Bill Chapter 3: The Origin of O-Ren\n",
      "Género: Animación.                 Acción.                 Terror |                 Animación para adultos.                 Cortometraje (animación)\n",
      "Sinopsis: Cortometraje de animación producido por el estudio japonés Production I.G, y que cuenta la historia del personaje de Kill Bill \"O-Ren Ishii\" en un estilo ultraviolento. Fue incluido como parte de las películas de Quentin Tarantino y su versión completa (9 minutos) se estrenó en el corte extendido \"The Whole Bloody Affair Version\".\n",
      "---------------------------------------------\n",
      "Título original: Alfred Hitchcock's The Birds\n",
      "Género: Terror |                 Animales.                 Aves / Pájaros.                 Película de culto\n",
      "Sinopsis: Melanie, una joven rica y snob de la alta sociedad de San Francisco, conoce casualmente en una pajarería  al abogado Mitch Brenner. Él, que conoce por la prensa la alocada vida de Melanie, la trata con indiferencia y se va de la tienda dejándola bastante irritada. Ella, que no está acostumbrada a que la traten así, encarga unos periquitos y se presenta en la casa de la madre de Mitch, en Bodega Bay. En cuanto llega, los pájaros, enloquecidos, empiezan a atacar salvajemente a los habitantes del lugar. La situación se agrava a medida que avanzan las horas. (FILMAFFINITY)\n",
      "---------------------------------------------\n",
      "Título original: Mushishi - Mushi-Shi (Bugmaster)\n",
      "Género: Serie de TV.                 Animación.                 Drama.                 Fantástico.                 Aventuras.                 Terror.                 Intriga |                 Manga\n",
      "Sinopsis: Serie de TV (2005-2006). 1 temporada. 26 episodios. Como Mushishi o experto en Mushis, Ginko recorre el mundo ayudando a aquellos cuyas vidas se han visto trastornadas, de una forma u otra, al entrar en contacto con estas criaturas extrañas. Los Mushis habitan, en ocasiones, en los seres humanos, parasitándolos. A cambio, pueden otorgar habilidades extraordinarias a su anfitrión... En 2006, Katsuhiro Ôtomo (Akira, Memories) realizó una versión con actores reales de esta serie. (FILMAFFINITY)\n",
      "---------------------------------------------\n",
      "Título original: Onibaba\n",
      "Género: Drama.                 Fantástico.                 Terror |                 Sobrenatural.                 Japón feudal.                 Siglo XIV.                 Película de culto.                 J-Horror\n",
      "Sinopsis: En el Japón medieval, la madre y la esposa de un guerrero esperan su vuelta del frente. Sobreviven engañando a los soldados perdidos en los campos, a los que asesinan para luego vender sus pertenencias... (FILMAFFINITY)\n",
      "---------------------------------------------\n",
      "Título original: The Innocents\n",
      "Género: Terror.                 Intriga |                 Sobrenatural.                 Casas encantadas.                 Fantasmas\n",
      "Sinopsis: Una puritana institutriz es contratada para hacerse cargo de la educación de dos niños huérfanos que viven en una apartada mansión rural. Pronto empieza a sospechar que los antiguos criados, muertos hace tiempo, ejercen todavía una perniciosa influencia en la vida de los niños. Basada en la novela de Henry James \"Otra vuelta de tuerca\". (FILMAFFINITY)\n",
      "---------------------------------------------\n",
      "Título original: Rosemary's Baby\n",
      "Género: Terror.                 Drama |                 Sobrenatural.                 Posesiones / Exorcismos.                 Drama psicológico.                 Película de culto.                 Brujería.                 Maternidad.                 Nochevieja / Año nuevo\n",
      "Sinopsis: Los Woodhouse, un matrimonio neoyorquino, se mudan a un edificio situado frente a Central Park, sobre el cual, según un amigo, pesa una maldición. Una vez instalados, se hacen amigos de Minnie y Roman Castevet, unos vecinos que los colman de atenciones. Ante la perspectiva de un buen futuro, los Woodhouse deciden tener un hijo; pero, cuando Rosemary se queda embarazada, lo único que recuerda es haber hecho el amor con una extraña criatura que le ha dejado el cuerpo lleno de marcas. Con el paso del tiempo, Rosemary empieza a sospechar que su embarazo no es normal. (FILMAFFINITY)\n",
      "---------------------------------------------\n",
      "Título original: The Last of Us: When You're Lost in the Darkness\n",
      "Género: Terror |                 Futuro postapocalíptico.                 Pandemias.                 Videojuego.                 Episodio de TV\n",
      "Sinopsis: La vida de Joel da un giro dramático en mitad del pánico provocado por sucesos de carácter apocalíptico cuando una epidemia global provocada por un peligroso hongo comienza a expandirse violentamente entre los humanos amenazando con destruir toda la civilización moderna... Episodio piloto de \"The Last of Us\". (FILMAFFINITY)\n",
      "---------------------------------------------\n",
      "Título original: Kaidanaka\n",
      "Género: Fantástico.                 Terror.                 Drama |                 Sobrenatural.                 Fantasmas.                 J-Horror.                 Samuráis.                 Película de episodios\n",
      "Sinopsis: Filme basado en cuatro historias del escritor Lafcadio Hearn. \n",
      "- \"Pelo negro\": Un samurái no soporta a su mujer y la abandona por una princesa; y años después vuelve a casa para realizar un terrible descubrimiento. \n",
      "- \"La mujer en la nieve\": Dos leñadores se refugian de una tormenta de nieve en una especie de cobertizo abandonado. \n",
      "- \"Hoichi\": El fantasma de un samurái le pide a un músico ciego que toque una balada en la tumba de su señor. \n",
      "- \"En la taza de té\": Un samurái se asusta ante la visión de un hombre reflejado en su taza. (FILMAFFINITY)\n",
      "---------------------------------------------\n",
      "Título original: El hombre que volvió de la muerte\n",
      "Género: Serie de TV.                 Terror.                 Drama.                 Intriga |                 Crimen.                 Venganza\n",
      "Sinopsis: Serie de TV de 18 episodios (1969). El difunto Elmer Van Hess regresa a su pueblo vestido de negro y ocultando su rostro tras una extraña máscara. Su intención es vengarse de todos los que contribuyeron a su muerte. Al parecer, Elmer había sido víctima de un experimento científico que consistió en implantarle \"un cerebro electrónico\" que le impide morir. Su venganza comienza cuando les envía unas ranas de ópalo a cada una de sus víctimas. (FILMAFFINITY)\n",
      "---------------------------------------------\n",
      "Título original: The Unknownaka\n",
      "Género: Drama.                 Terror |                 Circo.                 Cine mudo\n",
      "Sinopsis: Alonzo es una de las atracciones del circo gitano de Zanzi. Aunque es manco, arroja hábilmente con los pies cuchillos contra Nanon, la bella hija de Zanzi. A la joven no le gusta que los hombres la manoseen, en especial Malabar, el hombre forzudo. Por eso se siente muy a gusto con Alonzo, pero éste no es quien dice ser. (FILMAFFINITY)\n",
      "---------------------------------------------\n",
      "Título original: The Nightmare Before Christmasaka\n",
      "Género: Animación.                 Fantástico.                 Musical.                 Romance.                 Terror |                 Comedia de terror.                 Monstruos.                 Halloween.                 Navidad.                 Stop Motion.                 Película de culto.                 3-D.                 Animación para adultos\n",
      "Sinopsis: Cuando Jack Skellington, el Señor de Halloween, descubre la Navidad, se queda fascinado y decide mejorarla. Sin embargo, su visión de la festividad es totalmente contraria al espíritu navideño. Sus planes incluyen el secuestro de Santa Claus y la introducción de cambios bastante macabros. Sólo su novia Sally es consciente del error que está cometiendo. (FILMAFFINITY)\n",
      "---------------------------------------------\n",
      "Título original: La cabina\n",
      "Género: Intriga.                 Drama.                 Terror |                 Surrealismo.                 Mediometraje.                 Telefilm\n",
      "Sinopsis: Producción realizada para la televisión que narra la progresiva angustia de un hombre (López Vázquez) que se queda atrapado en una cabina telefónica. Lo que en principio parece un contratiempo sin trascendencia, se convierte poco a poco en una situación tan inquietante y terrorífica que provoca en el hombre una desesperación y una angustia sin límites. (FILMAFFINITY)\n",
      "---------------------------------------------\n",
      "Título original: The Exorcist\n",
      "Género: Terror |                 Posesiones / Exorcismos.                 Religión.                 Sobrenatural.                 Película de culto\n",
      "Sinopsis: Regan, una niña de doce años, sufre fenómenos paranormales como la levitación o la manifestación de una fuerza sobrehumana. Su madre, aterrorizada, tras someter a su hija a múltiples análisis médicos que no ofrecen ningún resultado, acude a un sacerdote con estudios de psiquiatría. Éste, convencido de que el mal no es físico sino espiritual, cree que se trata de una posesión diabólica, y decide practicar un exorcismo... Adaptación de la novela de William Peter Blatty que se inspiró en un exorcismo real ocurrido en Washington en 1949. (FILMAFFINITY)\n",
      "---------------------------------------------\n",
      "Título original: Yakusoku no Neverland\n",
      "Género: Serie de TV.                 Animación.                 Fantástico.                 Terror |                 Animación para adultos.                 Manga\n",
      "Sinopsis: Serie de TV (2019-Actualidad). 1 temporada. 12 episodios. Por mucho que los niños la quieran, ella no es su madre. Viven juntos, pero no son familiares de sangre. Grace Field es un hogar al que son enviados los niños que no tienen padres. Un hogar irreemplazable para los 38 niños que allí viven felices su día a día, como si fueran hermanos, aunque al inicio fueran completos desconocidos. Al menos así era hasta que cierto descubrimiento cambió sus vidas por completo.\n",
      "---------------------------------------------\n",
      "Título original: The Sixth Sense\n",
      "Género: Terror.                 Intriga.                 Drama |                 Sobrenatural.                 Fantasmas.                 Película de culto\n",
      "Sinopsis: El doctor Malcom Crowe es un conocido psicólogo infantil de Philadelphia que vive obsesionado por el doloroso recuerdo de un joven paciente desequilibrado al que fue incapaz de ayudar. Cuando conoce a Cole Sear, un aterrorizado y confuso niño de ocho años que necesita tratamiento, ve que se le presenta la oportunidad de redimirse haciendo todo lo posible por ayudarlo. Sin embargo, el doctor Crowe no está preparado para conocer la terrible verdad acerca del don sobrenatural de su paciente: recibe visitas no deseadas de espíritus atormentados. (FILMAFFINITY)\n",
      "---------------------------------------------\n",
      "Título original: Invasion of the Body Snatchers\n",
      "Género: Ciencia ficción.                 Fantástico.                 Terror |                 Vida rural (Norteamérica).                 Extraterrestres.                 Serie B.                 Película de culto\n",
      "Sinopsis: En una pequeña ciudad de California empiezan a suceder cosas muy extrañas: el comportamiento de algunas personas cambia de tal manera que causa estupor e incluso miedo entre sus parientes y amigos. (FILMAFFINITY)\n",
      "---------------------------------------------\n",
      "Título original: Bram Stoker's Dracula\n",
      "Género: Terror.                 Romance.                 Fantástico |                 Siglo XIX.                 Vampiros.                 Película de culto\n",
      "Sinopsis: En el año 1890, el joven abogado Jonathan Harker viaja a un castillo perdido de Transilvania, donde conoce al conde Drácula, que en 1462 perdió a su amor, Elisabeta. El conde, fascinado por una fotografía de Mina Murray, la novia de Harker, que le recuerda a su Elisabeta, viaja hasta Londres \"cruzando océanos de tiempo\" para conocerla. Ya en Inglaterra, intenta conquistar y seducir a Lucy, la mejor amiga de Mina. (FILMAFFINITY)\n",
      "---------------------------------------------\n",
      "Título original: Jujutsu Kaisen\n",
      "Género: Serie de TV.                 Animación.                 Fantástico.                 Terror.                 Intriga.                 Acción |                 Manga.                 Sobrenatural.                 Colegios & Universidad\n",
      "Sinopsis: TV Series (2020 - 2021). 24 episodios. Yuji Itadori decide pasar el tiempo con el Club de Ocultismo del instituto, pese a poseer unas habilidades atléticas extraordinarias. Con el tiempo, descubre que el mundo del oculto es real, y los miembros del club son atacados. Mientras, el misterioso Megumi Fushiguro está buscando un objeto maldito, y su búsqueda le lleva hasta Itadori...\n",
      "---------------------------------------------\n",
      "Título original: Young Frankenstein\n",
      "Género: Comedia.                 Terror |                 Comedia de terror.                 Parodia.                 Monstruos.                 Película de culto\n",
      "Sinopsis: El joven doctor Frederick Frankenstein, un neurocirujano norteamericano, trata de escapar del estigma legado por su abuelo, quien creó años atrás una horrible criatura. Pero, cuando hereda el castillo de Frankenstein y descubre un extraño manual científico en el que se explica paso a paso cómo devolverle la vida a un cadáver, comienza a crear su propio monstruo. (FILMAFFINITY)\n",
      "---------------------------------------------\n",
      "Título original: American Horror Story: Asylum\n",
      "Género: Serie de TV.                 Terror |                 Sobrenatural.                 Drama psicológico.                 Años 60.                 Serie de antología.                 Miniserie de TV\n",
      "Sinopsis: Miniserie de TV (2012-2013). 13 episodios. Segunda temporada de la serie \"American Horror Story\", en la que cambian los personajes, el reparto, el equipo técnico y el escenario. Se trata de un drama psicológico que se desarrolla en un hospital psiquiátrico durante los años 60. (FILMAFFINITY)\n",
      "---------------------------------------------\n",
      "Título original: The Haunting of Hill House\n",
      "Género: Serie de TV.                 Terror.                 Drama |                 Fantasmas.                 Sobrenatural.                 Casas encantadas.                 Familia.                 Serie de antología\n",
      "Sinopsis: Serie de TV (2018). 10 episodios. Un grupo de hermanos crece en lo que acaba convirtiéndose en la casa encantada más famosa del país. Ya como adultos, viéndose obligados a reunirse tras una tragedia, la familia tendrá que afrontar los fantasmas del pasado... Adaptación de la novela homónima de Shirley Jackson.  (FILMAFFINITY)\n",
      "---------------------------------------------\n",
      "Título original: The Walking Dead: Days Gone Bye - Pilot Episode\n",
      "Género: Terror.                 Ciencia ficción |                 Zombis.                 Futuro postapocalíptico.                 Cómic\n",
      "Sinopsis: Rick Grimes (Andrew Lincoln), el ayudante del sheriff de una pequeña localidad de Georgia, se despierta de un coma en un hospital tras haber sufrido un tiroteo en la carretera. Enseguida se da cuenta de que algo extraordinario está pasando. El tiempo parece haberse detenido y, a su alrededor, sólo encuentra muerte, sangre y soledad. Por alguna extraña razón, la mayor parte de los hombres se han convertido en zombis. En medio de esta especie de apocalipsis, un grupo de supervivientes, liderados por Grimes, atraviesa los Estados Unidos tratando de ponerse a salvo. (FILMAFFINITY)\n",
      "---------------------------------------------\n",
      "Título original: Frankenstein\n",
      "Género: Terror.                 Ciencia ficción |                 Monstruos.                 Película de culto\n",
      "Sinopsis: El doctor Henry Von Frankenstein acomete un experimento tenebroso: construir, a partir de fragmentos de cadáveres, un nuevo ser humano. Con la ayuda de su criado Fritz, se adentra durante la noche en los cementerios de la localidad para arrancar a los cadáveres las partes que necesita. Lo que ignora es que el cerebro que ha utilizado en su experimento había pertenecido a un criminal. (FILMAFFINITY)\n",
      "---------------------------------------------\n",
      "Título original: Repulsion\n",
      "Género: Terror.                 Thriller.                 Drama |                 Drama psicológico.                 Surrealismo\n",
      "Sinopsis: Carol Ledoux es una bella y reprimida joven belga que vive con su hermana Helen en un apartamento de Londres. Carol experimenta sentimientos simultáneos y contradictorios de atracción y repulsión hacia los hombres;  por eso para ella resulta tan incómoda la relación que mantiene su hermana con un hombre casado. Cuando la pareja se marcha de vacaciones, Carol comienza a tener alucinaciones y su mente se desquicia. (FILMAFFINITY)\n",
      "---------------------------------------------\n",
      "Título original: Los otros (The Others)\n",
      "Género: Intriga.                 Terror |                 Sobrenatural.                 Casas encantadas.                 Fantasmas.                 Años 40\n",
      "Sinopsis: Isla de Jersey, 1945. La Segunda Guerra Mundial ha terminado, pero el marido de Grace (Nicole Kidman) no vuelve. Sola en un aislado caserón victoriano de la isla de Jersey, educa a sus hijos dentro de rígidas normas religiosas. Los niños sufren una extraña enfermedad: no pueden recibir directamente la luz del día. Los tres nuevos sirvientes que se incorporan a la vida familiar deben aprender una regla vital: la casa estará siempre en penumbra, y nunca se abrirá una puerta si no se ha cerrado la anterior. Pero el estricto orden que Grace ha impuesto se verá desafiado por circunstancias que escapan a su control. (FILMAFFINITY)\n",
      "---------------------------------------------\n",
      "Título original: Love, Death + Robots. Vol. 3: Bad Travelling\n",
      "Género: Animación.                 Terror.                 Thriller.                 Acción |                 Aventuras marinas.                 Monstruos.                 Cortometraje (animación)\n",
      "Sinopsis: Un barco pesquero de tiburones es atacado por un crustáceo gigante cuyo tamaño e inteligencia solo son comparables con su voraz apetito. Ópera prima de David Fincher como director de animación, en la temporada 3 de \".Love, Death + Robots\"\n",
      "---------------------------------------------\n",
      "Título original: Hellsing Ultimate (Hellsing Ultimate OVA series)\n",
      "Género: Serie de TV.                 Animación.                 Fantástico.                 Acción.                 Terror |                 Miniserie de TV.                 Remake.                 Gore.                 Manga.                 Vampiros\n",
      "Sinopsis: Miniserie (2006-2012). 10 OVAs. En los dos primeros episodios se resumen los hechos de la serie original de 13 episodios y los siguientes desarrollan nuevas tramas. Los Caballeros Protestantes Reales deben enfrentarse al grupo separatista nazi, Millennium, dirigido por el Mayor. Es una organización que está dispuesta a todo con tal de vengarse de Hellsing, quienes los derrotaron en la Segunda Guerra Mundial. También tiene como objetivo central de existencia llevar la guerra a todos los rincones del mundo. Aparecen personajes que no fueron considerados dentro de la serie de televisión y que son propios del manga, como Rip Van Winkle, Zorin Blitz, El Capitán, Schrödinger y el Mayor. En esta ocasión, se muestra una fuerte exhibición de los Neonazis a diferencia de la serie, es más explícita y de un caracter sombrío. Millenium también se conoce como \"Letzte Bataillon\". (FILMAFFINITY)\n",
      "---------------------------------------------\n",
      "Título original: Le locataire (The Tenant)\n",
      "Género: Terror.                 Thriller |                 Thriller psicológico.                 Drama psicológico.                 Película de culto\n",
      "Sinopsis: Polanski interpreta al agradable Trelkovsky, que vive en un apartamento de París que tiene un sombrío pasado... la anterior inquilina, una mujer joven, se tiró por el balcón. Sus pertenencias siguen allí... cosas que alimentan la obsesión de Trelkovsky por la mujer. ¿O tal vez le están llevando a la locura? (FILMAFFINITY)\n",
      "---------------------------------------------\n",
      "Título original: Buffy the Vampire Slayer: Hush\n",
      "Género: Terror.                 Fantástico |                 Sobrenatural.                 Mediometraje.                 Episodio de TV\n",
      "Sinopsis: Los habitantes de Sunnydale se quedan sin voz cuando unos desconocidos apodados \"The Gentlemen\" les roban el poder del habla para así poder asesinar libremente. (FILMAFFINITY)\n",
      "---------------------------------------------\n",
      "Título original: Dr. Jekyll and Mr. Hyde\n",
      "Género: Terror.                 Ciencia ficción.                 Drama |                 Siglo XIX\n",
      "Sinopsis: Ante un auditorio científico el doctor Henry Jekyll expone su teoría de que el ser humano está dividido en dos personalidades, una positiva y otra negativa, y que ambas se pueden separar, pero no logra convencer a sus oyentes. Después de visitar a su prometida Muriel, y paseando con su amigo el doctor Lanyonal que intenta convencer de que su idea es viable, conoce a una joven artista de music-hall, Champagne Ivy. En su laboratorio Jekyll experimenta con una droga y se transforma en el señor Hyde y, bajo esta personalidad y por medio de amenazas, se convierte en amante de Ivy... (FILMAFFINITY)\n",
      "---------------------------------------------\n",
      "Título original: Perfect Blueaka\n",
      "Género: Animación.                 Terror.                 Thriller.                 Drama |                 Drama psicológico.                 Thriller psicológico.                 Cine dentro del cine.                 Internet / Informática.                 Animación para adultos.                 Película de culto\n",
      "Sinopsis: Mima es la cantante de un famoso grupo musical japonés. Debido al fracaso de ventas de sus discos, su mánager decide apartarla del grupo y darle un papel en una serie de televisión. Mima cae entonces en una profunda depresión que la lleva a replantearse su vida y su carrera, pero su crisis se agrava cuando descubre que su vida está al alcance de cualquiera en Internet y que alguien la está vigilando. Cuando la serie empieza a emitirse por televisión, Mima comprueba que la ficción se reproduce en su vida real: sueño y realidad se confunden hasta el punto de cuestionarse su propia identidad. El desarrollo de los acontecimientos y su propia intuición llevarán a la protagonista a un desenlace absolutamente inesperado... (FILMAFFINITY)\n",
      "---------------------------------------------\n",
      "Título original: Misery\n",
      "Género: Terror.                 Drama |                 Drama psicológico.                 Secuestros / Desapariciones.                 Literatura\n",
      "Sinopsis: Un escritor llamado Paul Sheldon (James Caan) lleva años malgastando su talento con unas románticas historias, de gran éxito comercial, cuya protagonista es una mujer llamada Misery. Decidido a acabar con esta situación, mata al personaje y se refugia en Colorado para escribir una novela seria. Terminado su trabajo, emprende el regreso, pero en una carretera de montaña, pierde el control de su coche y sufre un grave accidente. Annie Wilkes (Kathy Bates), una brusca e impetuosa mujer, gran admiradora suya, lo rescata, se lo lleva a su casa y lo cuida con esmero. Obsesionada con el personaje de Misery, retiene a Sheldon para obligarlo a escribir una nueva historia en la que resucite al personaje. (FILMAFFINITY)\n",
      "---------------------------------------------\n",
      "Título original: City Lights\n",
      "Género: Comedia.                 Romance |                 Cine mudo.                 Pobreza.                 Comedia romántica.                 Comedia dramática.                 Discapacidad.                 Discapacidad visual\n",
      "Sinopsis: Un pobre vagabundo (Charles Chaplin) pasa mil y un avatares para conseguir dinero y ayudar a una florista ciega (Virginia Cherrill) de la que se ha enamorado. (FILMAFFINITY)\n",
      "---------------------------------------------\n",
      "Título original: The Simpsons\n",
      "Género: Serie de TV.                 Animación.                 Comedia |                 Familia.                 Sátira.                 Los Simpson\n",
      "Sinopsis: Serie de TV (1989-Actualidad). 34 temporadas. Narra la historia de una peculiar familia (Homer, Marge, Bart, Maggie y Lisa Simpson) y otros divertidos personajes de la localidad norteamericana de Springfield. Homer, el padre, es un desastroso inspector de seguridad de una central nuclear. Marge, la madre, es un ama de casa acostumbrada a soportar a su peculiar familia. Bart, de 10 años, intenta divertirse con travesuras de todo tipo. Lisa es la más inteligente de la familia, y Maggie, la más pequeña, es un bebé que todavía no habla, pero que juega un importante papel. (FILMAFFINITY)\n",
      "---------------------------------------------\n",
      "Título original: The Great Dictator\n",
      "Género: Comedia |                 Sátira.                 Nazismo.                 II Guerra Mundial.                 Propaganda\n",
      "Sinopsis: Un humilde barbero judío que combatió con el ejército de Tomania en la Primera Guerra Mundial vuelve a su casa años después del fin del conflicto. Amnésico a causa de un accidente de avión, no recuerda prácticamente nada de su vida pasada, y no conoce la situación política actual del país: Adenoid Hynkel, un dictador fascista y racista, ha llegado al poder y ha iniciado la persecución del pueblo judío, a quien considera responsable de la situación de crisis que vive el país. Paralelamente, Hynkel y sus colaboradores han empezado a preparar una ofensiva militar destinada a la conquista de todo el mundo.\n",
      "---------------------------------------------\n",
      "Título original: Modern Times\n",
      "Género: Comedia |                 Sátira.                 Comedia dramática.                 Drama social.                 Trabajo/empleo.                 Cine mudo.                 Película de culto\n",
      "Sinopsis: Extenuado por el frenético ritmo de la cadena de montaje, un obrero metalúrgico acaba perdiendo la razón. Después de recuperarse en un hospital, sale y es encarcelado por participar en una manifestación en la que se encontraba por casualidad. En la cárcel, también sin pretenderlo, ayuda a controlar un motín, gracias a lo cual queda en libertad. Una vez fuera, reemprende la lucha por la supervivencia en compañía de una joven huérfana a la que conoce en la calle. (FILMAFFINITY)\n",
      "---------------------------------------------\n",
      "Título original: The Sting\n",
      "Género: Intriga.                 Comedia.                 Drama |                 Crimen.                 Juego.                 Años 30.                 Mafia.                 Robos & Atracos.                 Venganza.                 Película de culto\n",
      "Sinopsis: Chicago, años treinta. Johnny Hooker (Redford) y Henry Gondorff (Newman) son dos timadores que deciden vengar la muerte de un viejo y querido colega, asesinado por orden de un poderoso gángster llamado Doyle Lonnegan (Shaw). Para ello urdirán un ingenioso y complicado plan con la ayuda de todos sus amigos y conocidos. (FILMAFFINITY)\n",
      "---------------------------------------------\n",
      "Título original: The Sopranos\n",
      "Género: Serie de TV.                 Thriller.                 Drama.                 Comedia |                 Crimen.                 Mafia.                 Familia.                 Comedia negra\n",
      "Sinopsis: Serie de TV (1999-2007). 6 temporadas. 86 episodios. Crónica de la vida cotidiana y de las aventuras personales y profesionales de una familia mafiosa que vive en Nueva Jersey. Son gentes sencillas, pero implacables en sus ritos y tradiciones. La trama se basa en las confidencias del \"capo\" Tony Soprano (James Gandolfini) a su psicoanalista, la doctora Melfi (Lorraine Bracco). (FILMAFFINITY)\n",
      "---------------------------------------------\n",
      "Título original: To Be or Not to Be\n",
      "Género: Comedia.                 Intriga |                 Sátira.                 II Guerra Mundial.                 Nazismo.                 Teatro.                 Comedia negra.                 Comedia screwball\n",
      "Sinopsis: Segunda Guerra Mundial (1939-1945). Varsovia, durante la ocupación alemana. El profesor Siletsky, un espía al servicio de la Gestapo, está a punto de entregar una lista con el nombre de los colaboradores de la Resistencia. Joseph Tura, actor polaco, intérprete de Hamlet y esposo de María Tura, también conocida actriz, intentará evitarlo. Con la ayuda de los actores de su compañía, se hará pasar por el cruel coronel Erhardt y por Siletsky para entrar en el cuartel general de las SS. (FILMAFFINITY)\n",
      "---------------------------------------------\n",
      "Título original: La vita è bella\n",
      "Género: Comedia.                 Drama |                 Comedia dramática.                 Nazismo.                 Holocausto.                 II Guerra Mundial.                 Años 30.                 Años 40\n",
      "Sinopsis: En 1939, a punto de estallar la Segunda Guerra Mundial (1939-1945), el extravagante Guido llega a Arezzo, en la Toscana, con la intención de abrir una librería. Allí conoce a la encantadora Dora y, a pesar de que es la prometida del fascista Rodolfo, se casa con ella y tiene un hijo. Al estallar la guerra, los tres son internados en un campo de exterminio, donde Guido hará lo imposible para hacer creer a su hijo que la terrible situación que están padeciendo es tan sólo un juego. (FILMAFFINITY)\n",
      "---------------------------------------------\n",
      "Título original: The Apartment\n",
      "Género: Comedia.                 Romance.                 Drama |                 Comedia dramática.                 Navidad.                 Película de culto.                 Nochevieja / Año nuevo\n",
      "Sinopsis: C.C. Baxter (Jack Lemmon) es un modesto pero ambicioso empleado de una compañía de seguros de Manhattan. Está soltero y vive solo en un discreto apartamento que presta ocasionalmente a sus superiores para sus citas amorosas. Tiene la esperanza de que estos favores le sirvan para mejorar su posición en la empresa. Pero la situación cambia cuando se enamora de una ascensorista (Shirley MacLaine) que resulta ser la amante de uno de los jefes que usan su apartamento (Fred MacMurray). (FILMAFFINITY)\n",
      "---------------------------------------------\n",
      "Título original: The Kid\n",
      "Género: Comedia.                 Drama |                 Pobreza.                 Cine mudo.                 Comedia dramática.                 Película de culto\n",
      "Sinopsis: Una mujer de escasos recursos (Edna Purviance), ha tenido un hijo siendo soltera, y al sentirse abandonada por el padre del niño, decide también ella abandonar al bebé, con la esperanza de que una familia rica lo coja en adopción. Pero el pequeño terminará en manos de un vagabundo (Charles Chaplin), quien pronto se encariñará con él y decidirá sacarlo adelante como sea. Cuando el niño, llamado ahora John (Jackie Coogan) llega a los cinco años, la lucha por la supervivencia y por permanecer juntos será toda una aventura. (FILMAFFINITY)\n",
      "\n",
      "Reestreno 4K (100 aniversario) en cines España: 5 febrero 2021.\n",
      "---------------------------------------------\n",
      "Título original: Monty Python's Flying Circus\n",
      "Género: Serie de TV.                 Comedia |                 Sátira.                 Comedia absurda.                 Sketches\n",
      "Sinopsis: Serie de TV (1969-1974). 4 temporadas. 45 episodios. Serie británica creada y protagonizada por los Monty Python. Los episodios son breves, pero con grandes dosis de crítica social salpicada por pinceladas de humor absurdo. (FILMAFFINITY)\n",
      "---------------------------------------------\n",
      "Título original: The Gold Rush\n",
      "Género: Comedia.                 Drama.                 Aventuras |                 Cine mudo.                 Años 1900 (circa).                 Comedia dramática.                 Nochevieja / Año nuevo\n",
      "Sinopsis: Obra maestra de Chaplin, en la que interpreta a un solitario buscador de oro que llega a Alaska, a principios de siglo, en busca de fortuna. Una fuerte tormenta de nieve le llevará a refugiarse en la cabaña de un bandido. En 1942 fue reestrenada en versión sonora. (FILMAFFINITY)\n",
      "---------------------------------------------\n",
      "Título original: Rick and Morty\n",
      "Género: Serie de TV.                 Animación.                 Ciencia ficción.                 Comedia |                 Parodia.                 Surrealismo.                 Animación para adultos.                 Comedia negra\n",
      "Sinopsis: Serie de TV (2013-Actualidad). 6 temporadas. 61 episodios. Comedia animada que narra las aventuras de un científico loco, Rick Sánchez, que regresa después de 20 años para vivir con su hija, su marido y sus hijos, Morty y Summer. (FILMAFFINITY)\n",
      "---------------------------------------------\n",
      "Título original: Nuovo Cinema Paradiso\n",
      "Género: Drama.                 Comedia |                 Melodrama.                 Cine dentro del cine\n",
      "Sinopsis: 'Cinema Paradiso' es una historia de amor por el cine. Narra la historia de Salvatore, un niño de un pueblecito italiano en el que el único pasatiempo es ir al cine. Subyugado por las imágenes en movimiento, el chico cree ciegamente que el cine es magia; pero, un día, Alfredo, el operador, accede a enseñarle al pequeño los misterios y secretos que se ocultan detrás de una película. Salvatore va creciendo y llega el momento en el que debe abandonar el pueblo y buscarse la vida. Treinta años después recibe un mensaje, en el que le comunican que debe volver a casa. (FILMAFFINITY)\n",
      "---------------------------------------------\n",
      "Título original: Eddie Izzard: Dress to Kill\n",
      "Género: Comedia |                 Stand-Up\n",
      "Sinopsis: Eddie Izzard lleva su espectáculo a San Francisco para dar una breve historia de las religiones paganas y cristianas, la construcción de Stonehenge, el nacimiento de la Iglesia de Inglaterra y de los imperios occidentales, y la necesidad de un sueño europeo. En el camino, que dramatiza la búsqueda del Dr. Heimlich para una maniobra, el nombramiento de Engelbert Humperdinck, Scooby y Shaggy, como arquetipos, Neil Armstrong en la luna, la tolerancia de la sociedad de asesinos en masa, la forma en que cantan himnos y los villancicos, la adaptación de Hollywood las películas británicas, viaje de John F. Kennedy a Berlín y pensamientos sobre la pubertad. (FILMAFFINITY)\n",
      "---------------------------------------------\n",
      "Título original: Some Like It Hot\n",
      "Género: Comedia |                 Años 20.                 Mafia.                 Remake.                 Película de culto\n",
      "Sinopsis: Época de la Ley Seca (1920-1933). Joe y Jerry son dos músicos del montón que se ven obligados a huir después de ser testigos de un ajuste de cuentas entre dos bandas rivales. Como no encuentran trabajo y la mafia los persigue, deciden vestirse de mujeres y tocar en una orquesta femenina. Joe (Curtis) para conquistar a Sugar Kane (Monroe), la cantante del grupo, finge ser un magnate impotente; mientras tanto, Jerry (Lemmon) es cortejado por un millonario que quiere casarse con él. (FILMAFFINITY)\n",
      "---------------------------------------------\n",
      "Título original: A Night at the Opera\n",
      "Género: Comedia |                 Ópera\n",
      "Sinopsis: Llevado por un extravagante sentido de los negocios, Groucho mete en un barco con destino a Nueva York a las grandes estrellas de la Ópera de Milán. A bordo viajan también unos polizones: Harpo y Chico. Entre los tres revolucionan el barco, organizan un escándalo en Nueva York y convierten la noche del estreno en una locura que el mundo de la ópera nunca podrá olvidar. (FILMAFFINITY)\n",
      "---------------------------------------------\n",
      "Título original: The General\n",
      "Género: Comedia |                 Trenes / Metros.                 Ejército.                 Guerra de Secesión.                 Película de culto.                 Cine mudo\n",
      "Sinopsis: Johnny Gray (Buster Keaton) es maquinista en un estado del Sur y tiene dos grandes amores: una chica (Anabelle Lee) y una locomotora (La General). En 1861, al estallar la Guerra de Secesión, Johnny intenta alistarse, pero el ejército considera que será más útil trabajando en la retaguardia. Sin embargo, Anabelle cree que es un cobarde y lo rechaza. El maquinista sólo podrá demostrar su auténtico valor cuando un comando nordista infiltrado en las líneas confederadas le robe \"La General\" y rapte a Anabelle. Johnny no dudará un segundo en subirse a otra locomotora y perseguir a los yanquis para recuperar a sus dos amadas. (FILMAFFINITY)\n",
      "---------------------------------------------\n",
      "Título original: El verdugo\n",
      "Género: Comedia |                 Sátira.                 Comedia negra.                 Película de culto\n",
      "Sinopsis: José Luis, el empleado de una funeraria, proyecta emigrar a Alemania para convertirse en un buen mecánico. Su novia es hija de Amadeo, un verdugo profesional. Cuando éste los sorprende en la intimidad, los obliga a casarse. Ante la acuciante falta de medios económicos de los recién casados, Amadeo, que está a punto de jubilarse, trata de persuadir a José Luis para que solicite la plaza que él va a dejar vacante, lo que le daría derecho a una vivienda. José Luis acaba aceptando la propuesta de su suegro con el convencimiento de que jamás se presentará la ocasión de ejercer tan ignominioso oficio. (FILMAFFINITY)\n",
      "---------------------------------------------\n",
      "Título original: Taskmaster\n",
      "Género: Serie de TV.                 Comedia\n",
      "Sinopsis: Cinco comediantes tienen tareas establecidas que desafían su creatividad e ingenio. Las tareas son supervisadas por Alex Horne, pero el Administrador de tareas, Greg Davies, siempre tiene la última palabra.\n",
      "---------------------------------------------\n",
      "Título original: Rick and Morty: The Rickshank Redemption\n",
      "Género: Animación.                 Comedia |                 Comedia negra.                 Animación para adultos\n",
      "Sinopsis: En el despertar del gran genocidio en la Tierra, los Smith afrontan la pérdida de Rick, el miembro más destacado de la familia. Episodio que abrió la tercera temporada de la aclamada serie \"Rick y Morty\", estrenado por sorpresa el 1 de abril de 2017 en un stream de AdultSwim, fuera de la continuidad de la serie, y que dio el pistoletazo de salida en su tercera temporada, en verano de 2017. (FILMAFFINITY)\n",
      "---------------------------------------------\n",
      "Título original: Fargo\n",
      "Género: Serie de TV.                 Thriller.                 Drama.                 Comedia |                 Crimen.                 Policíaco.                 Comedia negra.                 Serie de antología.                 Miniserie de TV\n",
      "Sinopsis: Serie de TV (2014). 10 episodios. Lester Nygaard (Martin Freeman), un apocado vendedor de seguros de una pequeña población de Minnesota, ve cómo su mundo cambia por completo con la llegada de un misterioso y salvaje desconocido (Billy Bob Thornton). Serie basada en la película homónima de los hermanos Coen, aunque presenta personajes diferentes y se ambienta en 2006. (FILMAFFINITY)\n",
      "---------------------------------------------\n",
      "Título original: Forrest Gump\n",
      "Género: Comedia.                 Drama.                 Romance |                 Años 60.                 Años 70.                 Discapacidad.                 Comedia dramática.                 Película de culto.                 Guerra de Vietnam.                 Nochevieja / Año nuevo.                 Ping-pong\n",
      "Sinopsis: Forrest Gump (Tom Hanks) sufre desde pequeño un cierto retraso mental. A pesar de todo, gracias a su tenacidad y a su buen corazón será protagonista de acontecimientos cruciales de su país durante varias décadas. Mientras pasan por su vida multitud de cosas en su mente siempre está presente la bella Jenny (Robin Wright), su gran amor desde la infancia, que junto a su madre será la persona más importante en su vida. (FILMAFFINITY)\n",
      "---------------------------------------------\n",
      "Título original: One, Two, Three\n",
      "Género: Comedia |                 Sátira.                 Guerra Fría\n",
      "Sinopsis: Época de la Guerra Fría. C.R. MacNamara, representante de una multinacional de refrescos en Berlín Occidental, hace tiempo que proyecta introducir su marca en la URSS. Sin embargo, en contra de sus deseos, lo que su jefe le encarga es cuidar de su hija Scarlett, que está a punto de llegar a Berlín. Se trata de una díscola y alocada joven de dieciocho años, que ya ha estado prometida cuatro veces. Pero lo peor es que, eludiendo la vigilancia de MacNamara, la chica se enamora de Otto Piffl, un joven comunista que vive en la Alemania Oriental. (FILMAFFINITY)\n",
      "---------------------------------------------\n",
      "Título original: Friends\n",
      "Género: Serie de TV.                 Comedia |                 Sitcom.                 Amistad\n",
      "Sinopsis: Serie de TV (1994-2004). 10 temporadas. 236 episodios. \"Friends\" narra las aventuras y desventuras de seis jóvenes de Nueva York. Rachel (Jennifer Aniston), Monica (Courteney Cox), Phoebe (Lisa Kudrow), Ross (David Schwimmer), Chandler (Matthew Perry) y Joey (Matt LeBlanc) forman una unida pandilla de amigos que viven en Manhattan y que suelen reunirse en sus apartamentos o en su bar habitual, el Central Perk. A pesar de los numerosos cambios que se producen en sus vidas, su amistad es inquebrantable en la dura batalla por salir adelante en sus periplos profesionales y personales. (FILMAFFINITY)\n",
      "---------------------------------------------\n",
      "Título original: Adventure Time: Come Along With Meaka\n",
      "Género: Animación.                 Aventuras.                 Fantástico.                 Comedia |                 Episodio de TV\n",
      "Sinopsis: Con la guerra entre la Princesa Chicle y su tío Gumbald, y Betty capturando al Rey Hielo, se cierra la historia de \"Hora de Aventuras\" (Adventure Time) en un episodio de 44 minutos de duración (frente a los 11 min de los capítulos convencionales) que fue emitido el 3 de septiembre de 2018. (FILMAFFINITY)\n",
      "---------------------------------------------\n",
      "Título original: Sherlock Jr.aka\n",
      "Género: Comedia |                 Cine mudo.                 Sherlock Holmes.                 Mediometraje\n",
      "Sinopsis: Película sobre el mundo del cine, Keaton es un proyeccionista que sueña con ser un detective cuando, milagrosamente, se encuentra dentro de la película que está proyectando. Allí intentará salvar a su amada de las garras del villano. Una de las más aclamadas cintas de cine mudo llena de gags visuales y con un portentoso Buster Keaton. (FILMAFFINITY)\n",
      "---------------------------------------------\n",
      "Título original: Eungdabhala 1988aka\n",
      "Género: Serie de TV.                 Romance.                 Comedia |                 Familia.                 Años 80.                 Amistad\n",
      "Sinopsis: Serie de TV. 20 episodios. Se centra en los últimos años de la década de los 80. Sung Deok-Sun es una estudiante de secundaria que ha vivido toda su vida en un barrio de Seúl donde compartió su niñez con sus cuatro mejores amigos varones y las familias completas de estos. Entre sus cuatro mejores amigos están: el presidente del consejo estudiantil, un jugador profesional de Baduk, un tipo con cara de serio y un estudiante amante de lo erótico. (FILMAFFINITY)\n",
      "---------------------------------------------\n",
      "Título original: The Front Page\n",
      "Género: Comedia |                 Sátira.                 Periodismo.                 Años 20.                 Remake\n",
      "Sinopsis: Chicago, 1929. Earl Williams, convicto del asesinato de un policía, espera en la cárcel el momento de su ejecución. Mientras tanto, en la sala de prensa del Tribunal Supremo, un grupo de periodistas espera el indulto o la confirmación de la sentencia. Hildy Johnson, el cronista de sucesos del Chicago Examiner, que tendría que cubrir la información, está a punto de contraer matrimonio y abandonar su trabajo; pero Walter Burns, el maquiavélico director del periódico, empeñado en retenerlo, tratará de impedir su boda por todos los medios. (FILMAFFINITY)\n",
      "---------------------------------------------\n",
      "Título original: Hantâ x Hantâ (Hunter x Hunter)\n",
      "Género: Serie de TV.                 Animación.                 Acción.                 Aventuras.                 Comedia.                 Drama.                 Fantástico |                 Manga.                 Remake\n",
      "Sinopsis: Serie de TV (2011-2014). 148 episodios. Gon Frecks, un niño de 12 años, vive con su tía Mito y su abuela en Isla Ballena, huérfano de madre y según su tía también de padre. Un día Gon es atacado por un oso del bosque, pero es salvado por un cazador quien le explica que está en busca de su maestro para así convertirse en un cazador. Él es quien le dice que su padre Gin está vivo. Enterado de esto Gon decide convertirse en cazador para poder encontrar a su padre. (FILMAFFINITY)\n",
      "---------------------------------------------\n",
      "Título original: Duck Soup\n",
      "Género: Comedia.                 Musical\n",
      "Sinopsis: La República Democrática de Freedonia, un pequeño país centroeuropeo, a cuyo frente se encuentra el muy liberal señor Rufus T. Firefly, se ve amenazada por la dictadura de Sylvania, país de vieja y reconocida solvencia como agresor. Dos espías de prestigio, Chicolini y Pinky, sirven a Sylvania, lo que no impide que acaben siendo ministros del ahora ya excelentísimo Firefly. (FILMAFFINITY)\n",
      "---------------------------------------------\n",
      "Título original: Plácido\n",
      "Género: Comedia |                 Pobreza.                 Navidad.                 Sátira\n",
      "Sinopsis: En una pequeña ciudad provinciana, a unas burguesas ociosas se les ocurre la idea de organizar una campaña navideña cuyo lema es: \"Siente a un pobre a su mesa\". Se trata de que los más necesitados compartan la cena de Nochebuena con familias acomodadas y disfruten del calor y el afecto que no tienen. Plácido ha sido contratado para participar con su motocarro en la cabalgata, pero surge un problema que le impide centrarse en su trabajo: ese mismo día vence la primera letra del vehículo, que es su único medio de vida. (FILMAFFINITY)\n",
      "---------------------------------------------\n",
      "Título original: Strappare lungo i bordi\n",
      "Género: Serie de TV.                 Animación.                 Comedia |                 Comedia negra.                 Animación para adultos\n",
      "Sinopsis: Miniserie. 6 episodios. Zero, un escritor y artista de cómics que se imagina a su subconsciente como un armadillo, recuerda cómo conoció a su amiga Alice cuando tenían 17 años.\n",
      "---------------------------------------------\n",
      "Título original: Singin' in the Rain\n",
      "Género: Musical.                 Comedia.                 Romance |                 Cine dentro del cine.                 Años 20.                 Baile.                 Sátira\n",
      "Sinopsis: Antes de conocer a la aspirante a actriz Kathy Selden (Debbie Reynolds), el ídolo del cine mudo Don Lockwood (Gene Kelly) pensaba que lo tenía todo: fama, fortuna y éxito. Pero, cuando la conoce, se da cuenta de que ella es lo que realmente faltaba en su vida. Con el nacimiento del cine sonoro, Don quiere filmar musicales con Kathy, pero entre ambos se interpone la reina del cine mudo Lina Lamont (Jean Hagen). (FILMAFFINITY)\n",
      "---------------------------------------------\n",
      "Título original: The Simpsons: Treehouse of Horror Vaka\n",
      "Género: Animación.                 Comedia.                 Fantástico |                 Comedia de terror.                 Parodia.                 Viajes en el tiempo.                 Dinosaurios.                 Halloween.                 Los Simpson.                 Episodio de TV\n",
      "Sinopsis: Quinto especial de Halloween de Los Simpson, recordado sobre todo por el segmento en el que se parodia \"El Resplandor\" (The Shining), la película de Stanley Kubrick que adapta el libro de Stephen King. En la segunda historia, Homer pone la mano en la tostadora y la rompe, y al intentar arreglarla Homer accidentalmente crea una máquina del tiempo. En el último, Bart descubre que los niños del colegio están desapareciendo de forma muy sospechosa. (FILMAFFINITY)\n",
      "---------------------------------------------\n",
      "Título original: Manhattan\n",
      "Género: Comedia.                 Drama.                 Romance |                 Comedia romántica\n",
      "Sinopsis: Isaac Davis, un neoyorquino de mediana edad tiene un trabajo que odia, una novia de 17 años a la que no ama y una ex esposa lesbiana a la que desearía estrangular, porque está escribiendo un libro en el que cuenta las intimidades de su matrimonio. Cuando conoce a Mary, la sexy y snob amante de su mejor amigo, se enamora perdidamente de ella. La idea de dejar a su novia, acostarse con Mary y abandonar su trabajo supone para él el comienzo de una nueva vida. (FILMAFFINITY)\n",
      "---------------------------------------------\n",
      "Título original: Kuranado: Afutâ Sutôrî (Clannad: After Story)\n",
      "Género: Serie de TV.                 Animación.                 Comedia.                 Romance |                 Secuela.                 Manga.                 Videojuego\n",
      "Sinopsis: Serie de TV (2008). 22 episodios + 3 especiales. Esta secuela de la popular serie \"Clannad\" narra la historia de Tomoya Okazaki y Nagisa Furukawa, cuyas vidas cambiarán radicalmente después de las peripecias vividas durante las vacaciones de verano. (FILMAFFINITY)\n",
      "---------------------------------------------\n",
      "Título original: You Can't Take It with You\n",
      "Género: Comedia |                 Comedia screwball.                 Comedia sofisticada\n",
      "Sinopsis: Alice Sycamore, la única persona con un poco de cordura en una familia llena de lunáticos, se enamora de su jefe, Tony Kirby, que pertenece a una familia muy rica y muy cursi. La diferencia entre el estilo de vida y la mentalidad de ambas familias se agudiza cuando los padres de él van a cenar a casa de ella, y la cena termina con la llegada de la policía y la detención de todos los presentes, acusados de anarquistas. (FILMAFFINITY)\n",
      "---------------------------------------------\n",
      "Título original: Mary and Max\n",
      "Género: Animación.                 Drama.                 Comedia |                 Comedia dramática.                 Amistad.                 Stop Motion.                 Claymation (Plastilina).                 Animación para adultos.                 Discapacidad.                 Autismo / Asperger\n",
      "Sinopsis: Primer largometraje de Adam Elliot, ganador de un Oscar con el cortometraje \"Harvey Krumpet\". Narra la larga amistad por correspondencia entre un cuarentón judío y obeso de Nueva York, y una niña australiana de ocho años que vive en los suburbios de Melbourne. (FILMAFFINITY)\n",
      "---------------------------------------------\n",
      "Título original: Over the Garden Wall\n",
      "Género: Serie de TV.                 Animación.                 Comedia.                 Fantástico |                 Miniserie de TV\n",
      "Sinopsis: Miniserie de TV (2014). 10 episodios. Wirt y Greg son dos hermanos que se han perdido en Lo desconocido, un extraño bosque a la deriva en el tiempo, y que buscan el camino de regreso a casa. El mayor es responsable y temeroso; el pequeño, despreocupado, optimista y juguetón. Dos personalidades opuestas que, a lo largo del trayecto, contarán con la ayuda de un sombrío leñador y de un pájaro azul con bastante mal genio. (FILMAFFINITY)\n",
      "---------------------------------------------\n",
      "Título original: Fargo: Year Twoaka\n",
      "Género: Serie de TV.                 Thriller.                 Drama.                 Comedia |                 Crimen.                 Policíaco.                 Comedia negra.                 Años 70.                 Serie de antología.                 Miniserie de TV\n",
      "Sinopsis: Miniserie de TV (2015). 10 episodios. Segunda temporada. En 1979. en un pequeño pueblo de Minnesota, un inesperado giro de los acontecimientos perturba la vida de varias personas: el matrimonio Blomquist (Kirsten Dunst y Jesse Plemons) y el clan familiar Gerhardt de cuyo imperio intenta apoderarse un sindicato mafioso de Kansas City. Por su parte, el policía local Lou Solverson (Keith Carradine en la 1ª temporada) se hará cargo de la investigación de los hechos con la ayuda de su suegro (Ted Danson). (FILMAFFINITY)\n",
      "---------------------------------------------\n",
      "Título original: Seven Chances\n",
      "Género: Comedia |                 Cine mudo.                 Mediometraje.                 Bodas\n",
      "Sinopsis: El agente de bolsa Jimmy Shannon está cercano a la bancarrota cuando un abogado le presenta el testamento de su abuelo legándole 7 millones de dólares. Pero para poder heredar ese dinero deberá casarse antes de las 7 de la tarde de su 27 cumpleaños... ¡Y eso es hoy! (FILMAFFINITY)\n",
      "---------------------------------------------\n",
      "Título original: The Office\n",
      "Género: Serie de TV.                 Comedia |                 Sitcom.                 Falso documental.                 Trabajo/empleo.                 Remake\n",
      "Sinopsis: Serie de TV (2005-2013). 9 temporadas. 188 episodios. Corrosivo retrato de los miembros de una empresa. Versión americana de una popular serie británica de la BBC del mismo título. (FILMAFFINITY)\n",
      "---------------------------------------------\n",
      "Título original: Bienvenido, Mr. Marshallaka\n",
      "Género: Comedia |                 Sátira\n",
      "Sinopsis: Años 50. Villar del Río es un pequeño y tranquilo pueblo en el que nunca pasa nada. Sin embargo, el mismo día en que llegan la cantante folclórica Carmen Vargas y su representante, el alcalde (Pepe Isbert) recibe la noticia de la inminente visita de un comité del Plan Marshall (proyecto económico americano para la reconstrucción de Europa). La novedad provoca un gran revuelo entre la gente, que se dispone a ofrecer a los americanos un recibimiento muy especial. (FILMAFFINITY)\n",
      "---------------------------------------------\n",
      "Título original: Intouchables\n",
      "Género: Comedia.                 Drama |                 Comedia dramática.                 Discapacidad.                 Amistad\n",
      "Sinopsis: Philippe, un aristócrata millonario que se ha quedado tetrapléjico a causa de un accidente de parapente, contrata como cuidador a domicilio a Driss, un inmigrante de un barrio marginal recién salido de la cárcel. Aunque, a primera vista, no parece la persona más indicada, los dos acaban logrando que convivan Vivaldi y Earth Wind and Fire, la elocuencia y la hilaridad, los trajes de etiqueta y el chándal. Dos mundos enfrentados que, poco a poco, congenian hasta forjar una amistad tan disparatada, divertida y sólida como inesperada, una relación única en su especie de la que saltan chispas. (FILMAFFINITY)\n",
      "---------------------------------------------\n",
      "Título original: Annie Hall\n",
      "Género: Romance.                 Comedia |                 Comedia romántica\n",
      "Sinopsis: Alvy Singer, un cuarentón bastante neurótico, trabaja como humorista en clubs nocturnos. Tras romper con Annie, reflexiona sobre su vida, rememorando sus amores, sus matrimonios, pero sobre todo su relación con Annie. Al final, llega a la conclusión de que son sus manías y obsesiones las que siempre acaban arruinando su relación con las mujeres. (FILMAFFINITY)\n",
      "---------------------------------------------\n",
      "Título original: The Philadelphia Story\n",
      "Género: Comedia.                 Romance |                 Comedia romántica.                 Comedia screwball.                 Comedia sofisticada.                 Bodas\n",
      "Sinopsis: La mansión de los Lord se prepara para celebrar la segunda boda de Tracy Lord (Katharine Hepburn) con el rico George Kittredge (John Howard). Para inmortalizar los festejos una pareja de periodistas, Macauley Connor (James Stewart) y Elizabeth Imbrie (Ruth Hussey), son invitados especialmente por C.K. Dexter Haven (Cary Grant), el primer marido de Tracy. (FILMAFFINITY)\n",
      "---------------------------------------------\n",
      "Título original: The Shop Around the Corner\n",
      "Género: Romance.                 Comedia |                 Comedia romántica\n",
      "Sinopsis: Alfred Kralik es el tímido jefe de vendedores de Matuschek y Compañía, una tienda de Budapest. Todas las mañanas, los empleados esperan juntos la llegada de su jefe, Hugo Matuschek. A pesar de su timidez, Alfred responde al anuncio de un periódico y mantiene un romance por carta. Su jefe decide contratar a una tal Klara Novak en contra de la opinión de Alfred. En el trabajo, Alfred discute constantemente con ella, sin sospechar que es su corresponsal secreta. (FILMAFFINITY)\n",
      "---------------------------------------------\n",
      "Título original: The Circus\n",
      "Género: Comedia |                 Cine mudo.                 Circo\n",
      "Sinopsis: Último film mudo de Chaplin. El vagabundo Charlot viaja con un circo ambulante y se enamora de una mujer jinete que está enamorada de un musculoso trapecista. Mientras tanto, le suceden mil y una peripecias. (FILMAFFINITY)\n",
      "---------------------------------------------\n",
      "Título original: Keeping Up Appearances\n",
      "Género: Serie de TV.                 Comedia |                 Sitcom\n",
      "Sinopsis: Serie de TV (1990-1995).\n",
      "---------------------------------------------\n"
     ]
    }
   ],
   "source": [
    "from bs4 import BeautifulSoup\n",
    "import requests\n",
    "\n",
    "with open('urls.txt', 'r') as f:\n",
    "    urls = f.readlines()\n",
    "\n",
    "for url in urls:\n",
    "    response = requests.get(url.strip())\n",
    "    soup = BeautifulSoup(response.content, 'html.parser')\n",
    "\n",
    "    # extraer información de la película\n",
    "    original_title = soup.find('dt', string='Título original').find_next_sibling('dd').text.strip()\n",
    "    genre = soup.find('dt', string='Género').find_next_sibling('dd').text.strip()\n",
    "    synopsis = soup.find('dt', string='Sinopsis').find_next_sibling('dd').text.strip()\n",
    "\n",
    "    # imprimir información de la película\n",
    "    print(f'Título original: {original_title}')\n",
    "    print(f'Género: {genre}')\n",
    "    print(f'Sinopsis: {synopsis}')\n",
    "    print('---------------------------------------------')\n"
   ]
  },
  {
   "cell_type": "code",
   "execution_count": 3,
   "metadata": {},
   "outputs": [
    {
     "data": {
      "text/html": [
       "<h2>Twin Peaks The Return: Gotta Light?</h2>"
      ],
      "text/plain": [
       "<IPython.core.display.HTML object>"
      ]
     },
     "metadata": {},
     "output_type": "display_data"
    },
    {
     "data": {
      "text/html": [
       "<img src=\"https://pics.filmaffinity.com/twin_peaks_the_return_gotta_light-627324722-mmed.jpg\" />"
      ],
      "text/plain": [
       "<IPython.core.display.HTML object>"
      ]
     },
     "metadata": {},
     "output_type": "display_data"
    },
    {
     "data": {
      "text/html": [
       "<b>Género:</b> Intriga.                 Terror |                 Surrealismo.                 Episodio de TV"
      ],
      "text/plain": [
       "<IPython.core.display.HTML object>"
      ]
     },
     "metadata": {},
     "output_type": "display_data"
    },
    {
     "data": {
      "text/html": [
       "<b>Sinopsis:</b> Dirigido por Lynch y escrito por él y Mark Frost, \"Part 8\" (Gotta Light?) es el episodio más aclamado y aplaudido de \"Twin Peaks: The Return\", que presenta en blanco y negro, sin apenas diálogos (el guión consta de 15 páginas) y de forma muy surrealista la historia de origen del mal que azotó a ese pequeño pueblo mucho antes de los acontecimientos sucedidos con Laura Palmer. Fue nominado a múltiples Emmy y los Art Directors Guild en el año de su estreno."
      ],
      "text/plain": [
       "<IPython.core.display.HTML object>"
      ]
     },
     "metadata": {},
     "output_type": "display_data"
    },
    {
     "data": {
      "text/html": [
       "<hr/>"
      ],
      "text/plain": [
       "<IPython.core.display.HTML object>"
      ]
     },
     "metadata": {},
     "output_type": "display_data"
    },
    {
     "data": {
      "text/html": [
       "<h2>Psycho</h2>"
      ],
      "text/plain": [
       "<IPython.core.display.HTML object>"
      ]
     },
     "metadata": {},
     "output_type": "display_data"
    },
    {
     "data": {
      "text/html": [
       "<img src=\"https://pics.filmaffinity.com/psycho-805182707-mmed.jpg\" />"
      ],
      "text/plain": [
       "<IPython.core.display.HTML object>"
      ]
     },
     "metadata": {},
     "output_type": "display_data"
    },
    {
     "data": {
      "text/html": [
       "<b>Género:</b> Terror.                 Intriga.                 Thriller |                 Asesinos en serie.                 Slasher.                 Thriller psicológico.                 Película de culto"
      ],
      "text/plain": [
       "<IPython.core.display.HTML object>"
      ]
     },
     "metadata": {},
     "output_type": "display_data"
    },
    {
     "data": {
      "text/html": [
       "<b>Sinopsis:</b> Marion Crane, una joven secretaria, tras cometer el robo de un dinero en su empresa, huye de la ciudad y, después de conducir durante horas, decide descansar en un pequeño y apartado motel de carretera regentado por un tímido joven, Norman Bates, que vive en la casa de al lado con su madre. (FILMAFFINITY)"
      ],
      "text/plain": [
       "<IPython.core.display.HTML object>"
      ]
     },
     "metadata": {},
     "output_type": "display_data"
    },
    {
     "data": {
      "text/html": [
       "<hr/>"
      ],
      "text/plain": [
       "<IPython.core.display.HTML object>"
      ]
     },
     "metadata": {},
     "output_type": "display_data"
    },
    {
     "data": {
      "text/html": [
       "<h2>Black Mirror</h2>"
      ],
      "text/plain": [
       "<IPython.core.display.HTML object>"
      ]
     },
     "metadata": {},
     "output_type": "display_data"
    },
    {
     "data": {
      "text/html": [
       "<img src=\"https://pics.filmaffinity.com/black_mirror-182084515-mmed.jpg\" />"
      ],
      "text/plain": [
       "<IPython.core.display.HTML object>"
      ]
     },
     "metadata": {},
     "output_type": "display_data"
    },
    {
     "data": {
      "text/html": [
       "<b>Género:</b> Serie de TV.                 Ciencia ficción.                 Thriller.                 Terror.                 Drama |                 Internet / Informática.                 Comedia negra.                 Sátira.                 Serie de antología"
      ],
      "text/plain": [
       "<IPython.core.display.HTML object>"
      ]
     },
     "metadata": {},
     "output_type": "display_data"
    },
    {
     "data": {
      "text/html": [
       "<b>Sinopsis:</b> Serie de TV (2011-2019). 5 temporadas. 22 episodios. Serie antológica creada por Charlie Brooker (\"Dead Set\") que muestra el lado oscuro de la tecnología y cómo esta afecta y puede alterar nuestra vida, a veces con consecuencias tan impredecibles como aterradoras. \"Black Mirror\" comenzó su emisión en 2011 en el canal británico Channel 4, con dos temporadas de tres episodios cada una, y tras producirse un especial de Navidad la serie fue comprada y renovada por Netflix, que ya ha producido tres temporadas más. (FILMAFFINITY)"
      ],
      "text/plain": [
       "<IPython.core.display.HTML object>"
      ]
     },
     "metadata": {},
     "output_type": "display_data"
    },
    {
     "data": {
      "text/html": [
       "<hr/>"
      ],
      "text/plain": [
       "<IPython.core.display.HTML object>"
      ]
     },
     "metadata": {},
     "output_type": "display_data"
    },
    {
     "data": {
      "text/html": [
       "<h2>Freaks</h2>"
      ],
      "text/plain": [
       "<IPython.core.display.HTML object>"
      ]
     },
     "metadata": {},
     "output_type": "display_data"
    },
    {
     "data": {
      "text/html": [
       "<img src=\"https://pics.filmaffinity.com/freaks-293452897-mmed.jpg\" />"
      ],
      "text/plain": [
       "<IPython.core.display.HTML object>"
      ]
     },
     "metadata": {},
     "output_type": "display_data"
    },
    {
     "data": {
      "text/html": [
       "<b>Género:</b> Drama.                 Terror |                 Discapacidad.                 Circo.                 Película de culto"
      ],
      "text/plain": [
       "<IPython.core.display.HTML object>"
      ]
     },
     "metadata": {},
     "output_type": "display_data"
    },
    {
     "data": {
      "text/html": [
       "<b>Sinopsis:</b> En un circo lleno de seres deformes, tullidos y personas con diversas amputaciones, Hans, uno de los enanos, hereda una fortuna. A partir de ese momento, Cleopatra, una bella trapecista, intentará seducirlo para hacerse con su dinero. Para lograr su objetivo, traza un plan contando con la complicidad de Hércules, el forzudo del circo. (FILMAFFINITY)"
      ],
      "text/plain": [
       "<IPython.core.display.HTML object>"
      ]
     },
     "metadata": {},
     "output_type": "display_data"
    },
    {
     "data": {
      "text/html": [
       "<hr/>"
      ],
      "text/plain": [
       "<IPython.core.display.HTML object>"
      ]
     },
     "metadata": {},
     "output_type": "display_data"
    },
    {
     "data": {
      "text/html": [
       "<h2>The Shining</h2>"
      ],
      "text/plain": [
       "<IPython.core.display.HTML object>"
      ]
     },
     "metadata": {},
     "output_type": "display_data"
    },
    {
     "data": {
      "text/html": [
       "<img src=\"https://pics.filmaffinity.com/the_shining-453129380-mmed.jpg\" />"
      ],
      "text/plain": [
       "<IPython.core.display.HTML object>"
      ]
     },
     "metadata": {},
     "output_type": "display_data"
    },
    {
     "data": {
      "text/html": [
       "<b>Género:</b> Terror |                 Sobrenatural.                 Casas encantadas.                 Fantasmas.                 Drama psicológico.                 Película de culto"
      ],
      "text/plain": [
       "<IPython.core.display.HTML object>"
      ]
     },
     "metadata": {},
     "output_type": "display_data"
    },
    {
     "data": {
      "text/html": [
       "<b>Sinopsis:</b> Jack Torrance se traslada con su mujer y su hijo de siete años al impresionante hotel Overlook, en Colorado, para encargarse del mantenimiento de las instalaciones durante la temporada invernal, época en la que permanece cerrado y aislado por la nieve. Su objetivo es encontrar paz y sosiego para escribir una novela. Sin embargo, poco después de su llegada al hotel, al mismo tiempo que Jack empieza a padecer inquietantes trastornos de personalidad, se suceden extraños y espeluznantes fenómenos paranormales. (FILMAFFINITY)"
      ],
      "text/plain": [
       "<IPython.core.display.HTML object>"
      ]
     },
     "metadata": {},
     "output_type": "display_data"
    },
    {
     "data": {
      "text/html": [
       "<hr/>"
      ],
      "text/plain": [
       "<IPython.core.display.HTML object>"
      ]
     },
     "metadata": {},
     "output_type": "display_data"
    },
    {
     "data": {
      "text/html": [
       "<h2>Doctor Who: Blink</h2>"
      ],
      "text/plain": [
       "<IPython.core.display.HTML object>"
      ]
     },
     "metadata": {},
     "output_type": "display_data"
    },
    {
     "data": {
      "text/html": [
       "<img src=\"https://pics.filmaffinity.com/doctor_who_blink-942137081-mmed.jpg\" />"
      ],
      "text/plain": [
       "<IPython.core.display.HTML object>"
      ]
     },
     "metadata": {},
     "output_type": "display_data"
    },
    {
     "data": {
      "text/html": [
       "<b>Género:</b> Terror.                 Thriller.                 Ciencia ficción |                 Doctor Who.                 Sobrenatural.                 Monstruos.                 Mediometraje.                 Episodio de TV"
      ],
      "text/plain": [
       "<IPython.core.display.HTML object>"
      ]
     },
     "metadata": {},
     "output_type": "display_data"
    },
    {
     "data": {
      "text/html": [
       "<b>Sinopsis:</b> En una vieja casa abandonada, Sally Sparrow encuentra un mensaje fechado en 1969 y dirigido a ella. Mientras sus amigos empiezan a desaparecer en extrañas circunstancias, alguien de otra época intenta ponerse en contacto con ella para avisarle de que corre un grave peligro. Episodio de la tercera temporada del Doctor Who, ganador de numerosos premios y considerado por crítica y público como uno de los mejores de la historia de la serie. (FILMAFFINITY)"
      ],
      "text/plain": [
       "<IPython.core.display.HTML object>"
      ]
     },
     "metadata": {},
     "output_type": "display_data"
    },
    {
     "data": {
      "text/html": [
       "<hr/>"
      ],
      "text/plain": [
       "<IPython.core.display.HTML object>"
      ]
     },
     "metadata": {},
     "output_type": "display_data"
    },
    {
     "data": {
      "text/html": [
       "<h2>Das Cabinet des Dr. Caligariaka</h2>"
      ],
      "text/plain": [
       "<IPython.core.display.HTML object>"
      ]
     },
     "metadata": {},
     "output_type": "display_data"
    },
    {
     "data": {
      "text/html": [
       "<img src=\"https://pics.filmaffinity.com/das_cabinet_des_dr_caligari_aka_das_kabinett_des_dr_caligari-258975829-mmed.jpg\" />"
      ],
      "text/plain": [
       "<IPython.core.display.HTML object>"
      ]
     },
     "metadata": {},
     "output_type": "display_data"
    },
    {
     "data": {
      "text/html": [
       "<b>Género:</b> Terror |                 Expresionismo alemán.                 Circo.                 Asesinos en serie.                 Cine mudo.                 Película de culto"
      ],
      "text/plain": [
       "<IPython.core.display.HTML object>"
      ]
     },
     "metadata": {},
     "output_type": "display_data"
    },
    {
     "data": {
      "text/html": [
       "<b>Sinopsis:</b> Sentado en un banco de un parque, Francis anima a su compañero Alan para que vayan a Holstenwall, una ciudad del norte de Alemania, a ver el espectáculo ambulante del doctor Caligari. Un empleado municipal que le niega al doctor el permiso para actuar, aparece asesinado al día siguiente. Francis y Alan acuden a ver al doctor Caligari y a Cesare, su ayudante sonámbulo, que le anuncia a Alan su porvenir: vivirá hasta el amanecer. (FILMAFFINITY)"
      ],
      "text/plain": [
       "<IPython.core.display.HTML object>"
      ]
     },
     "metadata": {},
     "output_type": "display_data"
    },
    {
     "data": {
      "text/html": [
       "<hr/>"
      ],
      "text/plain": [
       "<IPython.core.display.HTML object>"
      ]
     },
     "metadata": {},
     "output_type": "display_data"
    },
    {
     "data": {
      "text/html": [
       "<h2>Faust – Eine deutsche Volkssage</h2>"
      ],
      "text/plain": [
       "<IPython.core.display.HTML object>"
      ]
     },
     "metadata": {},
     "output_type": "display_data"
    },
    {
     "data": {
      "text/html": [
       "<img src=\"https://pics.filmaffinity.com/faust_eine_deutsche_volkssage-203284031-mmed.jpg\" />"
      ],
      "text/plain": [
       "<IPython.core.display.HTML object>"
      ]
     },
     "metadata": {},
     "output_type": "display_data"
    },
    {
     "data": {
      "text/html": [
       "<b>Género:</b> Fantástico.                 Terror.                 Drama |                 Cine mudo.                 Expresionismo alemán"
      ],
      "text/plain": [
       "<IPython.core.display.HTML object>"
      ]
     },
     "metadata": {},
     "output_type": "display_data"
    },
    {
     "data": {
      "text/html": [
       "<b>Sinopsis:</b> Relata la historia de un célebre pensador que después de buscar sin descanso la esencia del conocimiento y la verdad oculta de las cosas, es tentado por el diablo y vende su alma. (FILMAFFINITY)"
      ],
      "text/plain": [
       "<IPython.core.display.HTML object>"
      ]
     },
     "metadata": {},
     "output_type": "display_data"
    },
    {
     "data": {
      "text/html": [
       "<hr/>"
      ],
      "text/plain": [
       "<IPython.core.display.HTML object>"
      ]
     },
     "metadata": {},
     "output_type": "display_data"
    },
    {
     "data": {
      "text/html": [
       "<h2>Michael Jackson's Thrilleraka</h2>"
      ],
      "text/plain": [
       "<IPython.core.display.HTML object>"
      ]
     },
     "metadata": {},
     "output_type": "display_data"
    },
    {
     "data": {
      "text/html": [
       "<img src=\"https://pics.filmaffinity.com/michael_jackson_s_thriller-787895301-mmed.jpg\" />"
      ],
      "text/plain": [
       "<IPython.core.display.HTML object>"
      ]
     },
     "metadata": {},
     "output_type": "display_data"
    },
    {
     "data": {
      "text/html": [
       "<b>Género:</b> Musical.                 Terror |                 Zombis.                 Hombres lobo.                 Videoclip.                 Cortometraje"
      ],
      "text/plain": [
       "<IPython.core.display.HTML object>"
      ]
     },
     "metadata": {},
     "output_type": "display_data"
    },
    {
     "data": {
      "text/html": [
       "<b>Sinopsis:</b> Tras asistir a la proyección de una película, una pareja es atacada por una horda de zombies hambrientos de sangre. Legendario videoclip musical, uno de los más influyentes jamás realizados, que contó con una versión corta y otra larga, de 13 min, y que cuenta con una historia narrativa además del número musical de Jackson. En 2009 fue seleccionado por la Biblioteca del Congreso de los Estados Unidos como una de las obras cinematográficas más relevantes de la historia, y en 2017 fue restaurado en 3D y proyectado en el Festival de Cine de Venecia, en una versión supervisada por el propio John Landis. (FILMAFFINITY)"
      ],
      "text/plain": [
       "<IPython.core.display.HTML object>"
      ]
     },
     "metadata": {},
     "output_type": "display_data"
    },
    {
     "data": {
      "text/html": [
       "<hr/>"
      ],
      "text/plain": [
       "<IPython.core.display.HTML object>"
      ]
     },
     "metadata": {},
     "output_type": "display_data"
    },
    {
     "data": {
      "text/html": [
       "<h2>Alien</h2>"
      ],
      "text/plain": [
       "<IPython.core.display.HTML object>"
      ]
     },
     "metadata": {},
     "output_type": "display_data"
    },
    {
     "data": {
      "text/html": [
       "<img src=\"https://pics.filmaffinity.com/alien-657278575-mmed.jpg\" />"
      ],
      "text/plain": [
       "<IPython.core.display.HTML object>"
      ]
     },
     "metadata": {},
     "output_type": "display_data"
    },
    {
     "data": {
      "text/html": [
       "<b>Género:</b> Ciencia ficción.                 Terror |                 Extraterrestres.                 Aventura espacial.                 Película de culto"
      ],
      "text/plain": [
       "<IPython.core.display.HTML object>"
      ]
     },
     "metadata": {},
     "output_type": "display_data"
    },
    {
     "data": {
      "text/html": [
       "<b>Sinopsis:</b> De regreso a la Tierra, la nave de carga Nostromo interrumpe su viaje y despierta a sus siete tripulantes. El ordenador central, MADRE, ha detectado la misteriosa transmisión de una forma de vida desconocida, procedente de un planeta cercano aparentemente deshabitado. La nave se dirige entonces al extraño planeta para investigar el origen de la comunicación. (FILMAFFINITY)"
      ],
      "text/plain": [
       "<IPython.core.display.HTML object>"
      ]
     },
     "metadata": {},
     "output_type": "display_data"
    },
    {
     "data": {
      "text/html": [
       "<hr/>"
      ],
      "text/plain": [
       "<IPython.core.display.HTML object>"
      ]
     },
     "metadata": {},
     "output_type": "display_data"
    },
    {
     "data": {
      "text/html": [
       "<h2>The Twilight Zoneaka</h2>"
      ],
      "text/plain": [
       "<IPython.core.display.HTML object>"
      ]
     },
     "metadata": {},
     "output_type": "display_data"
    },
    {
     "data": {
      "text/html": [
       "<img src=\"https://pics.filmaffinity.com/the_twilight_zone-426150691-mmed.jpg\" />"
      ],
      "text/plain": [
       "<IPython.core.display.HTML object>"
      ]
     },
     "metadata": {},
     "output_type": "display_data"
    },
    {
     "data": {
      "text/html": [
       "<b>Género:</b> Serie de TV.                 Fantástico.                 Terror.                 Ciencia ficción.                 Intriga.                 Thriller |                 Serie de antología"
      ],
      "text/plain": [
       "<IPython.core.display.HTML object>"
      ]
     },
     "metadata": {},
     "output_type": "display_data"
    },
    {
     "data": {
      "text/html": [
       "<b>Sinopsis:</b> Serie de TV (1959-1964). 5 temporadas. 156 episodios. \"The Twilight Zone\", conocida en España como \"La Dimensión desconocida\" o \"En los límites de la realidad\", fue una serie mayúscula de la televisión estadounidense que marcó el porvenir de la ciencia ficción tanto en la pequeña como en la gran pantalla. Creada, escrita y narrada por Rod Serling, en cada episodio encontramos temas cotidianos, del día a día, apoyados en géneros como la ciencia ficción, la fantasía, el terror o la intriga. Todos ellos con un enorme trasfondo crítico social a la vez que metafórico. (FILMAFFINITY)"
      ],
      "text/plain": [
       "<IPython.core.display.HTML object>"
      ]
     },
     "metadata": {},
     "output_type": "display_data"
    },
    {
     "data": {
      "text/html": [
       "<hr/>"
      ],
      "text/plain": [
       "<IPython.core.display.HTML object>"
      ]
     },
     "metadata": {},
     "output_type": "display_data"
    },
    {
     "data": {
      "text/html": [
       "<h2>Les Diaboliques</h2>"
      ],
      "text/plain": [
       "<IPython.core.display.HTML object>"
      ]
     },
     "metadata": {},
     "output_type": "display_data"
    },
    {
     "data": {
      "text/html": [
       "<img src=\"https://pics.filmaffinity.com/les_diaboliques-340689829-mmed.jpg\" />"
      ],
      "text/plain": [
       "<IPython.core.display.HTML object>"
      ]
     },
     "metadata": {},
     "output_type": "display_data"
    },
    {
     "data": {
      "text/html": [
       "<b>Género:</b> Intriga.                 Thriller.                 Terror |                 Crimen.                 Thriller psicológico.                 Película de culto"
      ],
      "text/plain": [
       "<IPython.core.display.HTML object>"
      ]
     },
     "metadata": {},
     "output_type": "display_data"
    },
    {
     "data": {
      "text/html": [
       "<b>Sinopsis:</b> El director de un colegio, el señor Delasalle, convive con su esposa y su amante, la profesora Horner. Pero las dos mujeres, cansadas de sufrir la constante tiranía y malos tratos del hombre que comparten, deciden que esa situación no puede continuar... (FILMAFFINITY)"
      ],
      "text/plain": [
       "<IPython.core.display.HTML object>"
      ]
     },
     "metadata": {},
     "output_type": "display_data"
    },
    {
     "data": {
      "text/html": [
       "<hr/>"
      ],
      "text/plain": [
       "<IPython.core.display.HTML object>"
      ]
     },
     "metadata": {},
     "output_type": "display_data"
    },
    {
     "data": {
      "text/html": [
       "<h2>Nosferatu – Eine Symphonie des Grauens</h2>"
      ],
      "text/plain": [
       "<IPython.core.display.HTML object>"
      ]
     },
     "metadata": {},
     "output_type": "display_data"
    },
    {
     "data": {
      "text/html": [
       "<img src=\"https://pics.filmaffinity.com/nosferatu_eine_symphonie_des_grauens-257840643-mmed.jpg\" />"
      ],
      "text/plain": [
       "<IPython.core.display.HTML object>"
      ]
     },
     "metadata": {},
     "output_type": "display_data"
    },
    {
     "data": {
      "text/html": [
       "<b>Género:</b> Terror |                 Expresionismo alemán.                 Cine mudo.                 Película de culto.                 Vampiros.                 Siglo XIX"
      ],
      "text/plain": [
       "<IPython.core.display.HTML object>"
      ]
     },
     "metadata": {},
     "output_type": "display_data"
    },
    {
     "data": {
      "text/html": [
       "<b>Sinopsis:</b> Año 1838. En la ciudad de Wisborg viven felices el joven Hutter y su mujer Ellen, hasta que el oscuro agente inmobiliario Knock decide enviar a Hutter a Transilvania para cerrar un negocio con el conde Orlok. Se trata de la venta de una finca de Wisborg, que linda con la casa de Hutter. Durante el largo viaje, Hutter pernocta en una posada, donde ojea un viejo tratado sobre vampiros que encuentra en su habitación. Una vez en el castillo, es recibido por el siniestro conde. Al día siguiente, Hutter amanece con dos pequeñas marcas en el cuello, que interpreta como picaduras de mosquito. Una vez firmado el contrato, descubre que el conde es, en realidad, un vampiro. Al verle partir hacia su nuevo hogar, Hutter teme por Ellen. (FILMAFFINITY)"
      ],
      "text/plain": [
       "<IPython.core.display.HTML object>"
      ]
     },
     "metadata": {},
     "output_type": "display_data"
    },
    {
     "data": {
      "text/html": [
       "<hr/>"
      ],
      "text/plain": [
       "<IPython.core.display.HTML object>"
      ]
     },
     "metadata": {},
     "output_type": "display_data"
    },
    {
     "data": {
      "text/html": [
       "<h2>Monsutâ (Monster)</h2>"
      ],
      "text/plain": [
       "<IPython.core.display.HTML object>"
      ]
     },
     "metadata": {},
     "output_type": "display_data"
    },
    {
     "data": {
      "text/html": [
       "<img src=\"https://pics.filmaffinity.com/monsuta_monster-705357606-mmed.jpg\" />"
      ],
      "text/plain": [
       "<IPython.core.display.HTML object>"
      ]
     },
     "metadata": {},
     "output_type": "display_data"
    },
    {
     "data": {
      "text/html": [
       "<b>Género:</b> Serie de TV.                 Animación.                 Intriga.                 Thriller.                 Terror |                 Manga.                 Asesinos en serie.                 Crimen.                 Animación para adultos.                 Policíaco.                 Road Movie.                 Años 80.                 Años 90.                 Medicina"
      ],
      "text/plain": [
       "<IPython.core.display.HTML object>"
      ]
     },
     "metadata": {},
     "output_type": "display_data"
    },
    {
     "data": {
      "text/html": [
       "<b>Sinopsis:</b> Serie de TV (2004-2005). 74 episodios. El doctor Kenzo Tenma es un prometedor neurocirujano japonés que ejerce en el Eisler Memorial Hospital de Dusseldorf. Lo tiene todo en la vida; un trabajo que le apasiona y en el que demuestra una habilidad increíble, y una novia rica y guapa. Sin embargo, un día decide ignorar una orden de su superior y salva a un niño desconocido en lugar de la vida del alcalde de la ciudad. Como consecuencia de esto pierde su privilegiado trabajo y a su novia. Poco después, los médicos que lo destituyeron aparecen muertos y él se convierte en principal sospechoso. Tenma está dispuesto a llegar hasta el fondo de éstas y otras muertes e investigar la verdad sobre el monstruo que hay detrás de todo el asunto."
      ],
      "text/plain": [
       "<IPython.core.display.HTML object>"
      ]
     },
     "metadata": {},
     "output_type": "display_data"
    },
    {
     "data": {
      "text/html": [
       "<hr/>"
      ],
      "text/plain": [
       "<IPython.core.display.HTML object>"
      ]
     },
     "metadata": {},
     "output_type": "display_data"
    },
    {
     "data": {
      "text/html": [
       "<h2>Cuentos de terror</h2>"
      ],
      "text/plain": [
       "<IPython.core.display.HTML object>"
      ]
     },
     "metadata": {},
     "output_type": "display_data"
    },
    {
     "data": {
      "text/html": [
       "<img src=\"https://pics.filmaffinity.com/cuentos_de_terror-390364038-mmed.jpg\" />"
      ],
      "text/plain": [
       "<IPython.core.display.HTML object>"
      ]
     },
     "metadata": {},
     "output_type": "display_data"
    },
    {
     "data": {
      "text/html": [
       "<b>Género:</b> Serie de TV.                 Terror"
      ],
      "text/plain": [
       "<IPython.core.display.HTML object>"
      ]
     },
     "metadata": {},
     "output_type": "display_data"
    },
    {
     "data": {
      "text/html": [
       "<b>Sinopsis:</b> Microprograma en el que Laiseca introducía al público en el mundo de lo sobrenatural, relatando las más inquietantes historias de terror. Tales relatos no se debían solamente a las mejores figuras del género dentro de la literatura (Poe, Lovecraft, Horacio Quiroga, Lafcadio Hearn, King, John Collier, Giovanni Verga, Mujica Láinez), sino que, gracias al afán compilador de Laiseca, provenían también de creadores ligados al cine y la televisión, como Akira Kurosawa y Rod Serling (alma mater de La dimensión desconocida)."
      ],
      "text/plain": [
       "<IPython.core.display.HTML object>"
      ]
     },
     "metadata": {},
     "output_type": "display_data"
    },
    {
     "data": {
      "text/html": [
       "<hr/>"
      ],
      "text/plain": [
       "<IPython.core.display.HTML object>"
      ]
     },
     "metadata": {},
     "output_type": "display_data"
    },
    {
     "data": {
      "text/html": [
       "<h2>The Last of Us</h2>"
      ],
      "text/plain": [
       "<IPython.core.display.HTML object>"
      ]
     },
     "metadata": {},
     "output_type": "display_data"
    },
    {
     "data": {
      "text/html": [
       "<img src=\"https://pics.filmaffinity.com/the_last_of_us-722385305-mmed.jpg\" />"
      ],
      "text/plain": [
       "<IPython.core.display.HTML object>"
      ]
     },
     "metadata": {},
     "output_type": "display_data"
    },
    {
     "data": {
      "text/html": [
       "<b>Género:</b> Serie de TV.                 Terror.                 Drama.                 Ciencia ficción.                 Thriller.                 Acción |                 Futuro postapocalíptico.                 Pandemias.                 Videojuego"
      ],
      "text/plain": [
       "<IPython.core.display.HTML object>"
      ]
     },
     "metadata": {},
     "output_type": "display_data"
    },
    {
     "data": {
      "text/html": [
       "<b>Sinopsis:</b> Serie de TV (2023-). 1 temporada. 9 episodios. Veinte años después de la destrucción de la civilización moderna a causa de un hongo -el cordyceps- que se adueña del cuerpo de los humanos, uno de los supervivientes, Joel, recibe el encargo de sacar a la joven Ellie de una opresiva zona de cuarentena. Juntos cruzan Estados Unidos ayudándose mutuamente para intentar sobrevivir... Adaptación del aclamado videojuego homónimo de Naughty Dog. \n",
       "\n",
       "Renovada por una segunda temporada."
      ],
      "text/plain": [
       "<IPython.core.display.HTML object>"
      ]
     },
     "metadata": {},
     "output_type": "display_data"
    },
    {
     "data": {
      "text/html": [
       "<hr/>"
      ],
      "text/plain": [
       "<IPython.core.display.HTML object>"
      ]
     },
     "metadata": {},
     "output_type": "display_data"
    },
    {
     "data": {
      "text/html": [
       "<h2>Stranger Things</h2>"
      ],
      "text/plain": [
       "<IPython.core.display.HTML object>"
      ]
     },
     "metadata": {},
     "output_type": "display_data"
    },
    {
     "data": {
      "text/html": [
       "<img src=\"https://pics.filmaffinity.com/stranger_things-875025085-mmed.jpg\" />"
      ],
      "text/plain": [
       "<IPython.core.display.HTML object>"
      ]
     },
     "metadata": {},
     "output_type": "display_data"
    },
    {
     "data": {
      "text/html": [
       "<b>Género:</b> Serie de TV.                 Thriller.                 Terror.                 Fantástico.                 Drama |                 Sobrenatural.                 Secuestros / Desapariciones.                 Años 80.                 Monstruos"
      ],
      "text/plain": [
       "<IPython.core.display.HTML object>"
      ]
     },
     "metadata": {},
     "output_type": "display_data"
    },
    {
     "data": {
      "text/html": [
       "<b>Sinopsis:</b> Serie de TV (2016). 8 episodios. Homenaje a los clásicos misterios sobrenaturales de los años 80, \"Stranger Things\" es la historia de un niño que desaparece en el pequeño pueblo de Hawkins, Indiana, sin dejar rastro en 1983. En su búsqueda desesperada, tanto sus amigos y familiares como el sheriff local se ven envueltos en un enigma extraordinario: experimentos ultrasecretos, fuerzas paranormales terroríficas y una niña muy, muy rara... (FILMAFFINITY)"
      ],
      "text/plain": [
       "<IPython.core.display.HTML object>"
      ]
     },
     "metadata": {},
     "output_type": "display_data"
    },
    {
     "data": {
      "text/html": [
       "<hr/>"
      ],
      "text/plain": [
       "<IPython.core.display.HTML object>"
      ]
     },
     "metadata": {},
     "output_type": "display_data"
    },
    {
     "data": {
      "text/html": [
       "<h2>Chainsaw Man</h2>"
      ],
      "text/plain": [
       "<IPython.core.display.HTML object>"
      ]
     },
     "metadata": {},
     "output_type": "display_data"
    },
    {
     "data": {
      "text/html": [
       "<img src=\"https://pics.filmaffinity.com/chainsaw_man-967317687-mmed.jpg\" />"
      ],
      "text/plain": [
       "<IPython.core.display.HTML object>"
      ]
     },
     "metadata": {},
     "output_type": "display_data"
    },
    {
     "data": {
      "text/html": [
       "<b>Género:</b> Serie de TV.                 Animación.                 Terror.                 Fantástico.                 Acción.                 Comedia |                 Gore.                 Animación para adultos.                 Manga"
      ],
      "text/plain": [
       "<IPython.core.display.HTML object>"
      ]
     },
     "metadata": {},
     "output_type": "display_data"
    },
    {
     "data": {
      "text/html": [
       "<b>Sinopsis:</b> Denji es un joven pobre que haría cualquier cosa por dinero, incluso perseguir demonios con su perro diabólico Pochita. Es una persona simple, con sueños simples, que se está ahogando en una montaña de deudas. Pero su triste vida da un vuelco cuando le traiciona alguien en quien confía. Ahora, con el poder del demonio dentro, Denji da la bienvenida a un hombre nuevo —¡'Chainsaw Man'!."
      ],
      "text/plain": [
       "<IPython.core.display.HTML object>"
      ]
     },
     "metadata": {},
     "output_type": "display_data"
    },
    {
     "data": {
      "text/html": [
       "<hr/>"
      ],
      "text/plain": [
       "<IPython.core.display.HTML object>"
      ]
     },
     "metadata": {},
     "output_type": "display_data"
    },
    {
     "data": {
      "text/html": [
       "<h2>Kill Bill Chapter 3: The Origin of O-Ren</h2>"
      ],
      "text/plain": [
       "<IPython.core.display.HTML object>"
      ]
     },
     "metadata": {},
     "output_type": "display_data"
    },
    {
     "data": {
      "text/html": [
       "<img src=\"https://pics.filmaffinity.com/kill_bill_chapter_3_the_origin_of_o_ren-556363462-mmed.jpg\" />"
      ],
      "text/plain": [
       "<IPython.core.display.HTML object>"
      ]
     },
     "metadata": {},
     "output_type": "display_data"
    },
    {
     "data": {
      "text/html": [
       "<b>Género:</b> Animación.                 Acción.                 Terror |                 Animación para adultos.                 Cortometraje (animación)"
      ],
      "text/plain": [
       "<IPython.core.display.HTML object>"
      ]
     },
     "metadata": {},
     "output_type": "display_data"
    },
    {
     "data": {
      "text/html": [
       "<b>Sinopsis:</b> Cortometraje de animación producido por el estudio japonés Production I.G, y que cuenta la historia del personaje de Kill Bill \"O-Ren Ishii\" en un estilo ultraviolento. Fue incluido como parte de las películas de Quentin Tarantino y su versión completa (9 minutos) se estrenó en el corte extendido \"The Whole Bloody Affair Version\"."
      ],
      "text/plain": [
       "<IPython.core.display.HTML object>"
      ]
     },
     "metadata": {},
     "output_type": "display_data"
    },
    {
     "data": {
      "text/html": [
       "<hr/>"
      ],
      "text/plain": [
       "<IPython.core.display.HTML object>"
      ]
     },
     "metadata": {},
     "output_type": "display_data"
    },
    {
     "data": {
      "text/html": [
       "<h2>Alfred Hitchcock's The Birds</h2>"
      ],
      "text/plain": [
       "<IPython.core.display.HTML object>"
      ]
     },
     "metadata": {},
     "output_type": "display_data"
    },
    {
     "data": {
      "text/html": [
       "<img src=\"https://pics.filmaffinity.com/alfred_hitchcock_s_the_birds-851609530-mmed.jpg\" />"
      ],
      "text/plain": [
       "<IPython.core.display.HTML object>"
      ]
     },
     "metadata": {},
     "output_type": "display_data"
    },
    {
     "data": {
      "text/html": [
       "<b>Género:</b> Terror |                 Animales.                 Aves / Pájaros.                 Película de culto"
      ],
      "text/plain": [
       "<IPython.core.display.HTML object>"
      ]
     },
     "metadata": {},
     "output_type": "display_data"
    },
    {
     "data": {
      "text/html": [
       "<b>Sinopsis:</b> Melanie, una joven rica y snob de la alta sociedad de San Francisco, conoce casualmente en una pajarería  al abogado Mitch Brenner. Él, que conoce por la prensa la alocada vida de Melanie, la trata con indiferencia y se va de la tienda dejándola bastante irritada. Ella, que no está acostumbrada a que la traten así, encarga unos periquitos y se presenta en la casa de la madre de Mitch, en Bodega Bay. En cuanto llega, los pájaros, enloquecidos, empiezan a atacar salvajemente a los habitantes del lugar. La situación se agrava a medida que avanzan las horas. (FILMAFFINITY)"
      ],
      "text/plain": [
       "<IPython.core.display.HTML object>"
      ]
     },
     "metadata": {},
     "output_type": "display_data"
    },
    {
     "data": {
      "text/html": [
       "<hr/>"
      ],
      "text/plain": [
       "<IPython.core.display.HTML object>"
      ]
     },
     "metadata": {},
     "output_type": "display_data"
    },
    {
     "data": {
      "text/html": [
       "<h2>Mushishi - Mushi-Shi (Bugmaster)</h2>"
      ],
      "text/plain": [
       "<IPython.core.display.HTML object>"
      ]
     },
     "metadata": {},
     "output_type": "display_data"
    },
    {
     "data": {
      "text/html": [
       "<img src=\"https://pics.filmaffinity.com/mushishi_mushi_shi_bugmaster-660358417-mmed.jpg\" />"
      ],
      "text/plain": [
       "<IPython.core.display.HTML object>"
      ]
     },
     "metadata": {},
     "output_type": "display_data"
    },
    {
     "data": {
      "text/html": [
       "<b>Género:</b> Serie de TV.                 Animación.                 Drama.                 Fantástico.                 Aventuras.                 Terror.                 Intriga |                 Manga"
      ],
      "text/plain": [
       "<IPython.core.display.HTML object>"
      ]
     },
     "metadata": {},
     "output_type": "display_data"
    },
    {
     "data": {
      "text/html": [
       "<b>Sinopsis:</b> Serie de TV (2005-2006). 1 temporada. 26 episodios. Como Mushishi o experto en Mushis, Ginko recorre el mundo ayudando a aquellos cuyas vidas se han visto trastornadas, de una forma u otra, al entrar en contacto con estas criaturas extrañas. Los Mushis habitan, en ocasiones, en los seres humanos, parasitándolos. A cambio, pueden otorgar habilidades extraordinarias a su anfitrión... En 2006, Katsuhiro Ôtomo (Akira, Memories) realizó una versión con actores reales de esta serie. (FILMAFFINITY)"
      ],
      "text/plain": [
       "<IPython.core.display.HTML object>"
      ]
     },
     "metadata": {},
     "output_type": "display_data"
    },
    {
     "data": {
      "text/html": [
       "<hr/>"
      ],
      "text/plain": [
       "<IPython.core.display.HTML object>"
      ]
     },
     "metadata": {},
     "output_type": "display_data"
    },
    {
     "data": {
      "text/html": [
       "<h2>Onibaba</h2>"
      ],
      "text/plain": [
       "<IPython.core.display.HTML object>"
      ]
     },
     "metadata": {},
     "output_type": "display_data"
    },
    {
     "data": {
      "text/html": [
       "<img src=\"https://pics.filmaffinity.com/onibaba-427608668-mmed.jpg\" />"
      ],
      "text/plain": [
       "<IPython.core.display.HTML object>"
      ]
     },
     "metadata": {},
     "output_type": "display_data"
    },
    {
     "data": {
      "text/html": [
       "<b>Género:</b> Drama.                 Fantástico.                 Terror |                 Sobrenatural.                 Japón feudal.                 Siglo XIV.                 Película de culto.                 J-Horror"
      ],
      "text/plain": [
       "<IPython.core.display.HTML object>"
      ]
     },
     "metadata": {},
     "output_type": "display_data"
    },
    {
     "data": {
      "text/html": [
       "<b>Sinopsis:</b> En el Japón medieval, la madre y la esposa de un guerrero esperan su vuelta del frente. Sobreviven engañando a los soldados perdidos en los campos, a los que asesinan para luego vender sus pertenencias... (FILMAFFINITY)"
      ],
      "text/plain": [
       "<IPython.core.display.HTML object>"
      ]
     },
     "metadata": {},
     "output_type": "display_data"
    },
    {
     "data": {
      "text/html": [
       "<hr/>"
      ],
      "text/plain": [
       "<IPython.core.display.HTML object>"
      ]
     },
     "metadata": {},
     "output_type": "display_data"
    },
    {
     "data": {
      "text/html": [
       "<h2>The Innocents</h2>"
      ],
      "text/plain": [
       "<IPython.core.display.HTML object>"
      ]
     },
     "metadata": {},
     "output_type": "display_data"
    },
    {
     "data": {
      "text/html": [
       "<img src=\"https://pics.filmaffinity.com/the_innocents-551263872-mmed.jpg\" />"
      ],
      "text/plain": [
       "<IPython.core.display.HTML object>"
      ]
     },
     "metadata": {},
     "output_type": "display_data"
    },
    {
     "data": {
      "text/html": [
       "<b>Género:</b> Terror.                 Intriga |                 Sobrenatural.                 Casas encantadas.                 Fantasmas"
      ],
      "text/plain": [
       "<IPython.core.display.HTML object>"
      ]
     },
     "metadata": {},
     "output_type": "display_data"
    },
    {
     "data": {
      "text/html": [
       "<b>Sinopsis:</b> Una puritana institutriz es contratada para hacerse cargo de la educación de dos niños huérfanos que viven en una apartada mansión rural. Pronto empieza a sospechar que los antiguos criados, muertos hace tiempo, ejercen todavía una perniciosa influencia en la vida de los niños. Basada en la novela de Henry James \"Otra vuelta de tuerca\". (FILMAFFINITY)"
      ],
      "text/plain": [
       "<IPython.core.display.HTML object>"
      ]
     },
     "metadata": {},
     "output_type": "display_data"
    },
    {
     "data": {
      "text/html": [
       "<hr/>"
      ],
      "text/plain": [
       "<IPython.core.display.HTML object>"
      ]
     },
     "metadata": {},
     "output_type": "display_data"
    },
    {
     "data": {
      "text/html": [
       "<h2>Rosemary's Baby</h2>"
      ],
      "text/plain": [
       "<IPython.core.display.HTML object>"
      ]
     },
     "metadata": {},
     "output_type": "display_data"
    },
    {
     "data": {
      "text/html": [
       "<img src=\"https://pics.filmaffinity.com/rosemary_s_baby-673657233-mmed.jpg\" />"
      ],
      "text/plain": [
       "<IPython.core.display.HTML object>"
      ]
     },
     "metadata": {},
     "output_type": "display_data"
    },
    {
     "data": {
      "text/html": [
       "<b>Género:</b> Terror.                 Drama |                 Sobrenatural.                 Posesiones / Exorcismos.                 Drama psicológico.                 Película de culto.                 Brujería.                 Maternidad.                 Nochevieja / Año nuevo"
      ],
      "text/plain": [
       "<IPython.core.display.HTML object>"
      ]
     },
     "metadata": {},
     "output_type": "display_data"
    },
    {
     "data": {
      "text/html": [
       "<b>Sinopsis:</b> Los Woodhouse, un matrimonio neoyorquino, se mudan a un edificio situado frente a Central Park, sobre el cual, según un amigo, pesa una maldición. Una vez instalados, se hacen amigos de Minnie y Roman Castevet, unos vecinos que los colman de atenciones. Ante la perspectiva de un buen futuro, los Woodhouse deciden tener un hijo; pero, cuando Rosemary se queda embarazada, lo único que recuerda es haber hecho el amor con una extraña criatura que le ha dejado el cuerpo lleno de marcas. Con el paso del tiempo, Rosemary empieza a sospechar que su embarazo no es normal. (FILMAFFINITY)"
      ],
      "text/plain": [
       "<IPython.core.display.HTML object>"
      ]
     },
     "metadata": {},
     "output_type": "display_data"
    },
    {
     "data": {
      "text/html": [
       "<hr/>"
      ],
      "text/plain": [
       "<IPython.core.display.HTML object>"
      ]
     },
     "metadata": {},
     "output_type": "display_data"
    },
    {
     "data": {
      "text/html": [
       "<h2>The Last of Us: When You're Lost in the Darkness</h2>"
      ],
      "text/plain": [
       "<IPython.core.display.HTML object>"
      ]
     },
     "metadata": {},
     "output_type": "display_data"
    },
    {
     "data": {
      "text/html": [
       "<img src=\"https://pics.filmaffinity.com/the_last_of_us_when_you_re_lost_in_the_darkness-991188499-mmed.jpg\" />"
      ],
      "text/plain": [
       "<IPython.core.display.HTML object>"
      ]
     },
     "metadata": {},
     "output_type": "display_data"
    },
    {
     "data": {
      "text/html": [
       "<b>Género:</b> Terror |                 Futuro postapocalíptico.                 Pandemias.                 Videojuego.                 Episodio de TV"
      ],
      "text/plain": [
       "<IPython.core.display.HTML object>"
      ]
     },
     "metadata": {},
     "output_type": "display_data"
    },
    {
     "data": {
      "text/html": [
       "<b>Sinopsis:</b> La vida de Joel da un giro dramático en mitad del pánico provocado por sucesos de carácter apocalíptico cuando una epidemia global provocada por un peligroso hongo comienza a expandirse violentamente entre los humanos amenazando con destruir toda la civilización moderna... Episodio piloto de \"The Last of Us\". (FILMAFFINITY)"
      ],
      "text/plain": [
       "<IPython.core.display.HTML object>"
      ]
     },
     "metadata": {},
     "output_type": "display_data"
    },
    {
     "data": {
      "text/html": [
       "<hr/>"
      ],
      "text/plain": [
       "<IPython.core.display.HTML object>"
      ]
     },
     "metadata": {},
     "output_type": "display_data"
    },
    {
     "data": {
      "text/html": [
       "<h2>Kaidanaka</h2>"
      ],
      "text/plain": [
       "<IPython.core.display.HTML object>"
      ]
     },
     "metadata": {},
     "output_type": "display_data"
    },
    {
     "data": {
      "text/html": [
       "<img src=\"https://pics.filmaffinity.com/kaidan-290007578-mmed.jpg\" />"
      ],
      "text/plain": [
       "<IPython.core.display.HTML object>"
      ]
     },
     "metadata": {},
     "output_type": "display_data"
    },
    {
     "data": {
      "text/html": [
       "<b>Género:</b> Fantástico.                 Terror.                 Drama |                 Sobrenatural.                 Fantasmas.                 J-Horror.                 Samuráis.                 Película de episodios"
      ],
      "text/plain": [
       "<IPython.core.display.HTML object>"
      ]
     },
     "metadata": {},
     "output_type": "display_data"
    },
    {
     "data": {
      "text/html": [
       "<b>Sinopsis:</b> Filme basado en cuatro historias del escritor Lafcadio Hearn. \n",
       "- \"Pelo negro\": Un samurái no soporta a su mujer y la abandona por una princesa; y años después vuelve a casa para realizar un terrible descubrimiento. \n",
       "- \"La mujer en la nieve\": Dos leñadores se refugian de una tormenta de nieve en una especie de cobertizo abandonado. \n",
       "- \"Hoichi\": El fantasma de un samurái le pide a un músico ciego que toque una balada en la tumba de su señor. \n",
       "- \"En la taza de té\": Un samurái se asusta ante la visión de un hombre reflejado en su taza. (FILMAFFINITY)"
      ],
      "text/plain": [
       "<IPython.core.display.HTML object>"
      ]
     },
     "metadata": {},
     "output_type": "display_data"
    },
    {
     "data": {
      "text/html": [
       "<hr/>"
      ],
      "text/plain": [
       "<IPython.core.display.HTML object>"
      ]
     },
     "metadata": {},
     "output_type": "display_data"
    },
    {
     "data": {
      "text/html": [
       "<h2>El hombre que volvió de la muerte</h2>"
      ],
      "text/plain": [
       "<IPython.core.display.HTML object>"
      ]
     },
     "metadata": {},
     "output_type": "display_data"
    },
    {
     "data": {
      "text/html": [
       "<img src=\"https://pics.filmaffinity.com/el_hombre_que_volvio_de_la_muerte_tv_series-377010880-mmed.jpg\" />"
      ],
      "text/plain": [
       "<IPython.core.display.HTML object>"
      ]
     },
     "metadata": {},
     "output_type": "display_data"
    },
    {
     "data": {
      "text/html": [
       "<b>Género:</b> Serie de TV.                 Terror.                 Drama.                 Intriga |                 Crimen.                 Venganza"
      ],
      "text/plain": [
       "<IPython.core.display.HTML object>"
      ]
     },
     "metadata": {},
     "output_type": "display_data"
    },
    {
     "data": {
      "text/html": [
       "<b>Sinopsis:</b> Serie de TV de 18 episodios (1969). El difunto Elmer Van Hess regresa a su pueblo vestido de negro y ocultando su rostro tras una extraña máscara. Su intención es vengarse de todos los que contribuyeron a su muerte. Al parecer, Elmer había sido víctima de un experimento científico que consistió en implantarle \"un cerebro electrónico\" que le impide morir. Su venganza comienza cuando les envía unas ranas de ópalo a cada una de sus víctimas. (FILMAFFINITY)"
      ],
      "text/plain": [
       "<IPython.core.display.HTML object>"
      ]
     },
     "metadata": {},
     "output_type": "display_data"
    },
    {
     "data": {
      "text/html": [
       "<hr/>"
      ],
      "text/plain": [
       "<IPython.core.display.HTML object>"
      ]
     },
     "metadata": {},
     "output_type": "display_data"
    },
    {
     "data": {
      "text/html": [
       "<h2>The Unknownaka</h2>"
      ],
      "text/plain": [
       "<IPython.core.display.HTML object>"
      ]
     },
     "metadata": {},
     "output_type": "display_data"
    },
    {
     "data": {
      "text/html": [
       "<img src=\"https://pics.filmaffinity.com/the_unknown-334967942-mmed.jpg\" />"
      ],
      "text/plain": [
       "<IPython.core.display.HTML object>"
      ]
     },
     "metadata": {},
     "output_type": "display_data"
    },
    {
     "data": {
      "text/html": [
       "<b>Género:</b> Drama.                 Terror |                 Circo.                 Cine mudo"
      ],
      "text/plain": [
       "<IPython.core.display.HTML object>"
      ]
     },
     "metadata": {},
     "output_type": "display_data"
    },
    {
     "data": {
      "text/html": [
       "<b>Sinopsis:</b> Alonzo es una de las atracciones del circo gitano de Zanzi. Aunque es manco, arroja hábilmente con los pies cuchillos contra Nanon, la bella hija de Zanzi. A la joven no le gusta que los hombres la manoseen, en especial Malabar, el hombre forzudo. Por eso se siente muy a gusto con Alonzo, pero éste no es quien dice ser. (FILMAFFINITY)"
      ],
      "text/plain": [
       "<IPython.core.display.HTML object>"
      ]
     },
     "metadata": {},
     "output_type": "display_data"
    },
    {
     "data": {
      "text/html": [
       "<hr/>"
      ],
      "text/plain": [
       "<IPython.core.display.HTML object>"
      ]
     },
     "metadata": {},
     "output_type": "display_data"
    },
    {
     "data": {
      "text/html": [
       "<h2>The Nightmare Before Christmasaka</h2>"
      ],
      "text/plain": [
       "<IPython.core.display.HTML object>"
      ]
     },
     "metadata": {},
     "output_type": "display_data"
    },
    {
     "data": {
      "text/html": [
       "<img src=\"https://pics.filmaffinity.com/the_nightmare_before_christmas-136057718-mmed.jpg\" />"
      ],
      "text/plain": [
       "<IPython.core.display.HTML object>"
      ]
     },
     "metadata": {},
     "output_type": "display_data"
    },
    {
     "data": {
      "text/html": [
       "<b>Género:</b> Animación.                 Fantástico.                 Musical.                 Romance.                 Terror |                 Comedia de terror.                 Monstruos.                 Halloween.                 Navidad.                 Stop Motion.                 Película de culto.                 3-D.                 Animación para adultos"
      ],
      "text/plain": [
       "<IPython.core.display.HTML object>"
      ]
     },
     "metadata": {},
     "output_type": "display_data"
    },
    {
     "data": {
      "text/html": [
       "<b>Sinopsis:</b> Cuando Jack Skellington, el Señor de Halloween, descubre la Navidad, se queda fascinado y decide mejorarla. Sin embargo, su visión de la festividad es totalmente contraria al espíritu navideño. Sus planes incluyen el secuestro de Santa Claus y la introducción de cambios bastante macabros. Sólo su novia Sally es consciente del error que está cometiendo. (FILMAFFINITY)"
      ],
      "text/plain": [
       "<IPython.core.display.HTML object>"
      ]
     },
     "metadata": {},
     "output_type": "display_data"
    },
    {
     "data": {
      "text/html": [
       "<hr/>"
      ],
      "text/plain": [
       "<IPython.core.display.HTML object>"
      ]
     },
     "metadata": {},
     "output_type": "display_data"
    },
    {
     "data": {
      "text/html": [
       "<h2>La cabina</h2>"
      ],
      "text/plain": [
       "<IPython.core.display.HTML object>"
      ]
     },
     "metadata": {},
     "output_type": "display_data"
    },
    {
     "data": {
      "text/html": [
       "<img src=\"https://pics.filmaffinity.com/la_cabina_tv-317140834-mmed.jpg\" />"
      ],
      "text/plain": [
       "<IPython.core.display.HTML object>"
      ]
     },
     "metadata": {},
     "output_type": "display_data"
    },
    {
     "data": {
      "text/html": [
       "<b>Género:</b> Intriga.                 Drama.                 Terror |                 Surrealismo.                 Mediometraje.                 Telefilm"
      ],
      "text/plain": [
       "<IPython.core.display.HTML object>"
      ]
     },
     "metadata": {},
     "output_type": "display_data"
    },
    {
     "data": {
      "text/html": [
       "<b>Sinopsis:</b> Producción realizada para la televisión que narra la progresiva angustia de un hombre (López Vázquez) que se queda atrapado en una cabina telefónica. Lo que en principio parece un contratiempo sin trascendencia, se convierte poco a poco en una situación tan inquietante y terrorífica que provoca en el hombre una desesperación y una angustia sin límites. (FILMAFFINITY)"
      ],
      "text/plain": [
       "<IPython.core.display.HTML object>"
      ]
     },
     "metadata": {},
     "output_type": "display_data"
    },
    {
     "data": {
      "text/html": [
       "<hr/>"
      ],
      "text/plain": [
       "<IPython.core.display.HTML object>"
      ]
     },
     "metadata": {},
     "output_type": "display_data"
    },
    {
     "data": {
      "text/html": [
       "<h2>The Exorcist</h2>"
      ],
      "text/plain": [
       "<IPython.core.display.HTML object>"
      ]
     },
     "metadata": {},
     "output_type": "display_data"
    },
    {
     "data": {
      "text/html": [
       "<img src=\"https://pics.filmaffinity.com/the_exorcist-742137399-mmed.jpg\" />"
      ],
      "text/plain": [
       "<IPython.core.display.HTML object>"
      ]
     },
     "metadata": {},
     "output_type": "display_data"
    },
    {
     "data": {
      "text/html": [
       "<b>Género:</b> Terror |                 Posesiones / Exorcismos.                 Religión.                 Sobrenatural.                 Película de culto"
      ],
      "text/plain": [
       "<IPython.core.display.HTML object>"
      ]
     },
     "metadata": {},
     "output_type": "display_data"
    },
    {
     "data": {
      "text/html": [
       "<b>Sinopsis:</b> Regan, una niña de doce años, sufre fenómenos paranormales como la levitación o la manifestación de una fuerza sobrehumana. Su madre, aterrorizada, tras someter a su hija a múltiples análisis médicos que no ofrecen ningún resultado, acude a un sacerdote con estudios de psiquiatría. Éste, convencido de que el mal no es físico sino espiritual, cree que se trata de una posesión diabólica, y decide practicar un exorcismo... Adaptación de la novela de William Peter Blatty que se inspiró en un exorcismo real ocurrido en Washington en 1949. (FILMAFFINITY)"
      ],
      "text/plain": [
       "<IPython.core.display.HTML object>"
      ]
     },
     "metadata": {},
     "output_type": "display_data"
    },
    {
     "data": {
      "text/html": [
       "<hr/>"
      ],
      "text/plain": [
       "<IPython.core.display.HTML object>"
      ]
     },
     "metadata": {},
     "output_type": "display_data"
    },
    {
     "data": {
      "text/html": [
       "<h2>Yakusoku no Neverland</h2>"
      ],
      "text/plain": [
       "<IPython.core.display.HTML object>"
      ]
     },
     "metadata": {},
     "output_type": "display_data"
    },
    {
     "data": {
      "text/html": [
       "<img src=\"https://pics.filmaffinity.com/yakusoku_no_neverland-508894820-mmed.jpg\" />"
      ],
      "text/plain": [
       "<IPython.core.display.HTML object>"
      ]
     },
     "metadata": {},
     "output_type": "display_data"
    },
    {
     "data": {
      "text/html": [
       "<b>Género:</b> Serie de TV.                 Animación.                 Fantástico.                 Terror |                 Animación para adultos.                 Manga"
      ],
      "text/plain": [
       "<IPython.core.display.HTML object>"
      ]
     },
     "metadata": {},
     "output_type": "display_data"
    },
    {
     "data": {
      "text/html": [
       "<b>Sinopsis:</b> Serie de TV (2019-Actualidad). 1 temporada. 12 episodios. Por mucho que los niños la quieran, ella no es su madre. Viven juntos, pero no son familiares de sangre. Grace Field es un hogar al que son enviados los niños que no tienen padres. Un hogar irreemplazable para los 38 niños que allí viven felices su día a día, como si fueran hermanos, aunque al inicio fueran completos desconocidos. Al menos así era hasta que cierto descubrimiento cambió sus vidas por completo."
      ],
      "text/plain": [
       "<IPython.core.display.HTML object>"
      ]
     },
     "metadata": {},
     "output_type": "display_data"
    },
    {
     "data": {
      "text/html": [
       "<hr/>"
      ],
      "text/plain": [
       "<IPython.core.display.HTML object>"
      ]
     },
     "metadata": {},
     "output_type": "display_data"
    },
    {
     "data": {
      "text/html": [
       "<h2>The Sixth Sense</h2>"
      ],
      "text/plain": [
       "<IPython.core.display.HTML object>"
      ]
     },
     "metadata": {},
     "output_type": "display_data"
    },
    {
     "data": {
      "text/html": [
       "<img src=\"https://pics.filmaffinity.com/the_sixth_sense-516003703-mmed.jpg\" />"
      ],
      "text/plain": [
       "<IPython.core.display.HTML object>"
      ]
     },
     "metadata": {},
     "output_type": "display_data"
    },
    {
     "data": {
      "text/html": [
       "<b>Género:</b> Terror.                 Intriga.                 Drama |                 Sobrenatural.                 Fantasmas.                 Película de culto"
      ],
      "text/plain": [
       "<IPython.core.display.HTML object>"
      ]
     },
     "metadata": {},
     "output_type": "display_data"
    },
    {
     "data": {
      "text/html": [
       "<b>Sinopsis:</b> El doctor Malcom Crowe es un conocido psicólogo infantil de Philadelphia que vive obsesionado por el doloroso recuerdo de un joven paciente desequilibrado al que fue incapaz de ayudar. Cuando conoce a Cole Sear, un aterrorizado y confuso niño de ocho años que necesita tratamiento, ve que se le presenta la oportunidad de redimirse haciendo todo lo posible por ayudarlo. Sin embargo, el doctor Crowe no está preparado para conocer la terrible verdad acerca del don sobrenatural de su paciente: recibe visitas no deseadas de espíritus atormentados. (FILMAFFINITY)"
      ],
      "text/plain": [
       "<IPython.core.display.HTML object>"
      ]
     },
     "metadata": {},
     "output_type": "display_data"
    },
    {
     "data": {
      "text/html": [
       "<hr/>"
      ],
      "text/plain": [
       "<IPython.core.display.HTML object>"
      ]
     },
     "metadata": {},
     "output_type": "display_data"
    },
    {
     "data": {
      "text/html": [
       "<h2>Invasion of the Body Snatchers</h2>"
      ],
      "text/plain": [
       "<IPython.core.display.HTML object>"
      ]
     },
     "metadata": {},
     "output_type": "display_data"
    },
    {
     "data": {
      "text/html": [
       "<img src=\"https://pics.filmaffinity.com/invasion_of_the_body_snatchers-429337828-mmed.jpg\" />"
      ],
      "text/plain": [
       "<IPython.core.display.HTML object>"
      ]
     },
     "metadata": {},
     "output_type": "display_data"
    },
    {
     "data": {
      "text/html": [
       "<b>Género:</b> Ciencia ficción.                 Fantástico.                 Terror |                 Vida rural (Norteamérica).                 Extraterrestres.                 Serie B.                 Película de culto"
      ],
      "text/plain": [
       "<IPython.core.display.HTML object>"
      ]
     },
     "metadata": {},
     "output_type": "display_data"
    },
    {
     "data": {
      "text/html": [
       "<b>Sinopsis:</b> En una pequeña ciudad de California empiezan a suceder cosas muy extrañas: el comportamiento de algunas personas cambia de tal manera que causa estupor e incluso miedo entre sus parientes y amigos. (FILMAFFINITY)"
      ],
      "text/plain": [
       "<IPython.core.display.HTML object>"
      ]
     },
     "metadata": {},
     "output_type": "display_data"
    },
    {
     "data": {
      "text/html": [
       "<hr/>"
      ],
      "text/plain": [
       "<IPython.core.display.HTML object>"
      ]
     },
     "metadata": {},
     "output_type": "display_data"
    },
    {
     "data": {
      "text/html": [
       "<h2>Bram Stoker's Dracula</h2>"
      ],
      "text/plain": [
       "<IPython.core.display.HTML object>"
      ]
     },
     "metadata": {},
     "output_type": "display_data"
    },
    {
     "data": {
      "text/html": [
       "<img src=\"https://pics.filmaffinity.com/bram_stoker_s_dracula-420186556-mmed.jpg\" />"
      ],
      "text/plain": [
       "<IPython.core.display.HTML object>"
      ]
     },
     "metadata": {},
     "output_type": "display_data"
    },
    {
     "data": {
      "text/html": [
       "<b>Género:</b> Terror.                 Romance.                 Fantástico |                 Siglo XIX.                 Vampiros.                 Película de culto"
      ],
      "text/plain": [
       "<IPython.core.display.HTML object>"
      ]
     },
     "metadata": {},
     "output_type": "display_data"
    },
    {
     "data": {
      "text/html": [
       "<b>Sinopsis:</b> En el año 1890, el joven abogado Jonathan Harker viaja a un castillo perdido de Transilvania, donde conoce al conde Drácula, que en 1462 perdió a su amor, Elisabeta. El conde, fascinado por una fotografía de Mina Murray, la novia de Harker, que le recuerda a su Elisabeta, viaja hasta Londres \"cruzando océanos de tiempo\" para conocerla. Ya en Inglaterra, intenta conquistar y seducir a Lucy, la mejor amiga de Mina. (FILMAFFINITY)"
      ],
      "text/plain": [
       "<IPython.core.display.HTML object>"
      ]
     },
     "metadata": {},
     "output_type": "display_data"
    },
    {
     "data": {
      "text/html": [
       "<hr/>"
      ],
      "text/plain": [
       "<IPython.core.display.HTML object>"
      ]
     },
     "metadata": {},
     "output_type": "display_data"
    },
    {
     "data": {
      "text/html": [
       "<h2>Jujutsu Kaisen</h2>"
      ],
      "text/plain": [
       "<IPython.core.display.HTML object>"
      ]
     },
     "metadata": {},
     "output_type": "display_data"
    },
    {
     "data": {
      "text/html": [
       "<img src=\"https://pics.filmaffinity.com/jujutsu_kaisen-665660213-mmed.jpg\" />"
      ],
      "text/plain": [
       "<IPython.core.display.HTML object>"
      ]
     },
     "metadata": {},
     "output_type": "display_data"
    },
    {
     "data": {
      "text/html": [
       "<b>Género:</b> Serie de TV.                 Animación.                 Fantástico.                 Terror.                 Intriga.                 Acción |                 Manga.                 Sobrenatural.                 Colegios & Universidad"
      ],
      "text/plain": [
       "<IPython.core.display.HTML object>"
      ]
     },
     "metadata": {},
     "output_type": "display_data"
    },
    {
     "data": {
      "text/html": [
       "<b>Sinopsis:</b> TV Series (2020 - 2021). 24 episodios. Yuji Itadori decide pasar el tiempo con el Club de Ocultismo del instituto, pese a poseer unas habilidades atléticas extraordinarias. Con el tiempo, descubre que el mundo del oculto es real, y los miembros del club son atacados. Mientras, el misterioso Megumi Fushiguro está buscando un objeto maldito, y su búsqueda le lleva hasta Itadori..."
      ],
      "text/plain": [
       "<IPython.core.display.HTML object>"
      ]
     },
     "metadata": {},
     "output_type": "display_data"
    },
    {
     "data": {
      "text/html": [
       "<hr/>"
      ],
      "text/plain": [
       "<IPython.core.display.HTML object>"
      ]
     },
     "metadata": {},
     "output_type": "display_data"
    },
    {
     "data": {
      "text/html": [
       "<h2>Young Frankenstein</h2>"
      ],
      "text/plain": [
       "<IPython.core.display.HTML object>"
      ]
     },
     "metadata": {},
     "output_type": "display_data"
    },
    {
     "data": {
      "text/html": [
       "<img src=\"https://pics.filmaffinity.com/young_frankenstein-226542108-mmed.jpg\" />"
      ],
      "text/plain": [
       "<IPython.core.display.HTML object>"
      ]
     },
     "metadata": {},
     "output_type": "display_data"
    },
    {
     "data": {
      "text/html": [
       "<b>Género:</b> Comedia.                 Terror |                 Comedia de terror.                 Parodia.                 Monstruos.                 Película de culto"
      ],
      "text/plain": [
       "<IPython.core.display.HTML object>"
      ]
     },
     "metadata": {},
     "output_type": "display_data"
    },
    {
     "data": {
      "text/html": [
       "<b>Sinopsis:</b> El joven doctor Frederick Frankenstein, un neurocirujano norteamericano, trata de escapar del estigma legado por su abuelo, quien creó años atrás una horrible criatura. Pero, cuando hereda el castillo de Frankenstein y descubre un extraño manual científico en el que se explica paso a paso cómo devolverle la vida a un cadáver, comienza a crear su propio monstruo. (FILMAFFINITY)"
      ],
      "text/plain": [
       "<IPython.core.display.HTML object>"
      ]
     },
     "metadata": {},
     "output_type": "display_data"
    },
    {
     "data": {
      "text/html": [
       "<hr/>"
      ],
      "text/plain": [
       "<IPython.core.display.HTML object>"
      ]
     },
     "metadata": {},
     "output_type": "display_data"
    },
    {
     "data": {
      "text/html": [
       "<h2>American Horror Story: Asylum</h2>"
      ],
      "text/plain": [
       "<IPython.core.display.HTML object>"
      ]
     },
     "metadata": {},
     "output_type": "display_data"
    },
    {
     "data": {
      "text/html": [
       "<img src=\"https://pics.filmaffinity.com/american_horror_story_asylum-378005929-mmed.jpg\" />"
      ],
      "text/plain": [
       "<IPython.core.display.HTML object>"
      ]
     },
     "metadata": {},
     "output_type": "display_data"
    },
    {
     "data": {
      "text/html": [
       "<b>Género:</b> Serie de TV.                 Terror |                 Sobrenatural.                 Drama psicológico.                 Años 60.                 Serie de antología.                 Miniserie de TV"
      ],
      "text/plain": [
       "<IPython.core.display.HTML object>"
      ]
     },
     "metadata": {},
     "output_type": "display_data"
    },
    {
     "data": {
      "text/html": [
       "<b>Sinopsis:</b> Miniserie de TV (2012-2013). 13 episodios. Segunda temporada de la serie \"American Horror Story\", en la que cambian los personajes, el reparto, el equipo técnico y el escenario. Se trata de un drama psicológico que se desarrolla en un hospital psiquiátrico durante los años 60. (FILMAFFINITY)"
      ],
      "text/plain": [
       "<IPython.core.display.HTML object>"
      ]
     },
     "metadata": {},
     "output_type": "display_data"
    },
    {
     "data": {
      "text/html": [
       "<hr/>"
      ],
      "text/plain": [
       "<IPython.core.display.HTML object>"
      ]
     },
     "metadata": {},
     "output_type": "display_data"
    },
    {
     "data": {
      "text/html": [
       "<h2>The Haunting of Hill House</h2>"
      ],
      "text/plain": [
       "<IPython.core.display.HTML object>"
      ]
     },
     "metadata": {},
     "output_type": "display_data"
    },
    {
     "data": {
      "text/html": [
       "<img src=\"https://pics.filmaffinity.com/the_haunting_of_hill_house-172762742-mmed.jpg\" />"
      ],
      "text/plain": [
       "<IPython.core.display.HTML object>"
      ]
     },
     "metadata": {},
     "output_type": "display_data"
    },
    {
     "data": {
      "text/html": [
       "<b>Género:</b> Serie de TV.                 Terror.                 Drama |                 Fantasmas.                 Sobrenatural.                 Casas encantadas.                 Familia.                 Serie de antología"
      ],
      "text/plain": [
       "<IPython.core.display.HTML object>"
      ]
     },
     "metadata": {},
     "output_type": "display_data"
    },
    {
     "data": {
      "text/html": [
       "<b>Sinopsis:</b> Serie de TV (2018). 10 episodios. Un grupo de hermanos crece en lo que acaba convirtiéndose en la casa encantada más famosa del país. Ya como adultos, viéndose obligados a reunirse tras una tragedia, la familia tendrá que afrontar los fantasmas del pasado... Adaptación de la novela homónima de Shirley Jackson.  (FILMAFFINITY)"
      ],
      "text/plain": [
       "<IPython.core.display.HTML object>"
      ]
     },
     "metadata": {},
     "output_type": "display_data"
    },
    {
     "data": {
      "text/html": [
       "<hr/>"
      ],
      "text/plain": [
       "<IPython.core.display.HTML object>"
      ]
     },
     "metadata": {},
     "output_type": "display_data"
    },
    {
     "data": {
      "text/html": [
       "<h2>The Walking Dead: Days Gone Bye - Pilot Episode</h2>"
      ],
      "text/plain": [
       "<IPython.core.display.HTML object>"
      ]
     },
     "metadata": {},
     "output_type": "display_data"
    },
    {
     "data": {
      "text/html": [
       "<img src=\"https://pics.filmaffinity.com/the_walking_dead_days_gone_bye_pilot_episode-662634019-mmed.jpg\" />"
      ],
      "text/plain": [
       "<IPython.core.display.HTML object>"
      ]
     },
     "metadata": {},
     "output_type": "display_data"
    },
    {
     "data": {
      "text/html": [
       "<b>Género:</b> Terror.                 Ciencia ficción |                 Zombis.                 Futuro postapocalíptico.                 Cómic"
      ],
      "text/plain": [
       "<IPython.core.display.HTML object>"
      ]
     },
     "metadata": {},
     "output_type": "display_data"
    },
    {
     "data": {
      "text/html": [
       "<b>Sinopsis:</b> Rick Grimes (Andrew Lincoln), el ayudante del sheriff de una pequeña localidad de Georgia, se despierta de un coma en un hospital tras haber sufrido un tiroteo en la carretera. Enseguida se da cuenta de que algo extraordinario está pasando. El tiempo parece haberse detenido y, a su alrededor, sólo encuentra muerte, sangre y soledad. Por alguna extraña razón, la mayor parte de los hombres se han convertido en zombis. En medio de esta especie de apocalipsis, un grupo de supervivientes, liderados por Grimes, atraviesa los Estados Unidos tratando de ponerse a salvo. (FILMAFFINITY)"
      ],
      "text/plain": [
       "<IPython.core.display.HTML object>"
      ]
     },
     "metadata": {},
     "output_type": "display_data"
    },
    {
     "data": {
      "text/html": [
       "<hr/>"
      ],
      "text/plain": [
       "<IPython.core.display.HTML object>"
      ]
     },
     "metadata": {},
     "output_type": "display_data"
    },
    {
     "data": {
      "text/html": [
       "<h2>Frankenstein</h2>"
      ],
      "text/plain": [
       "<IPython.core.display.HTML object>"
      ]
     },
     "metadata": {},
     "output_type": "display_data"
    },
    {
     "data": {
      "text/html": [
       "<img src=\"https://pics.filmaffinity.com/frankenstein-252859133-mmed.jpg\" />"
      ],
      "text/plain": [
       "<IPython.core.display.HTML object>"
      ]
     },
     "metadata": {},
     "output_type": "display_data"
    },
    {
     "data": {
      "text/html": [
       "<b>Género:</b> Terror.                 Ciencia ficción |                 Monstruos.                 Película de culto"
      ],
      "text/plain": [
       "<IPython.core.display.HTML object>"
      ]
     },
     "metadata": {},
     "output_type": "display_data"
    },
    {
     "data": {
      "text/html": [
       "<b>Sinopsis:</b> El doctor Henry Von Frankenstein acomete un experimento tenebroso: construir, a partir de fragmentos de cadáveres, un nuevo ser humano. Con la ayuda de su criado Fritz, se adentra durante la noche en los cementerios de la localidad para arrancar a los cadáveres las partes que necesita. Lo que ignora es que el cerebro que ha utilizado en su experimento había pertenecido a un criminal. (FILMAFFINITY)"
      ],
      "text/plain": [
       "<IPython.core.display.HTML object>"
      ]
     },
     "metadata": {},
     "output_type": "display_data"
    },
    {
     "data": {
      "text/html": [
       "<hr/>"
      ],
      "text/plain": [
       "<IPython.core.display.HTML object>"
      ]
     },
     "metadata": {},
     "output_type": "display_data"
    },
    {
     "data": {
      "text/html": [
       "<h2>Repulsion</h2>"
      ],
      "text/plain": [
       "<IPython.core.display.HTML object>"
      ]
     },
     "metadata": {},
     "output_type": "display_data"
    },
    {
     "data": {
      "text/html": [
       "<img src=\"https://pics.filmaffinity.com/repulsion-466209835-mmed.jpg\" />"
      ],
      "text/plain": [
       "<IPython.core.display.HTML object>"
      ]
     },
     "metadata": {},
     "output_type": "display_data"
    },
    {
     "data": {
      "text/html": [
       "<b>Género:</b> Terror.                 Thriller.                 Drama |                 Drama psicológico.                 Surrealismo"
      ],
      "text/plain": [
       "<IPython.core.display.HTML object>"
      ]
     },
     "metadata": {},
     "output_type": "display_data"
    },
    {
     "data": {
      "text/html": [
       "<b>Sinopsis:</b> Carol Ledoux es una bella y reprimida joven belga que vive con su hermana Helen en un apartamento de Londres. Carol experimenta sentimientos simultáneos y contradictorios de atracción y repulsión hacia los hombres;  por eso para ella resulta tan incómoda la relación que mantiene su hermana con un hombre casado. Cuando la pareja se marcha de vacaciones, Carol comienza a tener alucinaciones y su mente se desquicia. (FILMAFFINITY)"
      ],
      "text/plain": [
       "<IPython.core.display.HTML object>"
      ]
     },
     "metadata": {},
     "output_type": "display_data"
    },
    {
     "data": {
      "text/html": [
       "<hr/>"
      ],
      "text/plain": [
       "<IPython.core.display.HTML object>"
      ]
     },
     "metadata": {},
     "output_type": "display_data"
    },
    {
     "data": {
      "text/html": [
       "<h2>Los otros (The Others)</h2>"
      ],
      "text/plain": [
       "<IPython.core.display.HTML object>"
      ]
     },
     "metadata": {},
     "output_type": "display_data"
    },
    {
     "data": {
      "text/html": [
       "<img src=\"https://pics.filmaffinity.com/los_otros_the_others-255113377-mmed.jpg\" />"
      ],
      "text/plain": [
       "<IPython.core.display.HTML object>"
      ]
     },
     "metadata": {},
     "output_type": "display_data"
    },
    {
     "data": {
      "text/html": [
       "<b>Género:</b> Intriga.                 Terror |                 Sobrenatural.                 Casas encantadas.                 Fantasmas.                 Años 40"
      ],
      "text/plain": [
       "<IPython.core.display.HTML object>"
      ]
     },
     "metadata": {},
     "output_type": "display_data"
    },
    {
     "data": {
      "text/html": [
       "<b>Sinopsis:</b> Isla de Jersey, 1945. La Segunda Guerra Mundial ha terminado, pero el marido de Grace (Nicole Kidman) no vuelve. Sola en un aislado caserón victoriano de la isla de Jersey, educa a sus hijos dentro de rígidas normas religiosas. Los niños sufren una extraña enfermedad: no pueden recibir directamente la luz del día. Los tres nuevos sirvientes que se incorporan a la vida familiar deben aprender una regla vital: la casa estará siempre en penumbra, y nunca se abrirá una puerta si no se ha cerrado la anterior. Pero el estricto orden que Grace ha impuesto se verá desafiado por circunstancias que escapan a su control. (FILMAFFINITY)"
      ],
      "text/plain": [
       "<IPython.core.display.HTML object>"
      ]
     },
     "metadata": {},
     "output_type": "display_data"
    },
    {
     "data": {
      "text/html": [
       "<hr/>"
      ],
      "text/plain": [
       "<IPython.core.display.HTML object>"
      ]
     },
     "metadata": {},
     "output_type": "display_data"
    },
    {
     "data": {
      "text/html": [
       "<h2>Love, Death + Robots. Vol. 3: Bad Travelling</h2>"
      ],
      "text/plain": [
       "<IPython.core.display.HTML object>"
      ]
     },
     "metadata": {},
     "output_type": "display_data"
    },
    {
     "data": {
      "text/html": [
       "<img src=\"https://pics.filmaffinity.com/love_death_robots_vol_3_bad_travelling-347481154-mmed.jpg\" />"
      ],
      "text/plain": [
       "<IPython.core.display.HTML object>"
      ]
     },
     "metadata": {},
     "output_type": "display_data"
    },
    {
     "data": {
      "text/html": [
       "<b>Género:</b> Animación.                 Terror.                 Thriller.                 Acción |                 Aventuras marinas.                 Monstruos.                 Cortometraje (animación)"
      ],
      "text/plain": [
       "<IPython.core.display.HTML object>"
      ]
     },
     "metadata": {},
     "output_type": "display_data"
    },
    {
     "data": {
      "text/html": [
       "<b>Sinopsis:</b> Un barco pesquero de tiburones es atacado por un crustáceo gigante cuyo tamaño e inteligencia solo son comparables con su voraz apetito. Ópera prima de David Fincher como director de animación, en la temporada 3 de \".Love, Death + Robots\""
      ],
      "text/plain": [
       "<IPython.core.display.HTML object>"
      ]
     },
     "metadata": {},
     "output_type": "display_data"
    },
    {
     "data": {
      "text/html": [
       "<hr/>"
      ],
      "text/plain": [
       "<IPython.core.display.HTML object>"
      ]
     },
     "metadata": {},
     "output_type": "display_data"
    },
    {
     "data": {
      "text/html": [
       "<h2>Hellsing Ultimate (Hellsing Ultimate OVA series)</h2>"
      ],
      "text/plain": [
       "<IPython.core.display.HTML object>"
      ]
     },
     "metadata": {},
     "output_type": "display_data"
    },
    {
     "data": {
      "text/html": [
       "<img src=\"https://pics.filmaffinity.com/hellsing_ultimate_hellsing_ultimate_ova_series-845628875-mmed.jpg\" />"
      ],
      "text/plain": [
       "<IPython.core.display.HTML object>"
      ]
     },
     "metadata": {},
     "output_type": "display_data"
    },
    {
     "data": {
      "text/html": [
       "<b>Género:</b> Serie de TV.                 Animación.                 Fantástico.                 Acción.                 Terror |                 Miniserie de TV.                 Remake.                 Gore.                 Manga.                 Vampiros"
      ],
      "text/plain": [
       "<IPython.core.display.HTML object>"
      ]
     },
     "metadata": {},
     "output_type": "display_data"
    },
    {
     "data": {
      "text/html": [
       "<b>Sinopsis:</b> Miniserie (2006-2012). 10 OVAs. En los dos primeros episodios se resumen los hechos de la serie original de 13 episodios y los siguientes desarrollan nuevas tramas. Los Caballeros Protestantes Reales deben enfrentarse al grupo separatista nazi, Millennium, dirigido por el Mayor. Es una organización que está dispuesta a todo con tal de vengarse de Hellsing, quienes los derrotaron en la Segunda Guerra Mundial. También tiene como objetivo central de existencia llevar la guerra a todos los rincones del mundo. Aparecen personajes que no fueron considerados dentro de la serie de televisión y que son propios del manga, como Rip Van Winkle, Zorin Blitz, El Capitán, Schrödinger y el Mayor. En esta ocasión, se muestra una fuerte exhibición de los Neonazis a diferencia de la serie, es más explícita y de un caracter sombrío. Millenium también se conoce como \"Letzte Bataillon\". (FILMAFFINITY)"
      ],
      "text/plain": [
       "<IPython.core.display.HTML object>"
      ]
     },
     "metadata": {},
     "output_type": "display_data"
    },
    {
     "data": {
      "text/html": [
       "<hr/>"
      ],
      "text/plain": [
       "<IPython.core.display.HTML object>"
      ]
     },
     "metadata": {},
     "output_type": "display_data"
    },
    {
     "data": {
      "text/html": [
       "<h2>Le locataire (The Tenant)</h2>"
      ],
      "text/plain": [
       "<IPython.core.display.HTML object>"
      ]
     },
     "metadata": {},
     "output_type": "display_data"
    },
    {
     "data": {
      "text/html": [
       "<img src=\"https://pics.filmaffinity.com/le_locataire_the_tenant-110997018-mmed.jpg\" />"
      ],
      "text/plain": [
       "<IPython.core.display.HTML object>"
      ]
     },
     "metadata": {},
     "output_type": "display_data"
    },
    {
     "data": {
      "text/html": [
       "<b>Género:</b> Terror.                 Thriller |                 Thriller psicológico.                 Drama psicológico.                 Película de culto"
      ],
      "text/plain": [
       "<IPython.core.display.HTML object>"
      ]
     },
     "metadata": {},
     "output_type": "display_data"
    },
    {
     "data": {
      "text/html": [
       "<b>Sinopsis:</b> Polanski interpreta al agradable Trelkovsky, que vive en un apartamento de París que tiene un sombrío pasado... la anterior inquilina, una mujer joven, se tiró por el balcón. Sus pertenencias siguen allí... cosas que alimentan la obsesión de Trelkovsky por la mujer. ¿O tal vez le están llevando a la locura? (FILMAFFINITY)"
      ],
      "text/plain": [
       "<IPython.core.display.HTML object>"
      ]
     },
     "metadata": {},
     "output_type": "display_data"
    },
    {
     "data": {
      "text/html": [
       "<hr/>"
      ],
      "text/plain": [
       "<IPython.core.display.HTML object>"
      ]
     },
     "metadata": {},
     "output_type": "display_data"
    },
    {
     "data": {
      "text/html": [
       "<h2>Buffy the Vampire Slayer: Hush</h2>"
      ],
      "text/plain": [
       "<IPython.core.display.HTML object>"
      ]
     },
     "metadata": {},
     "output_type": "display_data"
    },
    {
     "data": {
      "text/html": [
       "<img src=\"https://pics.filmaffinity.com/buffy_the_vampire_slayer_hush-341022939-mmed.jpg\" />"
      ],
      "text/plain": [
       "<IPython.core.display.HTML object>"
      ]
     },
     "metadata": {},
     "output_type": "display_data"
    },
    {
     "data": {
      "text/html": [
       "<b>Género:</b> Terror.                 Fantástico |                 Sobrenatural.                 Mediometraje.                 Episodio de TV"
      ],
      "text/plain": [
       "<IPython.core.display.HTML object>"
      ]
     },
     "metadata": {},
     "output_type": "display_data"
    },
    {
     "data": {
      "text/html": [
       "<b>Sinopsis:</b> Los habitantes de Sunnydale se quedan sin voz cuando unos desconocidos apodados \"The Gentlemen\" les roban el poder del habla para así poder asesinar libremente. (FILMAFFINITY)"
      ],
      "text/plain": [
       "<IPython.core.display.HTML object>"
      ]
     },
     "metadata": {},
     "output_type": "display_data"
    },
    {
     "data": {
      "text/html": [
       "<hr/>"
      ],
      "text/plain": [
       "<IPython.core.display.HTML object>"
      ]
     },
     "metadata": {},
     "output_type": "display_data"
    },
    {
     "data": {
      "text/html": [
       "<h2>Dr. Jekyll and Mr. Hyde</h2>"
      ],
      "text/plain": [
       "<IPython.core.display.HTML object>"
      ]
     },
     "metadata": {},
     "output_type": "display_data"
    },
    {
     "data": {
      "text/html": [
       "<img src=\"https://pics.filmaffinity.com/dr_jekyll_and_mr_hyde-371046876-mmed.jpg\" />"
      ],
      "text/plain": [
       "<IPython.core.display.HTML object>"
      ]
     },
     "metadata": {},
     "output_type": "display_data"
    },
    {
     "data": {
      "text/html": [
       "<b>Género:</b> Terror.                 Ciencia ficción.                 Drama |                 Siglo XIX"
      ],
      "text/plain": [
       "<IPython.core.display.HTML object>"
      ]
     },
     "metadata": {},
     "output_type": "display_data"
    },
    {
     "data": {
      "text/html": [
       "<b>Sinopsis:</b> Ante un auditorio científico el doctor Henry Jekyll expone su teoría de que el ser humano está dividido en dos personalidades, una positiva y otra negativa, y que ambas se pueden separar, pero no logra convencer a sus oyentes. Después de visitar a su prometida Muriel, y paseando con su amigo el doctor Lanyonal que intenta convencer de que su idea es viable, conoce a una joven artista de music-hall, Champagne Ivy. En su laboratorio Jekyll experimenta con una droga y se transforma en el señor Hyde y, bajo esta personalidad y por medio de amenazas, se convierte en amante de Ivy... (FILMAFFINITY)"
      ],
      "text/plain": [
       "<IPython.core.display.HTML object>"
      ]
     },
     "metadata": {},
     "output_type": "display_data"
    },
    {
     "data": {
      "text/html": [
       "<hr/>"
      ],
      "text/plain": [
       "<IPython.core.display.HTML object>"
      ]
     },
     "metadata": {},
     "output_type": "display_data"
    },
    {
     "data": {
      "text/html": [
       "<h2>Perfect Blueaka</h2>"
      ],
      "text/plain": [
       "<IPython.core.display.HTML object>"
      ]
     },
     "metadata": {},
     "output_type": "display_data"
    },
    {
     "data": {
      "text/html": [
       "<img src=\"https://pics.filmaffinity.com/perfect_blue-402927995-mmed.jpg\" />"
      ],
      "text/plain": [
       "<IPython.core.display.HTML object>"
      ]
     },
     "metadata": {},
     "output_type": "display_data"
    },
    {
     "data": {
      "text/html": [
       "<b>Género:</b> Animación.                 Terror.                 Thriller.                 Drama |                 Drama psicológico.                 Thriller psicológico.                 Cine dentro del cine.                 Internet / Informática.                 Animación para adultos.                 Película de culto"
      ],
      "text/plain": [
       "<IPython.core.display.HTML object>"
      ]
     },
     "metadata": {},
     "output_type": "display_data"
    },
    {
     "data": {
      "text/html": [
       "<b>Sinopsis:</b> Mima es la cantante de un famoso grupo musical japonés. Debido al fracaso de ventas de sus discos, su mánager decide apartarla del grupo y darle un papel en una serie de televisión. Mima cae entonces en una profunda depresión que la lleva a replantearse su vida y su carrera, pero su crisis se agrava cuando descubre que su vida está al alcance de cualquiera en Internet y que alguien la está vigilando. Cuando la serie empieza a emitirse por televisión, Mima comprueba que la ficción se reproduce en su vida real: sueño y realidad se confunden hasta el punto de cuestionarse su propia identidad. El desarrollo de los acontecimientos y su propia intuición llevarán a la protagonista a un desenlace absolutamente inesperado... (FILMAFFINITY)"
      ],
      "text/plain": [
       "<IPython.core.display.HTML object>"
      ]
     },
     "metadata": {},
     "output_type": "display_data"
    },
    {
     "data": {
      "text/html": [
       "<hr/>"
      ],
      "text/plain": [
       "<IPython.core.display.HTML object>"
      ]
     },
     "metadata": {},
     "output_type": "display_data"
    },
    {
     "data": {
      "text/html": [
       "<h2>Misery</h2>"
      ],
      "text/plain": [
       "<IPython.core.display.HTML object>"
      ]
     },
     "metadata": {},
     "output_type": "display_data"
    },
    {
     "data": {
      "text/html": [
       "<img src=\"https://pics.filmaffinity.com/misery-606502285-mmed.jpg\" />"
      ],
      "text/plain": [
       "<IPython.core.display.HTML object>"
      ]
     },
     "metadata": {},
     "output_type": "display_data"
    },
    {
     "data": {
      "text/html": [
       "<b>Género:</b> Terror.                 Drama |                 Drama psicológico.                 Secuestros / Desapariciones.                 Literatura"
      ],
      "text/plain": [
       "<IPython.core.display.HTML object>"
      ]
     },
     "metadata": {},
     "output_type": "display_data"
    },
    {
     "data": {
      "text/html": [
       "<b>Sinopsis:</b> Un escritor llamado Paul Sheldon (James Caan) lleva años malgastando su talento con unas románticas historias, de gran éxito comercial, cuya protagonista es una mujer llamada Misery. Decidido a acabar con esta situación, mata al personaje y se refugia en Colorado para escribir una novela seria. Terminado su trabajo, emprende el regreso, pero en una carretera de montaña, pierde el control de su coche y sufre un grave accidente. Annie Wilkes (Kathy Bates), una brusca e impetuosa mujer, gran admiradora suya, lo rescata, se lo lleva a su casa y lo cuida con esmero. Obsesionada con el personaje de Misery, retiene a Sheldon para obligarlo a escribir una nueva historia en la que resucite al personaje. (FILMAFFINITY)"
      ],
      "text/plain": [
       "<IPython.core.display.HTML object>"
      ]
     },
     "metadata": {},
     "output_type": "display_data"
    },
    {
     "data": {
      "text/html": [
       "<hr/>"
      ],
      "text/plain": [
       "<IPython.core.display.HTML object>"
      ]
     },
     "metadata": {},
     "output_type": "display_data"
    },
    {
     "data": {
      "text/html": [
       "<h2>City Lights</h2>"
      ],
      "text/plain": [
       "<IPython.core.display.HTML object>"
      ]
     },
     "metadata": {},
     "output_type": "display_data"
    },
    {
     "data": {
      "text/html": [
       "<img src=\"https://pics.filmaffinity.com/city_lights-825971402-mmed.jpg\" />"
      ],
      "text/plain": [
       "<IPython.core.display.HTML object>"
      ]
     },
     "metadata": {},
     "output_type": "display_data"
    },
    {
     "data": {
      "text/html": [
       "<b>Género:</b> Comedia.                 Romance |                 Cine mudo.                 Pobreza.                 Comedia romántica.                 Comedia dramática.                 Discapacidad.                 Discapacidad visual"
      ],
      "text/plain": [
       "<IPython.core.display.HTML object>"
      ]
     },
     "metadata": {},
     "output_type": "display_data"
    },
    {
     "data": {
      "text/html": [
       "<b>Sinopsis:</b> Un pobre vagabundo (Charles Chaplin) pasa mil y un avatares para conseguir dinero y ayudar a una florista ciega (Virginia Cherrill) de la que se ha enamorado. (FILMAFFINITY)"
      ],
      "text/plain": [
       "<IPython.core.display.HTML object>"
      ]
     },
     "metadata": {},
     "output_type": "display_data"
    },
    {
     "data": {
      "text/html": [
       "<hr/>"
      ],
      "text/plain": [
       "<IPython.core.display.HTML object>"
      ]
     },
     "metadata": {},
     "output_type": "display_data"
    },
    {
     "data": {
      "text/html": [
       "<h2>The Simpsons</h2>"
      ],
      "text/plain": [
       "<IPython.core.display.HTML object>"
      ]
     },
     "metadata": {},
     "output_type": "display_data"
    },
    {
     "data": {
      "text/html": [
       "<img src=\"https://pics.filmaffinity.com/the_simpsons-397676780-mmed.jpg\" />"
      ],
      "text/plain": [
       "<IPython.core.display.HTML object>"
      ]
     },
     "metadata": {},
     "output_type": "display_data"
    },
    {
     "data": {
      "text/html": [
       "<b>Género:</b> Serie de TV.                 Animación.                 Comedia |                 Familia.                 Sátira.                 Los Simpson"
      ],
      "text/plain": [
       "<IPython.core.display.HTML object>"
      ]
     },
     "metadata": {},
     "output_type": "display_data"
    },
    {
     "data": {
      "text/html": [
       "<b>Sinopsis:</b> Serie de TV (1989-Actualidad). 34 temporadas. Narra la historia de una peculiar familia (Homer, Marge, Bart, Maggie y Lisa Simpson) y otros divertidos personajes de la localidad norteamericana de Springfield. Homer, el padre, es un desastroso inspector de seguridad de una central nuclear. Marge, la madre, es un ama de casa acostumbrada a soportar a su peculiar familia. Bart, de 10 años, intenta divertirse con travesuras de todo tipo. Lisa es la más inteligente de la familia, y Maggie, la más pequeña, es un bebé que todavía no habla, pero que juega un importante papel. (FILMAFFINITY)"
      ],
      "text/plain": [
       "<IPython.core.display.HTML object>"
      ]
     },
     "metadata": {},
     "output_type": "display_data"
    },
    {
     "data": {
      "text/html": [
       "<hr/>"
      ],
      "text/plain": [
       "<IPython.core.display.HTML object>"
      ]
     },
     "metadata": {},
     "output_type": "display_data"
    },
    {
     "data": {
      "text/html": [
       "<h2>The Great Dictator</h2>"
      ],
      "text/plain": [
       "<IPython.core.display.HTML object>"
      ]
     },
     "metadata": {},
     "output_type": "display_data"
    },
    {
     "data": {
      "text/html": [
       "<img src=\"https://pics.filmaffinity.com/the_great_dictator-416205081-mmed.jpg\" />"
      ],
      "text/plain": [
       "<IPython.core.display.HTML object>"
      ]
     },
     "metadata": {},
     "output_type": "display_data"
    },
    {
     "data": {
      "text/html": [
       "<b>Género:</b> Comedia |                 Sátira.                 Nazismo.                 II Guerra Mundial.                 Propaganda"
      ],
      "text/plain": [
       "<IPython.core.display.HTML object>"
      ]
     },
     "metadata": {},
     "output_type": "display_data"
    },
    {
     "data": {
      "text/html": [
       "<b>Sinopsis:</b> Un humilde barbero judío que combatió con el ejército de Tomania en la Primera Guerra Mundial vuelve a su casa años después del fin del conflicto. Amnésico a causa de un accidente de avión, no recuerda prácticamente nada de su vida pasada, y no conoce la situación política actual del país: Adenoid Hynkel, un dictador fascista y racista, ha llegado al poder y ha iniciado la persecución del pueblo judío, a quien considera responsable de la situación de crisis que vive el país. Paralelamente, Hynkel y sus colaboradores han empezado a preparar una ofensiva militar destinada a la conquista de todo el mundo."
      ],
      "text/plain": [
       "<IPython.core.display.HTML object>"
      ]
     },
     "metadata": {},
     "output_type": "display_data"
    },
    {
     "data": {
      "text/html": [
       "<hr/>"
      ],
      "text/plain": [
       "<IPython.core.display.HTML object>"
      ]
     },
     "metadata": {},
     "output_type": "display_data"
    },
    {
     "data": {
      "text/html": [
       "<h2>Modern Times</h2>"
      ],
      "text/plain": [
       "<IPython.core.display.HTML object>"
      ]
     },
     "metadata": {},
     "output_type": "display_data"
    },
    {
     "data": {
      "text/html": [
       "<img src=\"https://pics.filmaffinity.com/modern_times-287431985-mmed.jpg\" />"
      ],
      "text/plain": [
       "<IPython.core.display.HTML object>"
      ]
     },
     "metadata": {},
     "output_type": "display_data"
    },
    {
     "data": {
      "text/html": [
       "<b>Género:</b> Comedia |                 Sátira.                 Comedia dramática.                 Drama social.                 Trabajo/empleo.                 Cine mudo.                 Película de culto"
      ],
      "text/plain": [
       "<IPython.core.display.HTML object>"
      ]
     },
     "metadata": {},
     "output_type": "display_data"
    },
    {
     "data": {
      "text/html": [
       "<b>Sinopsis:</b> Extenuado por el frenético ritmo de la cadena de montaje, un obrero metalúrgico acaba perdiendo la razón. Después de recuperarse en un hospital, sale y es encarcelado por participar en una manifestación en la que se encontraba por casualidad. En la cárcel, también sin pretenderlo, ayuda a controlar un motín, gracias a lo cual queda en libertad. Una vez fuera, reemprende la lucha por la supervivencia en compañía de una joven huérfana a la que conoce en la calle. (FILMAFFINITY)"
      ],
      "text/plain": [
       "<IPython.core.display.HTML object>"
      ]
     },
     "metadata": {},
     "output_type": "display_data"
    },
    {
     "data": {
      "text/html": [
       "<hr/>"
      ],
      "text/plain": [
       "<IPython.core.display.HTML object>"
      ]
     },
     "metadata": {},
     "output_type": "display_data"
    },
    {
     "data": {
      "text/html": [
       "<h2>The Sting</h2>"
      ],
      "text/plain": [
       "<IPython.core.display.HTML object>"
      ]
     },
     "metadata": {},
     "output_type": "display_data"
    },
    {
     "data": {
      "text/html": [
       "<img src=\"https://pics.filmaffinity.com/the_sting-433653100-mmed.jpg\" />"
      ],
      "text/plain": [
       "<IPython.core.display.HTML object>"
      ]
     },
     "metadata": {},
     "output_type": "display_data"
    },
    {
     "data": {
      "text/html": [
       "<b>Género:</b> Intriga.                 Comedia.                 Drama |                 Crimen.                 Juego.                 Años 30.                 Mafia.                 Robos & Atracos.                 Venganza.                 Película de culto"
      ],
      "text/plain": [
       "<IPython.core.display.HTML object>"
      ]
     },
     "metadata": {},
     "output_type": "display_data"
    },
    {
     "data": {
      "text/html": [
       "<b>Sinopsis:</b> Chicago, años treinta. Johnny Hooker (Redford) y Henry Gondorff (Newman) son dos timadores que deciden vengar la muerte de un viejo y querido colega, asesinado por orden de un poderoso gángster llamado Doyle Lonnegan (Shaw). Para ello urdirán un ingenioso y complicado plan con la ayuda de todos sus amigos y conocidos. (FILMAFFINITY)"
      ],
      "text/plain": [
       "<IPython.core.display.HTML object>"
      ]
     },
     "metadata": {},
     "output_type": "display_data"
    },
    {
     "data": {
      "text/html": [
       "<hr/>"
      ],
      "text/plain": [
       "<IPython.core.display.HTML object>"
      ]
     },
     "metadata": {},
     "output_type": "display_data"
    },
    {
     "data": {
      "text/html": [
       "<h2>The Sopranos</h2>"
      ],
      "text/plain": [
       "<IPython.core.display.HTML object>"
      ]
     },
     "metadata": {},
     "output_type": "display_data"
    },
    {
     "data": {
      "text/html": [
       "<img src=\"https://pics.filmaffinity.com/the_sopranos-196243243-mmed.jpg\" />"
      ],
      "text/plain": [
       "<IPython.core.display.HTML object>"
      ]
     },
     "metadata": {},
     "output_type": "display_data"
    },
    {
     "data": {
      "text/html": [
       "<b>Género:</b> Serie de TV.                 Thriller.                 Drama.                 Comedia |                 Crimen.                 Mafia.                 Familia.                 Comedia negra"
      ],
      "text/plain": [
       "<IPython.core.display.HTML object>"
      ]
     },
     "metadata": {},
     "output_type": "display_data"
    },
    {
     "data": {
      "text/html": [
       "<b>Sinopsis:</b> Serie de TV (1999-2007). 6 temporadas. 86 episodios. Crónica de la vida cotidiana y de las aventuras personales y profesionales de una familia mafiosa que vive en Nueva Jersey. Son gentes sencillas, pero implacables en sus ritos y tradiciones. La trama se basa en las confidencias del \"capo\" Tony Soprano (James Gandolfini) a su psicoanalista, la doctora Melfi (Lorraine Bracco). (FILMAFFINITY)"
      ],
      "text/plain": [
       "<IPython.core.display.HTML object>"
      ]
     },
     "metadata": {},
     "output_type": "display_data"
    },
    {
     "data": {
      "text/html": [
       "<hr/>"
      ],
      "text/plain": [
       "<IPython.core.display.HTML object>"
      ]
     },
     "metadata": {},
     "output_type": "display_data"
    },
    {
     "data": {
      "text/html": [
       "<h2>To Be or Not to Be</h2>"
      ],
      "text/plain": [
       "<IPython.core.display.HTML object>"
      ]
     },
     "metadata": {},
     "output_type": "display_data"
    },
    {
     "data": {
      "text/html": [
       "<img src=\"https://pics.filmaffinity.com/to_be_or_not_to_be-104389643-mmed.jpg\" />"
      ],
      "text/plain": [
       "<IPython.core.display.HTML object>"
      ]
     },
     "metadata": {},
     "output_type": "display_data"
    },
    {
     "data": {
      "text/html": [
       "<b>Género:</b> Comedia.                 Intriga |                 Sátira.                 II Guerra Mundial.                 Nazismo.                 Teatro.                 Comedia negra.                 Comedia screwball"
      ],
      "text/plain": [
       "<IPython.core.display.HTML object>"
      ]
     },
     "metadata": {},
     "output_type": "display_data"
    },
    {
     "data": {
      "text/html": [
       "<b>Sinopsis:</b> Segunda Guerra Mundial (1939-1945). Varsovia, durante la ocupación alemana. El profesor Siletsky, un espía al servicio de la Gestapo, está a punto de entregar una lista con el nombre de los colaboradores de la Resistencia. Joseph Tura, actor polaco, intérprete de Hamlet y esposo de María Tura, también conocida actriz, intentará evitarlo. Con la ayuda de los actores de su compañía, se hará pasar por el cruel coronel Erhardt y por Siletsky para entrar en el cuartel general de las SS. (FILMAFFINITY)"
      ],
      "text/plain": [
       "<IPython.core.display.HTML object>"
      ]
     },
     "metadata": {},
     "output_type": "display_data"
    },
    {
     "data": {
      "text/html": [
       "<hr/>"
      ],
      "text/plain": [
       "<IPython.core.display.HTML object>"
      ]
     },
     "metadata": {},
     "output_type": "display_data"
    },
    {
     "data": {
      "text/html": [
       "<h2>La vita è bella</h2>"
      ],
      "text/plain": [
       "<IPython.core.display.HTML object>"
      ]
     },
     "metadata": {},
     "output_type": "display_data"
    },
    {
     "data": {
      "text/html": [
       "<img src=\"https://pics.filmaffinity.com/la_vita_e_bella-646167341-mmed.jpg\" />"
      ],
      "text/plain": [
       "<IPython.core.display.HTML object>"
      ]
     },
     "metadata": {},
     "output_type": "display_data"
    },
    {
     "data": {
      "text/html": [
       "<b>Género:</b> Comedia.                 Drama |                 Comedia dramática.                 Nazismo.                 Holocausto.                 II Guerra Mundial.                 Años 30.                 Años 40"
      ],
      "text/plain": [
       "<IPython.core.display.HTML object>"
      ]
     },
     "metadata": {},
     "output_type": "display_data"
    },
    {
     "data": {
      "text/html": [
       "<b>Sinopsis:</b> En 1939, a punto de estallar la Segunda Guerra Mundial (1939-1945), el extravagante Guido llega a Arezzo, en la Toscana, con la intención de abrir una librería. Allí conoce a la encantadora Dora y, a pesar de que es la prometida del fascista Rodolfo, se casa con ella y tiene un hijo. Al estallar la guerra, los tres son internados en un campo de exterminio, donde Guido hará lo imposible para hacer creer a su hijo que la terrible situación que están padeciendo es tan sólo un juego. (FILMAFFINITY)"
      ],
      "text/plain": [
       "<IPython.core.display.HTML object>"
      ]
     },
     "metadata": {},
     "output_type": "display_data"
    },
    {
     "data": {
      "text/html": [
       "<hr/>"
      ],
      "text/plain": [
       "<IPython.core.display.HTML object>"
      ]
     },
     "metadata": {},
     "output_type": "display_data"
    },
    {
     "data": {
      "text/html": [
       "<h2>The Apartment</h2>"
      ],
      "text/plain": [
       "<IPython.core.display.HTML object>"
      ]
     },
     "metadata": {},
     "output_type": "display_data"
    },
    {
     "data": {
      "text/html": [
       "<img src=\"https://pics.filmaffinity.com/the_apartment-815113911-mmed.jpg\" />"
      ],
      "text/plain": [
       "<IPython.core.display.HTML object>"
      ]
     },
     "metadata": {},
     "output_type": "display_data"
    },
    {
     "data": {
      "text/html": [
       "<b>Género:</b> Comedia.                 Romance.                 Drama |                 Comedia dramática.                 Navidad.                 Película de culto.                 Nochevieja / Año nuevo"
      ],
      "text/plain": [
       "<IPython.core.display.HTML object>"
      ]
     },
     "metadata": {},
     "output_type": "display_data"
    },
    {
     "data": {
      "text/html": [
       "<b>Sinopsis:</b> C.C. Baxter (Jack Lemmon) es un modesto pero ambicioso empleado de una compañía de seguros de Manhattan. Está soltero y vive solo en un discreto apartamento que presta ocasionalmente a sus superiores para sus citas amorosas. Tiene la esperanza de que estos favores le sirvan para mejorar su posición en la empresa. Pero la situación cambia cuando se enamora de una ascensorista (Shirley MacLaine) que resulta ser la amante de uno de los jefes que usan su apartamento (Fred MacMurray). (FILMAFFINITY)"
      ],
      "text/plain": [
       "<IPython.core.display.HTML object>"
      ]
     },
     "metadata": {},
     "output_type": "display_data"
    },
    {
     "data": {
      "text/html": [
       "<hr/>"
      ],
      "text/plain": [
       "<IPython.core.display.HTML object>"
      ]
     },
     "metadata": {},
     "output_type": "display_data"
    },
    {
     "data": {
      "text/html": [
       "<h2>The Kid</h2>"
      ],
      "text/plain": [
       "<IPython.core.display.HTML object>"
      ]
     },
     "metadata": {},
     "output_type": "display_data"
    },
    {
     "data": {
      "text/html": [
       "<img src=\"https://pics.filmaffinity.com/the_kid-720269485-mmed.jpg\" />"
      ],
      "text/plain": [
       "<IPython.core.display.HTML object>"
      ]
     },
     "metadata": {},
     "output_type": "display_data"
    },
    {
     "data": {
      "text/html": [
       "<b>Género:</b> Comedia.                 Drama |                 Pobreza.                 Cine mudo.                 Comedia dramática.                 Película de culto"
      ],
      "text/plain": [
       "<IPython.core.display.HTML object>"
      ]
     },
     "metadata": {},
     "output_type": "display_data"
    },
    {
     "data": {
      "text/html": [
       "<b>Sinopsis:</b> Una mujer de escasos recursos (Edna Purviance), ha tenido un hijo siendo soltera, y al sentirse abandonada por el padre del niño, decide también ella abandonar al bebé, con la esperanza de que una familia rica lo coja en adopción. Pero el pequeño terminará en manos de un vagabundo (Charles Chaplin), quien pronto se encariñará con él y decidirá sacarlo adelante como sea. Cuando el niño, llamado ahora John (Jackie Coogan) llega a los cinco años, la lucha por la supervivencia y por permanecer juntos será toda una aventura. (FILMAFFINITY)\n",
       "\n",
       "Reestreno 4K (100 aniversario) en cines España: 5 febrero 2021."
      ],
      "text/plain": [
       "<IPython.core.display.HTML object>"
      ]
     },
     "metadata": {},
     "output_type": "display_data"
    },
    {
     "data": {
      "text/html": [
       "<hr/>"
      ],
      "text/plain": [
       "<IPython.core.display.HTML object>"
      ]
     },
     "metadata": {},
     "output_type": "display_data"
    },
    {
     "data": {
      "text/html": [
       "<h2>Monty Python's Flying Circus</h2>"
      ],
      "text/plain": [
       "<IPython.core.display.HTML object>"
      ]
     },
     "metadata": {},
     "output_type": "display_data"
    },
    {
     "data": {
      "text/html": [
       "<img src=\"https://pics.filmaffinity.com/monty_python_s_flying_circus-386663516-mmed.jpg\" />"
      ],
      "text/plain": [
       "<IPython.core.display.HTML object>"
      ]
     },
     "metadata": {},
     "output_type": "display_data"
    },
    {
     "data": {
      "text/html": [
       "<b>Género:</b> Serie de TV.                 Comedia |                 Sátira.                 Comedia absurda.                 Sketches"
      ],
      "text/plain": [
       "<IPython.core.display.HTML object>"
      ]
     },
     "metadata": {},
     "output_type": "display_data"
    },
    {
     "data": {
      "text/html": [
       "<b>Sinopsis:</b> Serie de TV (1969-1974). 4 temporadas. 45 episodios. Serie británica creada y protagonizada por los Monty Python. Los episodios son breves, pero con grandes dosis de crítica social salpicada por pinceladas de humor absurdo. (FILMAFFINITY)"
      ],
      "text/plain": [
       "<IPython.core.display.HTML object>"
      ]
     },
     "metadata": {},
     "output_type": "display_data"
    },
    {
     "data": {
      "text/html": [
       "<hr/>"
      ],
      "text/plain": [
       "<IPython.core.display.HTML object>"
      ]
     },
     "metadata": {},
     "output_type": "display_data"
    },
    {
     "data": {
      "text/html": [
       "<h2>The Gold Rush</h2>"
      ],
      "text/plain": [
       "<IPython.core.display.HTML object>"
      ]
     },
     "metadata": {},
     "output_type": "display_data"
    },
    {
     "data": {
      "text/html": [
       "<img src=\"https://pics.filmaffinity.com/the_gold_rush-939207351-mmed.jpg\" />"
      ],
      "text/plain": [
       "<IPython.core.display.HTML object>"
      ]
     },
     "metadata": {},
     "output_type": "display_data"
    },
    {
     "data": {
      "text/html": [
       "<b>Género:</b> Comedia.                 Drama.                 Aventuras |                 Cine mudo.                 Años 1900 (circa).                 Comedia dramática.                 Nochevieja / Año nuevo"
      ],
      "text/plain": [
       "<IPython.core.display.HTML object>"
      ]
     },
     "metadata": {},
     "output_type": "display_data"
    },
    {
     "data": {
      "text/html": [
       "<b>Sinopsis:</b> Obra maestra de Chaplin, en la que interpreta a un solitario buscador de oro que llega a Alaska, a principios de siglo, en busca de fortuna. Una fuerte tormenta de nieve le llevará a refugiarse en la cabaña de un bandido. En 1942 fue reestrenada en versión sonora. (FILMAFFINITY)"
      ],
      "text/plain": [
       "<IPython.core.display.HTML object>"
      ]
     },
     "metadata": {},
     "output_type": "display_data"
    },
    {
     "data": {
      "text/html": [
       "<hr/>"
      ],
      "text/plain": [
       "<IPython.core.display.HTML object>"
      ]
     },
     "metadata": {},
     "output_type": "display_data"
    },
    {
     "data": {
      "text/html": [
       "<h2>Rick and Morty</h2>"
      ],
      "text/plain": [
       "<IPython.core.display.HTML object>"
      ]
     },
     "metadata": {},
     "output_type": "display_data"
    },
    {
     "data": {
      "text/html": [
       "<img src=\"https://pics.filmaffinity.com/rick_and_morty-157026175-mmed.jpg\" />"
      ],
      "text/plain": [
       "<IPython.core.display.HTML object>"
      ]
     },
     "metadata": {},
     "output_type": "display_data"
    },
    {
     "data": {
      "text/html": [
       "<b>Género:</b> Serie de TV.                 Animación.                 Ciencia ficción.                 Comedia |                 Parodia.                 Surrealismo.                 Animación para adultos.                 Comedia negra"
      ],
      "text/plain": [
       "<IPython.core.display.HTML object>"
      ]
     },
     "metadata": {},
     "output_type": "display_data"
    },
    {
     "data": {
      "text/html": [
       "<b>Sinopsis:</b> Serie de TV (2013-Actualidad). 6 temporadas. 61 episodios. Comedia animada que narra las aventuras de un científico loco, Rick Sánchez, que regresa después de 20 años para vivir con su hija, su marido y sus hijos, Morty y Summer. (FILMAFFINITY)"
      ],
      "text/plain": [
       "<IPython.core.display.HTML object>"
      ]
     },
     "metadata": {},
     "output_type": "display_data"
    },
    {
     "data": {
      "text/html": [
       "<hr/>"
      ],
      "text/plain": [
       "<IPython.core.display.HTML object>"
      ]
     },
     "metadata": {},
     "output_type": "display_data"
    },
    {
     "data": {
      "text/html": [
       "<h2>Nuovo Cinema Paradiso</h2>"
      ],
      "text/plain": [
       "<IPython.core.display.HTML object>"
      ]
     },
     "metadata": {},
     "output_type": "display_data"
    },
    {
     "data": {
      "text/html": [
       "<img src=\"https://pics.filmaffinity.com/nuovo_cinema_paradiso-312728781-mmed.jpg\" />"
      ],
      "text/plain": [
       "<IPython.core.display.HTML object>"
      ]
     },
     "metadata": {},
     "output_type": "display_data"
    },
    {
     "data": {
      "text/html": [
       "<b>Género:</b> Drama.                 Comedia |                 Melodrama.                 Cine dentro del cine"
      ],
      "text/plain": [
       "<IPython.core.display.HTML object>"
      ]
     },
     "metadata": {},
     "output_type": "display_data"
    },
    {
     "data": {
      "text/html": [
       "<b>Sinopsis:</b> 'Cinema Paradiso' es una historia de amor por el cine. Narra la historia de Salvatore, un niño de un pueblecito italiano en el que el único pasatiempo es ir al cine. Subyugado por las imágenes en movimiento, el chico cree ciegamente que el cine es magia; pero, un día, Alfredo, el operador, accede a enseñarle al pequeño los misterios y secretos que se ocultan detrás de una película. Salvatore va creciendo y llega el momento en el que debe abandonar el pueblo y buscarse la vida. Treinta años después recibe un mensaje, en el que le comunican que debe volver a casa. (FILMAFFINITY)"
      ],
      "text/plain": [
       "<IPython.core.display.HTML object>"
      ]
     },
     "metadata": {},
     "output_type": "display_data"
    },
    {
     "data": {
      "text/html": [
       "<hr/>"
      ],
      "text/plain": [
       "<IPython.core.display.HTML object>"
      ]
     },
     "metadata": {},
     "output_type": "display_data"
    },
    {
     "data": {
      "text/html": [
       "<h2>Eddie Izzard: Dress to Kill</h2>"
      ],
      "text/plain": [
       "<IPython.core.display.HTML object>"
      ]
     },
     "metadata": {},
     "output_type": "display_data"
    },
    {
     "data": {
      "text/html": [
       "<img src=\"https://pics.filmaffinity.com/eddie_izzard_dress_to_kill-906106729-mmed.jpg\" />"
      ],
      "text/plain": [
       "<IPython.core.display.HTML object>"
      ]
     },
     "metadata": {},
     "output_type": "display_data"
    },
    {
     "data": {
      "text/html": [
       "<b>Género:</b> Comedia |                 Stand-Up"
      ],
      "text/plain": [
       "<IPython.core.display.HTML object>"
      ]
     },
     "metadata": {},
     "output_type": "display_data"
    },
    {
     "data": {
      "text/html": [
       "<b>Sinopsis:</b> Eddie Izzard lleva su espectáculo a San Francisco para dar una breve historia de las religiones paganas y cristianas, la construcción de Stonehenge, el nacimiento de la Iglesia de Inglaterra y de los imperios occidentales, y la necesidad de un sueño europeo. En el camino, que dramatiza la búsqueda del Dr. Heimlich para una maniobra, el nombramiento de Engelbert Humperdinck, Scooby y Shaggy, como arquetipos, Neil Armstrong en la luna, la tolerancia de la sociedad de asesinos en masa, la forma en que cantan himnos y los villancicos, la adaptación de Hollywood las películas británicas, viaje de John F. Kennedy a Berlín y pensamientos sobre la pubertad. (FILMAFFINITY)"
      ],
      "text/plain": [
       "<IPython.core.display.HTML object>"
      ]
     },
     "metadata": {},
     "output_type": "display_data"
    },
    {
     "data": {
      "text/html": [
       "<hr/>"
      ],
      "text/plain": [
       "<IPython.core.display.HTML object>"
      ]
     },
     "metadata": {},
     "output_type": "display_data"
    },
    {
     "data": {
      "text/html": [
       "<h2>Some Like It Hot</h2>"
      ],
      "text/plain": [
       "<IPython.core.display.HTML object>"
      ]
     },
     "metadata": {},
     "output_type": "display_data"
    },
    {
     "data": {
      "text/html": [
       "<img src=\"https://pics.filmaffinity.com/some_like_it_hot-284636981-mmed.jpg\" />"
      ],
      "text/plain": [
       "<IPython.core.display.HTML object>"
      ]
     },
     "metadata": {},
     "output_type": "display_data"
    },
    {
     "data": {
      "text/html": [
       "<b>Género:</b> Comedia |                 Años 20.                 Mafia.                 Remake.                 Película de culto"
      ],
      "text/plain": [
       "<IPython.core.display.HTML object>"
      ]
     },
     "metadata": {},
     "output_type": "display_data"
    },
    {
     "data": {
      "text/html": [
       "<b>Sinopsis:</b> Época de la Ley Seca (1920-1933). Joe y Jerry son dos músicos del montón que se ven obligados a huir después de ser testigos de un ajuste de cuentas entre dos bandas rivales. Como no encuentran trabajo y la mafia los persigue, deciden vestirse de mujeres y tocar en una orquesta femenina. Joe (Curtis) para conquistar a Sugar Kane (Monroe), la cantante del grupo, finge ser un magnate impotente; mientras tanto, Jerry (Lemmon) es cortejado por un millonario que quiere casarse con él. (FILMAFFINITY)"
      ],
      "text/plain": [
       "<IPython.core.display.HTML object>"
      ]
     },
     "metadata": {},
     "output_type": "display_data"
    },
    {
     "data": {
      "text/html": [
       "<hr/>"
      ],
      "text/plain": [
       "<IPython.core.display.HTML object>"
      ]
     },
     "metadata": {},
     "output_type": "display_data"
    },
    {
     "data": {
      "text/html": [
       "<h2>A Night at the Opera</h2>"
      ],
      "text/plain": [
       "<IPython.core.display.HTML object>"
      ]
     },
     "metadata": {},
     "output_type": "display_data"
    },
    {
     "data": {
      "text/html": [
       "<img src=\"https://pics.filmaffinity.com/a_night_at_the_opera-274112869-mmed.jpg\" />"
      ],
      "text/plain": [
       "<IPython.core.display.HTML object>"
      ]
     },
     "metadata": {},
     "output_type": "display_data"
    },
    {
     "data": {
      "text/html": [
       "<b>Género:</b> Comedia |                 Ópera"
      ],
      "text/plain": [
       "<IPython.core.display.HTML object>"
      ]
     },
     "metadata": {},
     "output_type": "display_data"
    },
    {
     "data": {
      "text/html": [
       "<b>Sinopsis:</b> Llevado por un extravagante sentido de los negocios, Groucho mete en un barco con destino a Nueva York a las grandes estrellas de la Ópera de Milán. A bordo viajan también unos polizones: Harpo y Chico. Entre los tres revolucionan el barco, organizan un escándalo en Nueva York y convierten la noche del estreno en una locura que el mundo de la ópera nunca podrá olvidar. (FILMAFFINITY)"
      ],
      "text/plain": [
       "<IPython.core.display.HTML object>"
      ]
     },
     "metadata": {},
     "output_type": "display_data"
    },
    {
     "data": {
      "text/html": [
       "<hr/>"
      ],
      "text/plain": [
       "<IPython.core.display.HTML object>"
      ]
     },
     "metadata": {},
     "output_type": "display_data"
    },
    {
     "data": {
      "text/html": [
       "<h2>The General</h2>"
      ],
      "text/plain": [
       "<IPython.core.display.HTML object>"
      ]
     },
     "metadata": {},
     "output_type": "display_data"
    },
    {
     "data": {
      "text/html": [
       "<img src=\"https://pics.filmaffinity.com/the_general-145423563-mmed.jpg\" />"
      ],
      "text/plain": [
       "<IPython.core.display.HTML object>"
      ]
     },
     "metadata": {},
     "output_type": "display_data"
    },
    {
     "data": {
      "text/html": [
       "<b>Género:</b> Comedia |                 Trenes / Metros.                 Ejército.                 Guerra de Secesión.                 Película de culto.                 Cine mudo"
      ],
      "text/plain": [
       "<IPython.core.display.HTML object>"
      ]
     },
     "metadata": {},
     "output_type": "display_data"
    },
    {
     "data": {
      "text/html": [
       "<b>Sinopsis:</b> Johnny Gray (Buster Keaton) es maquinista en un estado del Sur y tiene dos grandes amores: una chica (Anabelle Lee) y una locomotora (La General). En 1861, al estallar la Guerra de Secesión, Johnny intenta alistarse, pero el ejército considera que será más útil trabajando en la retaguardia. Sin embargo, Anabelle cree que es un cobarde y lo rechaza. El maquinista sólo podrá demostrar su auténtico valor cuando un comando nordista infiltrado en las líneas confederadas le robe \"La General\" y rapte a Anabelle. Johnny no dudará un segundo en subirse a otra locomotora y perseguir a los yanquis para recuperar a sus dos amadas. (FILMAFFINITY)"
      ],
      "text/plain": [
       "<IPython.core.display.HTML object>"
      ]
     },
     "metadata": {},
     "output_type": "display_data"
    },
    {
     "data": {
      "text/html": [
       "<hr/>"
      ],
      "text/plain": [
       "<IPython.core.display.HTML object>"
      ]
     },
     "metadata": {},
     "output_type": "display_data"
    },
    {
     "data": {
      "text/html": [
       "<h2>El verdugo</h2>"
      ],
      "text/plain": [
       "<IPython.core.display.HTML object>"
      ]
     },
     "metadata": {},
     "output_type": "display_data"
    },
    {
     "data": {
      "text/html": [
       "<img src=\"https://pics.filmaffinity.com/el_verdugo-632789770-mmed.jpg\" />"
      ],
      "text/plain": [
       "<IPython.core.display.HTML object>"
      ]
     },
     "metadata": {},
     "output_type": "display_data"
    },
    {
     "data": {
      "text/html": [
       "<b>Género:</b> Comedia |                 Sátira.                 Comedia negra.                 Película de culto"
      ],
      "text/plain": [
       "<IPython.core.display.HTML object>"
      ]
     },
     "metadata": {},
     "output_type": "display_data"
    },
    {
     "data": {
      "text/html": [
       "<b>Sinopsis:</b> José Luis, el empleado de una funeraria, proyecta emigrar a Alemania para convertirse en un buen mecánico. Su novia es hija de Amadeo, un verdugo profesional. Cuando éste los sorprende en la intimidad, los obliga a casarse. Ante la acuciante falta de medios económicos de los recién casados, Amadeo, que está a punto de jubilarse, trata de persuadir a José Luis para que solicite la plaza que él va a dejar vacante, lo que le daría derecho a una vivienda. José Luis acaba aceptando la propuesta de su suegro con el convencimiento de que jamás se presentará la ocasión de ejercer tan ignominioso oficio. (FILMAFFINITY)"
      ],
      "text/plain": [
       "<IPython.core.display.HTML object>"
      ]
     },
     "metadata": {},
     "output_type": "display_data"
    },
    {
     "data": {
      "text/html": [
       "<hr/>"
      ],
      "text/plain": [
       "<IPython.core.display.HTML object>"
      ]
     },
     "metadata": {},
     "output_type": "display_data"
    },
    {
     "data": {
      "text/html": [
       "<h2>Taskmaster</h2>"
      ],
      "text/plain": [
       "<IPython.core.display.HTML object>"
      ]
     },
     "metadata": {},
     "output_type": "display_data"
    },
    {
     "data": {
      "text/html": [
       "<img src=\"https://pics.filmaffinity.com/taskmaster-504052423-mmed.jpg\" />"
      ],
      "text/plain": [
       "<IPython.core.display.HTML object>"
      ]
     },
     "metadata": {},
     "output_type": "display_data"
    },
    {
     "data": {
      "text/html": [
       "<b>Género:</b> Serie de TV.                 Comedia"
      ],
      "text/plain": [
       "<IPython.core.display.HTML object>"
      ]
     },
     "metadata": {},
     "output_type": "display_data"
    },
    {
     "data": {
      "text/html": [
       "<b>Sinopsis:</b> Cinco comediantes tienen tareas establecidas que desafían su creatividad e ingenio. Las tareas son supervisadas por Alex Horne, pero el Administrador de tareas, Greg Davies, siempre tiene la última palabra."
      ],
      "text/plain": [
       "<IPython.core.display.HTML object>"
      ]
     },
     "metadata": {},
     "output_type": "display_data"
    },
    {
     "data": {
      "text/html": [
       "<hr/>"
      ],
      "text/plain": [
       "<IPython.core.display.HTML object>"
      ]
     },
     "metadata": {},
     "output_type": "display_data"
    },
    {
     "data": {
      "text/html": [
       "<h2>Rick and Morty: The Rickshank Redemption</h2>"
      ],
      "text/plain": [
       "<IPython.core.display.HTML object>"
      ]
     },
     "metadata": {},
     "output_type": "display_data"
    },
    {
     "data": {
      "text/html": [
       "<img src=\"https://pics.filmaffinity.com/rick_and_morty_the_rickshank_redemption-659632672-mmed.jpg\" />"
      ],
      "text/plain": [
       "<IPython.core.display.HTML object>"
      ]
     },
     "metadata": {},
     "output_type": "display_data"
    },
    {
     "data": {
      "text/html": [
       "<b>Género:</b> Animación.                 Comedia |                 Comedia negra.                 Animación para adultos"
      ],
      "text/plain": [
       "<IPython.core.display.HTML object>"
      ]
     },
     "metadata": {},
     "output_type": "display_data"
    },
    {
     "data": {
      "text/html": [
       "<b>Sinopsis:</b> En el despertar del gran genocidio en la Tierra, los Smith afrontan la pérdida de Rick, el miembro más destacado de la familia. Episodio que abrió la tercera temporada de la aclamada serie \"Rick y Morty\", estrenado por sorpresa el 1 de abril de 2017 en un stream de AdultSwim, fuera de la continuidad de la serie, y que dio el pistoletazo de salida en su tercera temporada, en verano de 2017. (FILMAFFINITY)"
      ],
      "text/plain": [
       "<IPython.core.display.HTML object>"
      ]
     },
     "metadata": {},
     "output_type": "display_data"
    },
    {
     "data": {
      "text/html": [
       "<hr/>"
      ],
      "text/plain": [
       "<IPython.core.display.HTML object>"
      ]
     },
     "metadata": {},
     "output_type": "display_data"
    },
    {
     "data": {
      "text/html": [
       "<h2>Fargo</h2>"
      ],
      "text/plain": [
       "<IPython.core.display.HTML object>"
      ]
     },
     "metadata": {},
     "output_type": "display_data"
    },
    {
     "data": {
      "text/html": [
       "<img src=\"https://pics.filmaffinity.com/fargo-242231012-mmed.jpg\" />"
      ],
      "text/plain": [
       "<IPython.core.display.HTML object>"
      ]
     },
     "metadata": {},
     "output_type": "display_data"
    },
    {
     "data": {
      "text/html": [
       "<b>Género:</b> Serie de TV.                 Thriller.                 Drama.                 Comedia |                 Crimen.                 Policíaco.                 Comedia negra.                 Serie de antología.                 Miniserie de TV"
      ],
      "text/plain": [
       "<IPython.core.display.HTML object>"
      ]
     },
     "metadata": {},
     "output_type": "display_data"
    },
    {
     "data": {
      "text/html": [
       "<b>Sinopsis:</b> Serie de TV (2014). 10 episodios. Lester Nygaard (Martin Freeman), un apocado vendedor de seguros de una pequeña población de Minnesota, ve cómo su mundo cambia por completo con la llegada de un misterioso y salvaje desconocido (Billy Bob Thornton). Serie basada en la película homónima de los hermanos Coen, aunque presenta personajes diferentes y se ambienta en 2006. (FILMAFFINITY)"
      ],
      "text/plain": [
       "<IPython.core.display.HTML object>"
      ]
     },
     "metadata": {},
     "output_type": "display_data"
    },
    {
     "data": {
      "text/html": [
       "<hr/>"
      ],
      "text/plain": [
       "<IPython.core.display.HTML object>"
      ]
     },
     "metadata": {},
     "output_type": "display_data"
    },
    {
     "data": {
      "text/html": [
       "<h2>Forrest Gump</h2>"
      ],
      "text/plain": [
       "<IPython.core.display.HTML object>"
      ]
     },
     "metadata": {},
     "output_type": "display_data"
    },
    {
     "data": {
      "text/html": [
       "<img src=\"https://pics.filmaffinity.com/forrest_gump-212765827-mmed.jpg\" />"
      ],
      "text/plain": [
       "<IPython.core.display.HTML object>"
      ]
     },
     "metadata": {},
     "output_type": "display_data"
    },
    {
     "data": {
      "text/html": [
       "<b>Género:</b> Comedia.                 Drama.                 Romance |                 Años 60.                 Años 70.                 Discapacidad.                 Comedia dramática.                 Película de culto.                 Guerra de Vietnam.                 Nochevieja / Año nuevo.                 Ping-pong"
      ],
      "text/plain": [
       "<IPython.core.display.HTML object>"
      ]
     },
     "metadata": {},
     "output_type": "display_data"
    },
    {
     "data": {
      "text/html": [
       "<b>Sinopsis:</b> Forrest Gump (Tom Hanks) sufre desde pequeño un cierto retraso mental. A pesar de todo, gracias a su tenacidad y a su buen corazón será protagonista de acontecimientos cruciales de su país durante varias décadas. Mientras pasan por su vida multitud de cosas en su mente siempre está presente la bella Jenny (Robin Wright), su gran amor desde la infancia, que junto a su madre será la persona más importante en su vida. (FILMAFFINITY)"
      ],
      "text/plain": [
       "<IPython.core.display.HTML object>"
      ]
     },
     "metadata": {},
     "output_type": "display_data"
    },
    {
     "data": {
      "text/html": [
       "<hr/>"
      ],
      "text/plain": [
       "<IPython.core.display.HTML object>"
      ]
     },
     "metadata": {},
     "output_type": "display_data"
    },
    {
     "data": {
      "text/html": [
       "<h2>One, Two, Three</h2>"
      ],
      "text/plain": [
       "<IPython.core.display.HTML object>"
      ]
     },
     "metadata": {},
     "output_type": "display_data"
    },
    {
     "data": {
      "text/html": [
       "<img src=\"https://pics.filmaffinity.com/one_two_three-996387961-mmed.jpg\" />"
      ],
      "text/plain": [
       "<IPython.core.display.HTML object>"
      ]
     },
     "metadata": {},
     "output_type": "display_data"
    },
    {
     "data": {
      "text/html": [
       "<b>Género:</b> Comedia |                 Sátira.                 Guerra Fría"
      ],
      "text/plain": [
       "<IPython.core.display.HTML object>"
      ]
     },
     "metadata": {},
     "output_type": "display_data"
    },
    {
     "data": {
      "text/html": [
       "<b>Sinopsis:</b> Época de la Guerra Fría. C.R. MacNamara, representante de una multinacional de refrescos en Berlín Occidental, hace tiempo que proyecta introducir su marca en la URSS. Sin embargo, en contra de sus deseos, lo que su jefe le encarga es cuidar de su hija Scarlett, que está a punto de llegar a Berlín. Se trata de una díscola y alocada joven de dieciocho años, que ya ha estado prometida cuatro veces. Pero lo peor es que, eludiendo la vigilancia de MacNamara, la chica se enamora de Otto Piffl, un joven comunista que vive en la Alemania Oriental. (FILMAFFINITY)"
      ],
      "text/plain": [
       "<IPython.core.display.HTML object>"
      ]
     },
     "metadata": {},
     "output_type": "display_data"
    },
    {
     "data": {
      "text/html": [
       "<hr/>"
      ],
      "text/plain": [
       "<IPython.core.display.HTML object>"
      ]
     },
     "metadata": {},
     "output_type": "display_data"
    },
    {
     "data": {
      "text/html": [
       "<h2>Friends</h2>"
      ],
      "text/plain": [
       "<IPython.core.display.HTML object>"
      ]
     },
     "metadata": {},
     "output_type": "display_data"
    },
    {
     "data": {
      "text/html": [
       "<img src=\"https://pics.filmaffinity.com/friends-344732706-mmed.jpg\" />"
      ],
      "text/plain": [
       "<IPython.core.display.HTML object>"
      ]
     },
     "metadata": {},
     "output_type": "display_data"
    },
    {
     "data": {
      "text/html": [
       "<b>Género:</b> Serie de TV.                 Comedia |                 Sitcom.                 Amistad"
      ],
      "text/plain": [
       "<IPython.core.display.HTML object>"
      ]
     },
     "metadata": {},
     "output_type": "display_data"
    },
    {
     "data": {
      "text/html": [
       "<b>Sinopsis:</b> Serie de TV (1994-2004). 10 temporadas. 236 episodios. \"Friends\" narra las aventuras y desventuras de seis jóvenes de Nueva York. Rachel (Jennifer Aniston), Monica (Courteney Cox), Phoebe (Lisa Kudrow), Ross (David Schwimmer), Chandler (Matthew Perry) y Joey (Matt LeBlanc) forman una unida pandilla de amigos que viven en Manhattan y que suelen reunirse en sus apartamentos o en su bar habitual, el Central Perk. A pesar de los numerosos cambios que se producen en sus vidas, su amistad es inquebrantable en la dura batalla por salir adelante en sus periplos profesionales y personales. (FILMAFFINITY)"
      ],
      "text/plain": [
       "<IPython.core.display.HTML object>"
      ]
     },
     "metadata": {},
     "output_type": "display_data"
    },
    {
     "data": {
      "text/html": [
       "<hr/>"
      ],
      "text/plain": [
       "<IPython.core.display.HTML object>"
      ]
     },
     "metadata": {},
     "output_type": "display_data"
    },
    {
     "data": {
      "text/html": [
       "<h2>Adventure Time: Come Along With Meaka</h2>"
      ],
      "text/plain": [
       "<IPython.core.display.HTML object>"
      ]
     },
     "metadata": {},
     "output_type": "display_data"
    },
    {
     "data": {
      "text/html": [
       "<img src=\"https://pics.filmaffinity.com/adventure_time_come_along_with_me-959122329-mmed.jpg\" />"
      ],
      "text/plain": [
       "<IPython.core.display.HTML object>"
      ]
     },
     "metadata": {},
     "output_type": "display_data"
    },
    {
     "data": {
      "text/html": [
       "<b>Género:</b> Animación.                 Aventuras.                 Fantástico.                 Comedia |                 Episodio de TV"
      ],
      "text/plain": [
       "<IPython.core.display.HTML object>"
      ]
     },
     "metadata": {},
     "output_type": "display_data"
    },
    {
     "data": {
      "text/html": [
       "<b>Sinopsis:</b> Con la guerra entre la Princesa Chicle y su tío Gumbald, y Betty capturando al Rey Hielo, se cierra la historia de \"Hora de Aventuras\" (Adventure Time) en un episodio de 44 minutos de duración (frente a los 11 min de los capítulos convencionales) que fue emitido el 3 de septiembre de 2018. (FILMAFFINITY)"
      ],
      "text/plain": [
       "<IPython.core.display.HTML object>"
      ]
     },
     "metadata": {},
     "output_type": "display_data"
    },
    {
     "data": {
      "text/html": [
       "<hr/>"
      ],
      "text/plain": [
       "<IPython.core.display.HTML object>"
      ]
     },
     "metadata": {},
     "output_type": "display_data"
    },
    {
     "data": {
      "text/html": [
       "<h2>Sherlock Jr.aka</h2>"
      ],
      "text/plain": [
       "<IPython.core.display.HTML object>"
      ]
     },
     "metadata": {},
     "output_type": "display_data"
    },
    {
     "data": {
      "text/html": [
       "<img src=\"https://pics.filmaffinity.com/sherlock_jr_aka_sherlock_junior-781853857-mmed.jpg\" />"
      ],
      "text/plain": [
       "<IPython.core.display.HTML object>"
      ]
     },
     "metadata": {},
     "output_type": "display_data"
    },
    {
     "data": {
      "text/html": [
       "<b>Género:</b> Comedia |                 Cine mudo.                 Sherlock Holmes.                 Mediometraje"
      ],
      "text/plain": [
       "<IPython.core.display.HTML object>"
      ]
     },
     "metadata": {},
     "output_type": "display_data"
    },
    {
     "data": {
      "text/html": [
       "<b>Sinopsis:</b> Película sobre el mundo del cine, Keaton es un proyeccionista que sueña con ser un detective cuando, milagrosamente, se encuentra dentro de la película que está proyectando. Allí intentará salvar a su amada de las garras del villano. Una de las más aclamadas cintas de cine mudo llena de gags visuales y con un portentoso Buster Keaton. (FILMAFFINITY)"
      ],
      "text/plain": [
       "<IPython.core.display.HTML object>"
      ]
     },
     "metadata": {},
     "output_type": "display_data"
    },
    {
     "data": {
      "text/html": [
       "<hr/>"
      ],
      "text/plain": [
       "<IPython.core.display.HTML object>"
      ]
     },
     "metadata": {},
     "output_type": "display_data"
    },
    {
     "data": {
      "text/html": [
       "<h2>Eungdabhala 1988aka</h2>"
      ],
      "text/plain": [
       "<IPython.core.display.HTML object>"
      ]
     },
     "metadata": {},
     "output_type": "display_data"
    },
    {
     "data": {
      "text/html": [
       "<img src=\"https://pics.filmaffinity.com/eungdabhala_1988_aka_eung_dab_ha_ra_1988_aka_answer_me_1988_tv_series-145588587-mmed.jpg\" />"
      ],
      "text/plain": [
       "<IPython.core.display.HTML object>"
      ]
     },
     "metadata": {},
     "output_type": "display_data"
    },
    {
     "data": {
      "text/html": [
       "<b>Género:</b> Serie de TV.                 Romance.                 Comedia |                 Familia.                 Años 80.                 Amistad"
      ],
      "text/plain": [
       "<IPython.core.display.HTML object>"
      ]
     },
     "metadata": {},
     "output_type": "display_data"
    },
    {
     "data": {
      "text/html": [
       "<b>Sinopsis:</b> Serie de TV. 20 episodios. Se centra en los últimos años de la década de los 80. Sung Deok-Sun es una estudiante de secundaria que ha vivido toda su vida en un barrio de Seúl donde compartió su niñez con sus cuatro mejores amigos varones y las familias completas de estos. Entre sus cuatro mejores amigos están: el presidente del consejo estudiantil, un jugador profesional de Baduk, un tipo con cara de serio y un estudiante amante de lo erótico. (FILMAFFINITY)"
      ],
      "text/plain": [
       "<IPython.core.display.HTML object>"
      ]
     },
     "metadata": {},
     "output_type": "display_data"
    },
    {
     "data": {
      "text/html": [
       "<hr/>"
      ],
      "text/plain": [
       "<IPython.core.display.HTML object>"
      ]
     },
     "metadata": {},
     "output_type": "display_data"
    },
    {
     "data": {
      "text/html": [
       "<h2>The Front Page</h2>"
      ],
      "text/plain": [
       "<IPython.core.display.HTML object>"
      ]
     },
     "metadata": {},
     "output_type": "display_data"
    },
    {
     "data": {
      "text/html": [
       "<img src=\"https://pics.filmaffinity.com/the_front_page-179622438-mmed.jpg\" />"
      ],
      "text/plain": [
       "<IPython.core.display.HTML object>"
      ]
     },
     "metadata": {},
     "output_type": "display_data"
    },
    {
     "data": {
      "text/html": [
       "<b>Género:</b> Comedia |                 Sátira.                 Periodismo.                 Años 20.                 Remake"
      ],
      "text/plain": [
       "<IPython.core.display.HTML object>"
      ]
     },
     "metadata": {},
     "output_type": "display_data"
    },
    {
     "data": {
      "text/html": [
       "<b>Sinopsis:</b> Chicago, 1929. Earl Williams, convicto del asesinato de un policía, espera en la cárcel el momento de su ejecución. Mientras tanto, en la sala de prensa del Tribunal Supremo, un grupo de periodistas espera el indulto o la confirmación de la sentencia. Hildy Johnson, el cronista de sucesos del Chicago Examiner, que tendría que cubrir la información, está a punto de contraer matrimonio y abandonar su trabajo; pero Walter Burns, el maquiavélico director del periódico, empeñado en retenerlo, tratará de impedir su boda por todos los medios. (FILMAFFINITY)"
      ],
      "text/plain": [
       "<IPython.core.display.HTML object>"
      ]
     },
     "metadata": {},
     "output_type": "display_data"
    },
    {
     "data": {
      "text/html": [
       "<hr/>"
      ],
      "text/plain": [
       "<IPython.core.display.HTML object>"
      ]
     },
     "metadata": {},
     "output_type": "display_data"
    },
    {
     "data": {
      "text/html": [
       "<h2>Hantâ x Hantâ (Hunter x Hunter)</h2>"
      ],
      "text/plain": [
       "<IPython.core.display.HTML object>"
      ]
     },
     "metadata": {},
     "output_type": "display_data"
    },
    {
     "data": {
      "text/html": [
       "<img src=\"https://pics.filmaffinity.com/hanta_x_hanta_hunter_x_hunter-444297736-mmed.jpg\" />"
      ],
      "text/plain": [
       "<IPython.core.display.HTML object>"
      ]
     },
     "metadata": {},
     "output_type": "display_data"
    },
    {
     "data": {
      "text/html": [
       "<b>Género:</b> Serie de TV.                 Animación.                 Acción.                 Aventuras.                 Comedia.                 Drama.                 Fantástico |                 Manga.                 Remake"
      ],
      "text/plain": [
       "<IPython.core.display.HTML object>"
      ]
     },
     "metadata": {},
     "output_type": "display_data"
    },
    {
     "data": {
      "text/html": [
       "<b>Sinopsis:</b> Serie de TV (2011-2014). 148 episodios. Gon Frecks, un niño de 12 años, vive con su tía Mito y su abuela en Isla Ballena, huérfano de madre y según su tía también de padre. Un día Gon es atacado por un oso del bosque, pero es salvado por un cazador quien le explica que está en busca de su maestro para así convertirse en un cazador. Él es quien le dice que su padre Gin está vivo. Enterado de esto Gon decide convertirse en cazador para poder encontrar a su padre. (FILMAFFINITY)"
      ],
      "text/plain": [
       "<IPython.core.display.HTML object>"
      ]
     },
     "metadata": {},
     "output_type": "display_data"
    },
    {
     "data": {
      "text/html": [
       "<hr/>"
      ],
      "text/plain": [
       "<IPython.core.display.HTML object>"
      ]
     },
     "metadata": {},
     "output_type": "display_data"
    },
    {
     "data": {
      "text/html": [
       "<h2>Duck Soup</h2>"
      ],
      "text/plain": [
       "<IPython.core.display.HTML object>"
      ]
     },
     "metadata": {},
     "output_type": "display_data"
    },
    {
     "data": {
      "text/html": [
       "<img src=\"https://pics.filmaffinity.com/duck_soup-182448526-mmed.jpg\" />"
      ],
      "text/plain": [
       "<IPython.core.display.HTML object>"
      ]
     },
     "metadata": {},
     "output_type": "display_data"
    },
    {
     "data": {
      "text/html": [
       "<b>Género:</b> Comedia.                 Musical"
      ],
      "text/plain": [
       "<IPython.core.display.HTML object>"
      ]
     },
     "metadata": {},
     "output_type": "display_data"
    },
    {
     "data": {
      "text/html": [
       "<b>Sinopsis:</b> La República Democrática de Freedonia, un pequeño país centroeuropeo, a cuyo frente se encuentra el muy liberal señor Rufus T. Firefly, se ve amenazada por la dictadura de Sylvania, país de vieja y reconocida solvencia como agresor. Dos espías de prestigio, Chicolini y Pinky, sirven a Sylvania, lo que no impide que acaben siendo ministros del ahora ya excelentísimo Firefly. (FILMAFFINITY)"
      ],
      "text/plain": [
       "<IPython.core.display.HTML object>"
      ]
     },
     "metadata": {},
     "output_type": "display_data"
    },
    {
     "data": {
      "text/html": [
       "<hr/>"
      ],
      "text/plain": [
       "<IPython.core.display.HTML object>"
      ]
     },
     "metadata": {},
     "output_type": "display_data"
    },
    {
     "data": {
      "text/html": [
       "<h2>Plácido</h2>"
      ],
      "text/plain": [
       "<IPython.core.display.HTML object>"
      ]
     },
     "metadata": {},
     "output_type": "display_data"
    },
    {
     "data": {
      "text/html": [
       "<img src=\"https://pics.filmaffinity.com/placido-674278117-mmed.jpg\" />"
      ],
      "text/plain": [
       "<IPython.core.display.HTML object>"
      ]
     },
     "metadata": {},
     "output_type": "display_data"
    },
    {
     "data": {
      "text/html": [
       "<b>Género:</b> Comedia |                 Pobreza.                 Navidad.                 Sátira"
      ],
      "text/plain": [
       "<IPython.core.display.HTML object>"
      ]
     },
     "metadata": {},
     "output_type": "display_data"
    },
    {
     "data": {
      "text/html": [
       "<b>Sinopsis:</b> En una pequeña ciudad provinciana, a unas burguesas ociosas se les ocurre la idea de organizar una campaña navideña cuyo lema es: \"Siente a un pobre a su mesa\". Se trata de que los más necesitados compartan la cena de Nochebuena con familias acomodadas y disfruten del calor y el afecto que no tienen. Plácido ha sido contratado para participar con su motocarro en la cabalgata, pero surge un problema que le impide centrarse en su trabajo: ese mismo día vence la primera letra del vehículo, que es su único medio de vida. (FILMAFFINITY)"
      ],
      "text/plain": [
       "<IPython.core.display.HTML object>"
      ]
     },
     "metadata": {},
     "output_type": "display_data"
    },
    {
     "data": {
      "text/html": [
       "<hr/>"
      ],
      "text/plain": [
       "<IPython.core.display.HTML object>"
      ]
     },
     "metadata": {},
     "output_type": "display_data"
    },
    {
     "data": {
      "text/html": [
       "<h2>Strappare lungo i bordi</h2>"
      ],
      "text/plain": [
       "<IPython.core.display.HTML object>"
      ]
     },
     "metadata": {},
     "output_type": "display_data"
    },
    {
     "data": {
      "text/html": [
       "<img src=\"https://pics.filmaffinity.com/strappare_lungo_i_bordi-889125001-mmed.jpg\" />"
      ],
      "text/plain": [
       "<IPython.core.display.HTML object>"
      ]
     },
     "metadata": {},
     "output_type": "display_data"
    },
    {
     "data": {
      "text/html": [
       "<b>Género:</b> Serie de TV.                 Animación.                 Comedia |                 Comedia negra.                 Animación para adultos"
      ],
      "text/plain": [
       "<IPython.core.display.HTML object>"
      ]
     },
     "metadata": {},
     "output_type": "display_data"
    },
    {
     "data": {
      "text/html": [
       "<b>Sinopsis:</b> Miniserie. 6 episodios. Zero, un escritor y artista de cómics que se imagina a su subconsciente como un armadillo, recuerda cómo conoció a su amiga Alice cuando tenían 17 años."
      ],
      "text/plain": [
       "<IPython.core.display.HTML object>"
      ]
     },
     "metadata": {},
     "output_type": "display_data"
    },
    {
     "data": {
      "text/html": [
       "<hr/>"
      ],
      "text/plain": [
       "<IPython.core.display.HTML object>"
      ]
     },
     "metadata": {},
     "output_type": "display_data"
    },
    {
     "data": {
      "text/html": [
       "<h2>Singin' in the Rain</h2>"
      ],
      "text/plain": [
       "<IPython.core.display.HTML object>"
      ]
     },
     "metadata": {},
     "output_type": "display_data"
    },
    {
     "data": {
      "text/html": [
       "<img src=\"https://pics.filmaffinity.com/singin_in_the_rain-772292013-mmed.jpg\" />"
      ],
      "text/plain": [
       "<IPython.core.display.HTML object>"
      ]
     },
     "metadata": {},
     "output_type": "display_data"
    },
    {
     "data": {
      "text/html": [
       "<b>Género:</b> Musical.                 Comedia.                 Romance |                 Cine dentro del cine.                 Años 20.                 Baile.                 Sátira"
      ],
      "text/plain": [
       "<IPython.core.display.HTML object>"
      ]
     },
     "metadata": {},
     "output_type": "display_data"
    },
    {
     "data": {
      "text/html": [
       "<b>Sinopsis:</b> Antes de conocer a la aspirante a actriz Kathy Selden (Debbie Reynolds), el ídolo del cine mudo Don Lockwood (Gene Kelly) pensaba que lo tenía todo: fama, fortuna y éxito. Pero, cuando la conoce, se da cuenta de que ella es lo que realmente faltaba en su vida. Con el nacimiento del cine sonoro, Don quiere filmar musicales con Kathy, pero entre ambos se interpone la reina del cine mudo Lina Lamont (Jean Hagen). (FILMAFFINITY)"
      ],
      "text/plain": [
       "<IPython.core.display.HTML object>"
      ]
     },
     "metadata": {},
     "output_type": "display_data"
    },
    {
     "data": {
      "text/html": [
       "<hr/>"
      ],
      "text/plain": [
       "<IPython.core.display.HTML object>"
      ]
     },
     "metadata": {},
     "output_type": "display_data"
    },
    {
     "data": {
      "text/html": [
       "<h2>The Simpsons: Treehouse of Horror Vaka</h2>"
      ],
      "text/plain": [
       "<IPython.core.display.HTML object>"
      ]
     },
     "metadata": {},
     "output_type": "display_data"
    },
    {
     "data": {
      "text/html": [
       "<img src=\"https://pics.filmaffinity.com/the_simpsons_treehouse_of_horror_v-268339376-mmed.jpg\" />"
      ],
      "text/plain": [
       "<IPython.core.display.HTML object>"
      ]
     },
     "metadata": {},
     "output_type": "display_data"
    },
    {
     "data": {
      "text/html": [
       "<b>Género:</b> Animación.                 Comedia.                 Fantástico |                 Comedia de terror.                 Parodia.                 Viajes en el tiempo.                 Dinosaurios.                 Halloween.                 Los Simpson.                 Episodio de TV"
      ],
      "text/plain": [
       "<IPython.core.display.HTML object>"
      ]
     },
     "metadata": {},
     "output_type": "display_data"
    },
    {
     "data": {
      "text/html": [
       "<b>Sinopsis:</b> Quinto especial de Halloween de Los Simpson, recordado sobre todo por el segmento en el que se parodia \"El Resplandor\" (The Shining), la película de Stanley Kubrick que adapta el libro de Stephen King. En la segunda historia, Homer pone la mano en la tostadora y la rompe, y al intentar arreglarla Homer accidentalmente crea una máquina del tiempo. En el último, Bart descubre que los niños del colegio están desapareciendo de forma muy sospechosa. (FILMAFFINITY)"
      ],
      "text/plain": [
       "<IPython.core.display.HTML object>"
      ]
     },
     "metadata": {},
     "output_type": "display_data"
    },
    {
     "data": {
      "text/html": [
       "<hr/>"
      ],
      "text/plain": [
       "<IPython.core.display.HTML object>"
      ]
     },
     "metadata": {},
     "output_type": "display_data"
    },
    {
     "data": {
      "text/html": [
       "<h2>Manhattan</h2>"
      ],
      "text/plain": [
       "<IPython.core.display.HTML object>"
      ]
     },
     "metadata": {},
     "output_type": "display_data"
    },
    {
     "data": {
      "text/html": [
       "<img src=\"https://pics.filmaffinity.com/manhattan-633375259-mmed.jpg\" />"
      ],
      "text/plain": [
       "<IPython.core.display.HTML object>"
      ]
     },
     "metadata": {},
     "output_type": "display_data"
    },
    {
     "data": {
      "text/html": [
       "<b>Género:</b> Comedia.                 Drama.                 Romance |                 Comedia romántica"
      ],
      "text/plain": [
       "<IPython.core.display.HTML object>"
      ]
     },
     "metadata": {},
     "output_type": "display_data"
    },
    {
     "data": {
      "text/html": [
       "<b>Sinopsis:</b> Isaac Davis, un neoyorquino de mediana edad tiene un trabajo que odia, una novia de 17 años a la que no ama y una ex esposa lesbiana a la que desearía estrangular, porque está escribiendo un libro en el que cuenta las intimidades de su matrimonio. Cuando conoce a Mary, la sexy y snob amante de su mejor amigo, se enamora perdidamente de ella. La idea de dejar a su novia, acostarse con Mary y abandonar su trabajo supone para él el comienzo de una nueva vida. (FILMAFFINITY)"
      ],
      "text/plain": [
       "<IPython.core.display.HTML object>"
      ]
     },
     "metadata": {},
     "output_type": "display_data"
    },
    {
     "data": {
      "text/html": [
       "<hr/>"
      ],
      "text/plain": [
       "<IPython.core.display.HTML object>"
      ]
     },
     "metadata": {},
     "output_type": "display_data"
    },
    {
     "data": {
      "text/html": [
       "<h2>Kuranado: Afutâ Sutôrî (Clannad: After Story)</h2>"
      ],
      "text/plain": [
       "<IPython.core.display.HTML object>"
      ]
     },
     "metadata": {},
     "output_type": "display_data"
    },
    {
     "data": {
      "text/html": [
       "<img src=\"https://pics.filmaffinity.com/kuranado_afuta_sutori_clannad_after_story-236624552-mmed.jpg\" />"
      ],
      "text/plain": [
       "<IPython.core.display.HTML object>"
      ]
     },
     "metadata": {},
     "output_type": "display_data"
    },
    {
     "data": {
      "text/html": [
       "<b>Género:</b> Serie de TV.                 Animación.                 Comedia.                 Romance |                 Secuela.                 Manga.                 Videojuego"
      ],
      "text/plain": [
       "<IPython.core.display.HTML object>"
      ]
     },
     "metadata": {},
     "output_type": "display_data"
    },
    {
     "data": {
      "text/html": [
       "<b>Sinopsis:</b> Serie de TV (2008). 22 episodios + 3 especiales. Esta secuela de la popular serie \"Clannad\" narra la historia de Tomoya Okazaki y Nagisa Furukawa, cuyas vidas cambiarán radicalmente después de las peripecias vividas durante las vacaciones de verano. (FILMAFFINITY)"
      ],
      "text/plain": [
       "<IPython.core.display.HTML object>"
      ]
     },
     "metadata": {},
     "output_type": "display_data"
    },
    {
     "data": {
      "text/html": [
       "<hr/>"
      ],
      "text/plain": [
       "<IPython.core.display.HTML object>"
      ]
     },
     "metadata": {},
     "output_type": "display_data"
    },
    {
     "data": {
      "text/html": [
       "<h2>You Can't Take It with You</h2>"
      ],
      "text/plain": [
       "<IPython.core.display.HTML object>"
      ]
     },
     "metadata": {},
     "output_type": "display_data"
    },
    {
     "data": {
      "text/html": [
       "<img src=\"https://pics.filmaffinity.com/you_can_t_take_it_with_you-642701189-mmed.jpg\" />"
      ],
      "text/plain": [
       "<IPython.core.display.HTML object>"
      ]
     },
     "metadata": {},
     "output_type": "display_data"
    },
    {
     "data": {
      "text/html": [
       "<b>Género:</b> Comedia |                 Comedia screwball.                 Comedia sofisticada"
      ],
      "text/plain": [
       "<IPython.core.display.HTML object>"
      ]
     },
     "metadata": {},
     "output_type": "display_data"
    },
    {
     "data": {
      "text/html": [
       "<b>Sinopsis:</b> Alice Sycamore, la única persona con un poco de cordura en una familia llena de lunáticos, se enamora de su jefe, Tony Kirby, que pertenece a una familia muy rica y muy cursi. La diferencia entre el estilo de vida y la mentalidad de ambas familias se agudiza cuando los padres de él van a cenar a casa de ella, y la cena termina con la llegada de la policía y la detención de todos los presentes, acusados de anarquistas. (FILMAFFINITY)"
      ],
      "text/plain": [
       "<IPython.core.display.HTML object>"
      ]
     },
     "metadata": {},
     "output_type": "display_data"
    },
    {
     "data": {
      "text/html": [
       "<hr/>"
      ],
      "text/plain": [
       "<IPython.core.display.HTML object>"
      ]
     },
     "metadata": {},
     "output_type": "display_data"
    },
    {
     "data": {
      "text/html": [
       "<h2>Mary and Max</h2>"
      ],
      "text/plain": [
       "<IPython.core.display.HTML object>"
      ]
     },
     "metadata": {},
     "output_type": "display_data"
    },
    {
     "data": {
      "text/html": [
       "<img src=\"https://pics.filmaffinity.com/mary_and_max-528932806-mmed.jpg\" />"
      ],
      "text/plain": [
       "<IPython.core.display.HTML object>"
      ]
     },
     "metadata": {},
     "output_type": "display_data"
    },
    {
     "data": {
      "text/html": [
       "<b>Género:</b> Animación.                 Drama.                 Comedia |                 Comedia dramática.                 Amistad.                 Stop Motion.                 Claymation (Plastilina).                 Animación para adultos.                 Discapacidad.                 Autismo / Asperger"
      ],
      "text/plain": [
       "<IPython.core.display.HTML object>"
      ]
     },
     "metadata": {},
     "output_type": "display_data"
    },
    {
     "data": {
      "text/html": [
       "<b>Sinopsis:</b> Primer largometraje de Adam Elliot, ganador de un Oscar con el cortometraje \"Harvey Krumpet\". Narra la larga amistad por correspondencia entre un cuarentón judío y obeso de Nueva York, y una niña australiana de ocho años que vive en los suburbios de Melbourne. (FILMAFFINITY)"
      ],
      "text/plain": [
       "<IPython.core.display.HTML object>"
      ]
     },
     "metadata": {},
     "output_type": "display_data"
    },
    {
     "data": {
      "text/html": [
       "<hr/>"
      ],
      "text/plain": [
       "<IPython.core.display.HTML object>"
      ]
     },
     "metadata": {},
     "output_type": "display_data"
    },
    {
     "data": {
      "text/html": [
       "<h2>Over the Garden Wall</h2>"
      ],
      "text/plain": [
       "<IPython.core.display.HTML object>"
      ]
     },
     "metadata": {},
     "output_type": "display_data"
    },
    {
     "data": {
      "text/html": [
       "<img src=\"https://pics.filmaffinity.com/over_the_garden_wall-848117606-mmed.jpg\" />"
      ],
      "text/plain": [
       "<IPython.core.display.HTML object>"
      ]
     },
     "metadata": {},
     "output_type": "display_data"
    },
    {
     "data": {
      "text/html": [
       "<b>Género:</b> Serie de TV.                 Animación.                 Comedia.                 Fantástico |                 Miniserie de TV"
      ],
      "text/plain": [
       "<IPython.core.display.HTML object>"
      ]
     },
     "metadata": {},
     "output_type": "display_data"
    },
    {
     "data": {
      "text/html": [
       "<b>Sinopsis:</b> Miniserie de TV (2014). 10 episodios. Wirt y Greg son dos hermanos que se han perdido en Lo desconocido, un extraño bosque a la deriva en el tiempo, y que buscan el camino de regreso a casa. El mayor es responsable y temeroso; el pequeño, despreocupado, optimista y juguetón. Dos personalidades opuestas que, a lo largo del trayecto, contarán con la ayuda de un sombrío leñador y de un pájaro azul con bastante mal genio. (FILMAFFINITY)"
      ],
      "text/plain": [
       "<IPython.core.display.HTML object>"
      ]
     },
     "metadata": {},
     "output_type": "display_data"
    },
    {
     "data": {
      "text/html": [
       "<hr/>"
      ],
      "text/plain": [
       "<IPython.core.display.HTML object>"
      ]
     },
     "metadata": {},
     "output_type": "display_data"
    },
    {
     "data": {
      "text/html": [
       "<h2>Fargo: Year Twoaka</h2>"
      ],
      "text/plain": [
       "<IPython.core.display.HTML object>"
      ]
     },
     "metadata": {},
     "output_type": "display_data"
    },
    {
     "data": {
      "text/html": [
       "<img src=\"https://pics.filmaffinity.com/fargo_year_two-590560050-mmed.jpg\" />"
      ],
      "text/plain": [
       "<IPython.core.display.HTML object>"
      ]
     },
     "metadata": {},
     "output_type": "display_data"
    },
    {
     "data": {
      "text/html": [
       "<b>Género:</b> Serie de TV.                 Thriller.                 Drama.                 Comedia |                 Crimen.                 Policíaco.                 Comedia negra.                 Años 70.                 Serie de antología.                 Miniserie de TV"
      ],
      "text/plain": [
       "<IPython.core.display.HTML object>"
      ]
     },
     "metadata": {},
     "output_type": "display_data"
    },
    {
     "data": {
      "text/html": [
       "<b>Sinopsis:</b> Miniserie de TV (2015). 10 episodios. Segunda temporada. En 1979. en un pequeño pueblo de Minnesota, un inesperado giro de los acontecimientos perturba la vida de varias personas: el matrimonio Blomquist (Kirsten Dunst y Jesse Plemons) y el clan familiar Gerhardt de cuyo imperio intenta apoderarse un sindicato mafioso de Kansas City. Por su parte, el policía local Lou Solverson (Keith Carradine en la 1ª temporada) se hará cargo de la investigación de los hechos con la ayuda de su suegro (Ted Danson). (FILMAFFINITY)"
      ],
      "text/plain": [
       "<IPython.core.display.HTML object>"
      ]
     },
     "metadata": {},
     "output_type": "display_data"
    },
    {
     "data": {
      "text/html": [
       "<hr/>"
      ],
      "text/plain": [
       "<IPython.core.display.HTML object>"
      ]
     },
     "metadata": {},
     "output_type": "display_data"
    },
    {
     "data": {
      "text/html": [
       "<h2>Seven Chances</h2>"
      ],
      "text/plain": [
       "<IPython.core.display.HTML object>"
      ]
     },
     "metadata": {},
     "output_type": "display_data"
    },
    {
     "data": {
      "text/html": [
       "<img src=\"https://pics.filmaffinity.com/seven_chances-488292942-mmed.jpg\" />"
      ],
      "text/plain": [
       "<IPython.core.display.HTML object>"
      ]
     },
     "metadata": {},
     "output_type": "display_data"
    },
    {
     "data": {
      "text/html": [
       "<b>Género:</b> Comedia |                 Cine mudo.                 Mediometraje.                 Bodas"
      ],
      "text/plain": [
       "<IPython.core.display.HTML object>"
      ]
     },
     "metadata": {},
     "output_type": "display_data"
    },
    {
     "data": {
      "text/html": [
       "<b>Sinopsis:</b> El agente de bolsa Jimmy Shannon está cercano a la bancarrota cuando un abogado le presenta el testamento de su abuelo legándole 7 millones de dólares. Pero para poder heredar ese dinero deberá casarse antes de las 7 de la tarde de su 27 cumpleaños... ¡Y eso es hoy! (FILMAFFINITY)"
      ],
      "text/plain": [
       "<IPython.core.display.HTML object>"
      ]
     },
     "metadata": {},
     "output_type": "display_data"
    },
    {
     "data": {
      "text/html": [
       "<hr/>"
      ],
      "text/plain": [
       "<IPython.core.display.HTML object>"
      ]
     },
     "metadata": {},
     "output_type": "display_data"
    },
    {
     "data": {
      "text/html": [
       "<h2>The Office</h2>"
      ],
      "text/plain": [
       "<IPython.core.display.HTML object>"
      ]
     },
     "metadata": {},
     "output_type": "display_data"
    },
    {
     "data": {
      "text/html": [
       "<img src=\"https://pics.filmaffinity.com/the_office-862602609-mmed.jpg\" />"
      ],
      "text/plain": [
       "<IPython.core.display.HTML object>"
      ]
     },
     "metadata": {},
     "output_type": "display_data"
    },
    {
     "data": {
      "text/html": [
       "<b>Género:</b> Serie de TV.                 Comedia |                 Sitcom.                 Falso documental.                 Trabajo/empleo.                 Remake"
      ],
      "text/plain": [
       "<IPython.core.display.HTML object>"
      ]
     },
     "metadata": {},
     "output_type": "display_data"
    },
    {
     "data": {
      "text/html": [
       "<b>Sinopsis:</b> Serie de TV (2005-2013). 9 temporadas. 188 episodios. Corrosivo retrato de los miembros de una empresa. Versión americana de una popular serie británica de la BBC del mismo título. (FILMAFFINITY)"
      ],
      "text/plain": [
       "<IPython.core.display.HTML object>"
      ]
     },
     "metadata": {},
     "output_type": "display_data"
    },
    {
     "data": {
      "text/html": [
       "<hr/>"
      ],
      "text/plain": [
       "<IPython.core.display.HTML object>"
      ]
     },
     "metadata": {},
     "output_type": "display_data"
    },
    {
     "data": {
      "text/html": [
       "<h2>Bienvenido, Mr. Marshallaka</h2>"
      ],
      "text/plain": [
       "<IPython.core.display.HTML object>"
      ]
     },
     "metadata": {},
     "output_type": "display_data"
    },
    {
     "data": {
      "text/html": [
       "<img src=\"https://pics.filmaffinity.com/bienvenido_mr_marshall-746624914-mmed.jpg\" />"
      ],
      "text/plain": [
       "<IPython.core.display.HTML object>"
      ]
     },
     "metadata": {},
     "output_type": "display_data"
    },
    {
     "data": {
      "text/html": [
       "<b>Género:</b> Comedia |                 Sátira"
      ],
      "text/plain": [
       "<IPython.core.display.HTML object>"
      ]
     },
     "metadata": {},
     "output_type": "display_data"
    },
    {
     "data": {
      "text/html": [
       "<b>Sinopsis:</b> Años 50. Villar del Río es un pequeño y tranquilo pueblo en el que nunca pasa nada. Sin embargo, el mismo día en que llegan la cantante folclórica Carmen Vargas y su representante, el alcalde (Pepe Isbert) recibe la noticia de la inminente visita de un comité del Plan Marshall (proyecto económico americano para la reconstrucción de Europa). La novedad provoca un gran revuelo entre la gente, que se dispone a ofrecer a los americanos un recibimiento muy especial. (FILMAFFINITY)"
      ],
      "text/plain": [
       "<IPython.core.display.HTML object>"
      ]
     },
     "metadata": {},
     "output_type": "display_data"
    },
    {
     "data": {
      "text/html": [
       "<hr/>"
      ],
      "text/plain": [
       "<IPython.core.display.HTML object>"
      ]
     },
     "metadata": {},
     "output_type": "display_data"
    },
    {
     "data": {
      "text/html": [
       "<h2>Intouchables</h2>"
      ],
      "text/plain": [
       "<IPython.core.display.HTML object>"
      ]
     },
     "metadata": {},
     "output_type": "display_data"
    },
    {
     "data": {
      "text/html": [
       "<img src=\"https://pics.filmaffinity.com/intouchables-218166359-mmed.jpg\" />"
      ],
      "text/plain": [
       "<IPython.core.display.HTML object>"
      ]
     },
     "metadata": {},
     "output_type": "display_data"
    },
    {
     "data": {
      "text/html": [
       "<b>Género:</b> Comedia.                 Drama |                 Comedia dramática.                 Discapacidad.                 Amistad"
      ],
      "text/plain": [
       "<IPython.core.display.HTML object>"
      ]
     },
     "metadata": {},
     "output_type": "display_data"
    },
    {
     "data": {
      "text/html": [
       "<b>Sinopsis:</b> Philippe, un aristócrata millonario que se ha quedado tetrapléjico a causa de un accidente de parapente, contrata como cuidador a domicilio a Driss, un inmigrante de un barrio marginal recién salido de la cárcel. Aunque, a primera vista, no parece la persona más indicada, los dos acaban logrando que convivan Vivaldi y Earth Wind and Fire, la elocuencia y la hilaridad, los trajes de etiqueta y el chándal. Dos mundos enfrentados que, poco a poco, congenian hasta forjar una amistad tan disparatada, divertida y sólida como inesperada, una relación única en su especie de la que saltan chispas. (FILMAFFINITY)"
      ],
      "text/plain": [
       "<IPython.core.display.HTML object>"
      ]
     },
     "metadata": {},
     "output_type": "display_data"
    },
    {
     "data": {
      "text/html": [
       "<hr/>"
      ],
      "text/plain": [
       "<IPython.core.display.HTML object>"
      ]
     },
     "metadata": {},
     "output_type": "display_data"
    },
    {
     "data": {
      "text/html": [
       "<h2>Annie Hall</h2>"
      ],
      "text/plain": [
       "<IPython.core.display.HTML object>"
      ]
     },
     "metadata": {},
     "output_type": "display_data"
    },
    {
     "data": {
      "text/html": [
       "<img src=\"https://pics.filmaffinity.com/annie_hall-798503064-mmed.jpg\" />"
      ],
      "text/plain": [
       "<IPython.core.display.HTML object>"
      ]
     },
     "metadata": {},
     "output_type": "display_data"
    },
    {
     "data": {
      "text/html": [
       "<b>Género:</b> Romance.                 Comedia |                 Comedia romántica"
      ],
      "text/plain": [
       "<IPython.core.display.HTML object>"
      ]
     },
     "metadata": {},
     "output_type": "display_data"
    },
    {
     "data": {
      "text/html": [
       "<b>Sinopsis:</b> Alvy Singer, un cuarentón bastante neurótico, trabaja como humorista en clubs nocturnos. Tras romper con Annie, reflexiona sobre su vida, rememorando sus amores, sus matrimonios, pero sobre todo su relación con Annie. Al final, llega a la conclusión de que son sus manías y obsesiones las que siempre acaban arruinando su relación con las mujeres. (FILMAFFINITY)"
      ],
      "text/plain": [
       "<IPython.core.display.HTML object>"
      ]
     },
     "metadata": {},
     "output_type": "display_data"
    },
    {
     "data": {
      "text/html": [
       "<hr/>"
      ],
      "text/plain": [
       "<IPython.core.display.HTML object>"
      ]
     },
     "metadata": {},
     "output_type": "display_data"
    },
    {
     "data": {
      "text/html": [
       "<h2>The Philadelphia Story</h2>"
      ],
      "text/plain": [
       "<IPython.core.display.HTML object>"
      ]
     },
     "metadata": {},
     "output_type": "display_data"
    },
    {
     "data": {
      "text/html": [
       "<img src=\"https://pics.filmaffinity.com/the_philadelphia_story-569220090-mmed.jpg\" />"
      ],
      "text/plain": [
       "<IPython.core.display.HTML object>"
      ]
     },
     "metadata": {},
     "output_type": "display_data"
    },
    {
     "data": {
      "text/html": [
       "<b>Género:</b> Comedia.                 Romance |                 Comedia romántica.                 Comedia screwball.                 Comedia sofisticada.                 Bodas"
      ],
      "text/plain": [
       "<IPython.core.display.HTML object>"
      ]
     },
     "metadata": {},
     "output_type": "display_data"
    },
    {
     "data": {
      "text/html": [
       "<b>Sinopsis:</b> La mansión de los Lord se prepara para celebrar la segunda boda de Tracy Lord (Katharine Hepburn) con el rico George Kittredge (John Howard). Para inmortalizar los festejos una pareja de periodistas, Macauley Connor (James Stewart) y Elizabeth Imbrie (Ruth Hussey), son invitados especialmente por C.K. Dexter Haven (Cary Grant), el primer marido de Tracy. (FILMAFFINITY)"
      ],
      "text/plain": [
       "<IPython.core.display.HTML object>"
      ]
     },
     "metadata": {},
     "output_type": "display_data"
    },
    {
     "data": {
      "text/html": [
       "<hr/>"
      ],
      "text/plain": [
       "<IPython.core.display.HTML object>"
      ]
     },
     "metadata": {},
     "output_type": "display_data"
    },
    {
     "data": {
      "text/html": [
       "<h2>The Shop Around the Corner</h2>"
      ],
      "text/plain": [
       "<IPython.core.display.HTML object>"
      ]
     },
     "metadata": {},
     "output_type": "display_data"
    },
    {
     "data": {
      "text/html": [
       "<img src=\"https://pics.filmaffinity.com/the_shop_around_the_corner-738458686-mmed.jpg\" />"
      ],
      "text/plain": [
       "<IPython.core.display.HTML object>"
      ]
     },
     "metadata": {},
     "output_type": "display_data"
    },
    {
     "data": {
      "text/html": [
       "<b>Género:</b> Romance.                 Comedia |                 Comedia romántica"
      ],
      "text/plain": [
       "<IPython.core.display.HTML object>"
      ]
     },
     "metadata": {},
     "output_type": "display_data"
    },
    {
     "data": {
      "text/html": [
       "<b>Sinopsis:</b> Alfred Kralik es el tímido jefe de vendedores de Matuschek y Compañía, una tienda de Budapest. Todas las mañanas, los empleados esperan juntos la llegada de su jefe, Hugo Matuschek. A pesar de su timidez, Alfred responde al anuncio de un periódico y mantiene un romance por carta. Su jefe decide contratar a una tal Klara Novak en contra de la opinión de Alfred. En el trabajo, Alfred discute constantemente con ella, sin sospechar que es su corresponsal secreta. (FILMAFFINITY)"
      ],
      "text/plain": [
       "<IPython.core.display.HTML object>"
      ]
     },
     "metadata": {},
     "output_type": "display_data"
    },
    {
     "data": {
      "text/html": [
       "<hr/>"
      ],
      "text/plain": [
       "<IPython.core.display.HTML object>"
      ]
     },
     "metadata": {},
     "output_type": "display_data"
    },
    {
     "data": {
      "text/html": [
       "<h2>The Circus</h2>"
      ],
      "text/plain": [
       "<IPython.core.display.HTML object>"
      ]
     },
     "metadata": {},
     "output_type": "display_data"
    },
    {
     "data": {
      "text/html": [
       "<img src=\"https://pics.filmaffinity.com/the_circus-346916887-mmed.jpg\" />"
      ],
      "text/plain": [
       "<IPython.core.display.HTML object>"
      ]
     },
     "metadata": {},
     "output_type": "display_data"
    },
    {
     "data": {
      "text/html": [
       "<b>Género:</b> Comedia |                 Cine mudo.                 Circo"
      ],
      "text/plain": [
       "<IPython.core.display.HTML object>"
      ]
     },
     "metadata": {},
     "output_type": "display_data"
    },
    {
     "data": {
      "text/html": [
       "<b>Sinopsis:</b> Último film mudo de Chaplin. El vagabundo Charlot viaja con un circo ambulante y se enamora de una mujer jinete que está enamorada de un musculoso trapecista. Mientras tanto, le suceden mil y una peripecias. (FILMAFFINITY)"
      ],
      "text/plain": [
       "<IPython.core.display.HTML object>"
      ]
     },
     "metadata": {},
     "output_type": "display_data"
    },
    {
     "data": {
      "text/html": [
       "<hr/>"
      ],
      "text/plain": [
       "<IPython.core.display.HTML object>"
      ]
     },
     "metadata": {},
     "output_type": "display_data"
    },
    {
     "data": {
      "text/html": [
       "<h2>Keeping Up Appearances</h2>"
      ],
      "text/plain": [
       "<IPython.core.display.HTML object>"
      ]
     },
     "metadata": {},
     "output_type": "display_data"
    },
    {
     "data": {
      "text/html": [
       "<img src=\"https://pics.filmaffinity.com/keeping_up_appearances_tv_series-110907688-mmed.jpg\" />"
      ],
      "text/plain": [
       "<IPython.core.display.HTML object>"
      ]
     },
     "metadata": {},
     "output_type": "display_data"
    },
    {
     "data": {
      "text/html": [
       "<b>Género:</b> Serie de TV.                 Comedia |                 Sitcom"
      ],
      "text/plain": [
       "<IPython.core.display.HTML object>"
      ]
     },
     "metadata": {},
     "output_type": "display_data"
    },
    {
     "data": {
      "text/html": [
       "<b>Sinopsis:</b> Serie de TV (1990-1995)."
      ],
      "text/plain": [
       "<IPython.core.display.HTML object>"
      ]
     },
     "metadata": {},
     "output_type": "display_data"
    },
    {
     "data": {
      "text/html": [
       "<hr/>"
      ],
      "text/plain": [
       "<IPython.core.display.HTML object>"
      ]
     },
     "metadata": {},
     "output_type": "display_data"
    }
   ],
   "source": [
    "from bs4 import BeautifulSoup\n",
    "import requests\n",
    "import json\n",
    "from IPython.display import display, HTML\n",
    "\n",
    "movies_data = []\n",
    "\n",
    "with open('urls.txt', 'r') as f:\n",
    "    urls = f.readlines()\n",
    "\n",
    "for url in urls:\n",
    "    response = requests.get(url.strip())\n",
    "    soup = BeautifulSoup(response.content, 'html.parser')\n",
    "\n",
    "    # extraer información de la película\n",
    "    original_title = soup.find('dt', string='Título original').find_next_sibling('dd').text.strip()\n",
    "    genre = soup.find('dt', string='Género').find_next_sibling('dd').text.strip()\n",
    "    synopsis = soup.find('dt', string='Sinopsis').find_next_sibling('dd').text.strip()\n",
    "    image_url = soup.find('img', {'itemprop': 'image'})['src']\n",
    "\n",
    "    movie_info = {\n",
    "        'original_title': original_title,\n",
    "        'genre': genre,\n",
    "        'synopsis': synopsis,\n",
    "        'image_url': image_url\n",
    "    }\n",
    "\n",
    "    movies_data.append(movie_info)\n",
    "\n",
    "    # imprimir información de la película\n",
    "    display(HTML(f'<h2>{original_title}</h2>'))\n",
    "    display(HTML(f'<img src=\"{image_url}\" />'))\n",
    "    display(HTML(f'<b>Género:</b> {genre}'))\n",
    "    display(HTML(f'<b>Sinopsis:</b> {synopsis}'))\n",
    "    display(HTML('<hr/>'))\n",
    "\n",
    "# guardar la lista de películas en un archivo JSON\n",
    "with open('movies.json', 'w') as f:\n",
    "    json.dump(movies_data, f)"
   ]
  }
 ],
 "metadata": {
  "kernelspec": {
   "display_name": "notebook-clase",
   "language": "python",
   "name": "python3"
  },
  "language_info": {
   "codemirror_mode": {
    "name": "ipython",
    "version": 3
   },
   "file_extension": ".py",
   "mimetype": "text/x-python",
   "name": "python",
   "nbconvert_exporter": "python",
   "pygments_lexer": "ipython3",
   "version": "3.9.13"
  },
  "orig_nbformat": 4,
  "vscode": {
   "interpreter": {
    "hash": "9924992715d8bd8e59bdaf3f544ecff5807071578fbd7457774ffc10cb484eeb"
   }
  }
 },
 "nbformat": 4,
 "nbformat_minor": 2
}
